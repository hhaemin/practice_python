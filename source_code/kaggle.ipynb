{
 "cells": [
  {
   "attachments": {},
   "cell_type": "markdown",
   "metadata": {},
   "source": [
    "# Analysis Seoul CCTV"
   ]
  },
  {
   "attachments": {},
   "cell_type": "markdown",
   "metadata": {},
   "source": [
    "## 1. 데이터 읽기"
   ]
  },
  {
   "cell_type": "code",
   "execution_count": 1,
   "metadata": {},
   "outputs": [],
   "source": [
    "import pandas as pd"
   ]
  },
  {
   "cell_type": "code",
   "execution_count": 2,
   "metadata": {},
   "outputs": [
    {
     "data": {
      "text/html": [
       "<div>\n",
       "<style scoped>\n",
       "    .dataframe tbody tr th:only-of-type {\n",
       "        vertical-align: middle;\n",
       "    }\n",
       "\n",
       "    .dataframe tbody tr th {\n",
       "        vertical-align: top;\n",
       "    }\n",
       "\n",
       "    .dataframe thead th {\n",
       "        text-align: right;\n",
       "    }\n",
       "</style>\n",
       "<table border=\"1\" class=\"dataframe\">\n",
       "  <thead>\n",
       "    <tr style=\"text-align: right;\">\n",
       "      <th></th>\n",
       "      <th>기관명</th>\n",
       "      <th>소계</th>\n",
       "      <th>2013년도 이전</th>\n",
       "      <th>2014년</th>\n",
       "      <th>2015년</th>\n",
       "      <th>2016년</th>\n",
       "    </tr>\n",
       "  </thead>\n",
       "  <tbody>\n",
       "    <tr>\n",
       "      <th>0</th>\n",
       "      <td>강남구</td>\n",
       "      <td>3238</td>\n",
       "      <td>1292</td>\n",
       "      <td>430</td>\n",
       "      <td>584</td>\n",
       "      <td>932</td>\n",
       "    </tr>\n",
       "    <tr>\n",
       "      <th>1</th>\n",
       "      <td>강동구</td>\n",
       "      <td>1010</td>\n",
       "      <td>379</td>\n",
       "      <td>99</td>\n",
       "      <td>155</td>\n",
       "      <td>377</td>\n",
       "    </tr>\n",
       "    <tr>\n",
       "      <th>2</th>\n",
       "      <td>강북구</td>\n",
       "      <td>831</td>\n",
       "      <td>369</td>\n",
       "      <td>120</td>\n",
       "      <td>138</td>\n",
       "      <td>204</td>\n",
       "    </tr>\n",
       "    <tr>\n",
       "      <th>3</th>\n",
       "      <td>강서구</td>\n",
       "      <td>911</td>\n",
       "      <td>388</td>\n",
       "      <td>258</td>\n",
       "      <td>184</td>\n",
       "      <td>81</td>\n",
       "    </tr>\n",
       "    <tr>\n",
       "      <th>4</th>\n",
       "      <td>관악구</td>\n",
       "      <td>2109</td>\n",
       "      <td>846</td>\n",
       "      <td>260</td>\n",
       "      <td>390</td>\n",
       "      <td>613</td>\n",
       "    </tr>\n",
       "  </tbody>\n",
       "</table>\n",
       "</div>"
      ],
      "text/plain": [
       "   기관명    소계  2013년도 이전  2014년  2015년  2016년\n",
       "0  강남구  3238       1292    430    584    932\n",
       "1  강동구  1010        379     99    155    377\n",
       "2  강북구   831        369    120    138    204\n",
       "3  강서구   911        388    258    184     81\n",
       "4  관악구  2109        846    260    390    613"
      ]
     },
     "execution_count": 2,
     "metadata": {},
     "output_type": "execute_result"
    }
   ],
   "source": [
    "CCTV_Seoul = pd.read_csv(\"../data/01. Seoul_CCTV.csv\")\n",
    "CCTV_Seoul.head()"
   ]
  },
  {
   "cell_type": "code",
   "execution_count": 4,
   "metadata": {},
   "outputs": [
    {
     "data": {
      "text/plain": [
       "Index(['기관명', '소계', '2013년도 이전', '2014년', '2015년', '2016년'], dtype='object')"
      ]
     },
     "execution_count": 4,
     "metadata": {},
     "output_type": "execute_result"
    }
   ],
   "source": [
    "CCTV_Seoul.columns"
   ]
  },
  {
   "cell_type": "code",
   "execution_count": 5,
   "metadata": {},
   "outputs": [
    {
     "data": {
      "text/plain": [
       "'기관명'"
      ]
     },
     "execution_count": 5,
     "metadata": {},
     "output_type": "execute_result"
    }
   ],
   "source": [
    "CCTV_Seoul.columns[0]"
   ]
  },
  {
   "cell_type": "code",
   "execution_count": 7,
   "metadata": {},
   "outputs": [
    {
     "data": {
      "text/html": [
       "<div>\n",
       "<style scoped>\n",
       "    .dataframe tbody tr th:only-of-type {\n",
       "        vertical-align: middle;\n",
       "    }\n",
       "\n",
       "    .dataframe tbody tr th {\n",
       "        vertical-align: top;\n",
       "    }\n",
       "\n",
       "    .dataframe thead th {\n",
       "        text-align: right;\n",
       "    }\n",
       "</style>\n",
       "<table border=\"1\" class=\"dataframe\">\n",
       "  <thead>\n",
       "    <tr style=\"text-align: right;\">\n",
       "      <th></th>\n",
       "      <th>구별</th>\n",
       "      <th>소계</th>\n",
       "      <th>2013년도 이전</th>\n",
       "      <th>2014년</th>\n",
       "      <th>2015년</th>\n",
       "      <th>2016년</th>\n",
       "    </tr>\n",
       "  </thead>\n",
       "  <tbody>\n",
       "    <tr>\n",
       "      <th>0</th>\n",
       "      <td>강남구</td>\n",
       "      <td>3238</td>\n",
       "      <td>1292</td>\n",
       "      <td>430</td>\n",
       "      <td>584</td>\n",
       "      <td>932</td>\n",
       "    </tr>\n",
       "    <tr>\n",
       "      <th>1</th>\n",
       "      <td>강동구</td>\n",
       "      <td>1010</td>\n",
       "      <td>379</td>\n",
       "      <td>99</td>\n",
       "      <td>155</td>\n",
       "      <td>377</td>\n",
       "    </tr>\n",
       "    <tr>\n",
       "      <th>2</th>\n",
       "      <td>강북구</td>\n",
       "      <td>831</td>\n",
       "      <td>369</td>\n",
       "      <td>120</td>\n",
       "      <td>138</td>\n",
       "      <td>204</td>\n",
       "    </tr>\n",
       "    <tr>\n",
       "      <th>3</th>\n",
       "      <td>강서구</td>\n",
       "      <td>911</td>\n",
       "      <td>388</td>\n",
       "      <td>258</td>\n",
       "      <td>184</td>\n",
       "      <td>81</td>\n",
       "    </tr>\n",
       "    <tr>\n",
       "      <th>4</th>\n",
       "      <td>관악구</td>\n",
       "      <td>2109</td>\n",
       "      <td>846</td>\n",
       "      <td>260</td>\n",
       "      <td>390</td>\n",
       "      <td>613</td>\n",
       "    </tr>\n",
       "  </tbody>\n",
       "</table>\n",
       "</div>"
      ],
      "text/plain": [
       "    구별    소계  2013년도 이전  2014년  2015년  2016년\n",
       "0  강남구  3238       1292    430    584    932\n",
       "1  강동구  1010        379     99    155    377\n",
       "2  강북구   831        369    120    138    204\n",
       "3  강서구   911        388    258    184     81\n",
       "4  관악구  2109        846    260    390    613"
      ]
     },
     "execution_count": 7,
     "metadata": {},
     "output_type": "execute_result"
    }
   ],
   "source": [
    "CCTV_Seoul.rename(columns={CCTV_Seoul.columns[0]: \"구별\"}, inplace=True)\n",
    "CCTV_Seoul.head()"
   ]
  },
  {
   "cell_type": "code",
   "execution_count": 8,
   "metadata": {},
   "outputs": [
    {
     "data": {
      "text/html": [
       "<div>\n",
       "<style scoped>\n",
       "    .dataframe tbody tr th:only-of-type {\n",
       "        vertical-align: middle;\n",
       "    }\n",
       "\n",
       "    .dataframe tbody tr th {\n",
       "        vertical-align: top;\n",
       "    }\n",
       "\n",
       "    .dataframe thead th {\n",
       "        text-align: right;\n",
       "    }\n",
       "</style>\n",
       "<table border=\"1\" class=\"dataframe\">\n",
       "  <thead>\n",
       "    <tr style=\"text-align: right;\">\n",
       "      <th></th>\n",
       "      <th>기간</th>\n",
       "      <th>자치구</th>\n",
       "      <th>세대</th>\n",
       "      <th>인구</th>\n",
       "      <th>인구.1</th>\n",
       "      <th>인구.2</th>\n",
       "      <th>인구.3</th>\n",
       "      <th>인구.4</th>\n",
       "      <th>인구.5</th>\n",
       "      <th>인구.6</th>\n",
       "      <th>인구.7</th>\n",
       "      <th>인구.8</th>\n",
       "      <th>세대당인구</th>\n",
       "      <th>65세이상고령자</th>\n",
       "    </tr>\n",
       "  </thead>\n",
       "  <tbody>\n",
       "    <tr>\n",
       "      <th>0</th>\n",
       "      <td>기간</td>\n",
       "      <td>자치구</td>\n",
       "      <td>세대</td>\n",
       "      <td>합계</td>\n",
       "      <td>합계</td>\n",
       "      <td>합계</td>\n",
       "      <td>한국인</td>\n",
       "      <td>한국인</td>\n",
       "      <td>한국인</td>\n",
       "      <td>등록외국인</td>\n",
       "      <td>등록외국인</td>\n",
       "      <td>등록외국인</td>\n",
       "      <td>세대당인구</td>\n",
       "      <td>65세이상고령자</td>\n",
       "    </tr>\n",
       "    <tr>\n",
       "      <th>1</th>\n",
       "      <td>기간</td>\n",
       "      <td>자치구</td>\n",
       "      <td>세대</td>\n",
       "      <td>계</td>\n",
       "      <td>남자</td>\n",
       "      <td>여자</td>\n",
       "      <td>계</td>\n",
       "      <td>남자</td>\n",
       "      <td>여자</td>\n",
       "      <td>계</td>\n",
       "      <td>남자</td>\n",
       "      <td>여자</td>\n",
       "      <td>세대당인구</td>\n",
       "      <td>65세이상고령자</td>\n",
       "    </tr>\n",
       "    <tr>\n",
       "      <th>2</th>\n",
       "      <td>2017</td>\n",
       "      <td>합계</td>\n",
       "      <td>4220082</td>\n",
       "      <td>10124579</td>\n",
       "      <td>4957857</td>\n",
       "      <td>5166722</td>\n",
       "      <td>9857426</td>\n",
       "      <td>4830206</td>\n",
       "      <td>5027220</td>\n",
       "      <td>267153</td>\n",
       "      <td>127651</td>\n",
       "      <td>139502</td>\n",
       "      <td>2.34</td>\n",
       "      <td>1365126</td>\n",
       "    </tr>\n",
       "    <tr>\n",
       "      <th>3</th>\n",
       "      <td>2017</td>\n",
       "      <td>종로구</td>\n",
       "      <td>73594</td>\n",
       "      <td>164257</td>\n",
       "      <td>80094</td>\n",
       "      <td>84163</td>\n",
       "      <td>154770</td>\n",
       "      <td>75967</td>\n",
       "      <td>78803</td>\n",
       "      <td>9487</td>\n",
       "      <td>4127</td>\n",
       "      <td>5360</td>\n",
       "      <td>2.1</td>\n",
       "      <td>26182</td>\n",
       "    </tr>\n",
       "    <tr>\n",
       "      <th>4</th>\n",
       "      <td>2017</td>\n",
       "      <td>중구</td>\n",
       "      <td>60412</td>\n",
       "      <td>134593</td>\n",
       "      <td>66337</td>\n",
       "      <td>68256</td>\n",
       "      <td>125709</td>\n",
       "      <td>62253</td>\n",
       "      <td>63456</td>\n",
       "      <td>8884</td>\n",
       "      <td>4084</td>\n",
       "      <td>4800</td>\n",
       "      <td>2.08</td>\n",
       "      <td>21384</td>\n",
       "    </tr>\n",
       "  </tbody>\n",
       "</table>\n",
       "</div>"
      ],
      "text/plain": [
       "     기간  자치구       세대        인구     인구.1     인구.2     인구.3     인구.4     인구.5  \\\n",
       "0    기간  자치구       세대        합계       합계       합계      한국인      한국인      한국인   \n",
       "1    기간  자치구       세대         계       남자       여자        계       남자       여자   \n",
       "2  2017   합계  4220082  10124579  4957857  5166722  9857426  4830206  5027220   \n",
       "3  2017  종로구    73594    164257    80094    84163   154770    75967    78803   \n",
       "4  2017   중구    60412    134593    66337    68256   125709    62253    63456   \n",
       "\n",
       "     인구.6    인구.7    인구.8  세대당인구  65세이상고령자  \n",
       "0   등록외국인   등록외국인   등록외국인  세대당인구  65세이상고령자  \n",
       "1       계      남자      여자  세대당인구  65세이상고령자  \n",
       "2  267153  127651  139502   2.34   1365126  \n",
       "3    9487    4127    5360    2.1     26182  \n",
       "4    8884    4084    4800   2.08     21384  "
      ]
     },
     "execution_count": 8,
     "metadata": {},
     "output_type": "execute_result"
    }
   ],
   "source": [
    "pop_Seoul = pd.read_excel(\"../data/01. Seoul_Population.xls\")\n",
    "pop_Seoul.head()"
   ]
  },
  {
   "cell_type": "code",
   "execution_count": 9,
   "metadata": {},
   "outputs": [
    {
     "data": {
      "text/html": [
       "<div>\n",
       "<style scoped>\n",
       "    .dataframe tbody tr th:only-of-type {\n",
       "        vertical-align: middle;\n",
       "    }\n",
       "\n",
       "    .dataframe tbody tr th {\n",
       "        vertical-align: top;\n",
       "    }\n",
       "\n",
       "    .dataframe thead th {\n",
       "        text-align: right;\n",
       "    }\n",
       "</style>\n",
       "<table border=\"1\" class=\"dataframe\">\n",
       "  <thead>\n",
       "    <tr style=\"text-align: right;\">\n",
       "      <th></th>\n",
       "      <th>자치구</th>\n",
       "      <th>계</th>\n",
       "      <th>계.1</th>\n",
       "      <th>계.2</th>\n",
       "      <th>65세이상고령자</th>\n",
       "    </tr>\n",
       "  </thead>\n",
       "  <tbody>\n",
       "    <tr>\n",
       "      <th>0</th>\n",
       "      <td>합계</td>\n",
       "      <td>10124579</td>\n",
       "      <td>9857426</td>\n",
       "      <td>267153</td>\n",
       "      <td>1365126</td>\n",
       "    </tr>\n",
       "    <tr>\n",
       "      <th>1</th>\n",
       "      <td>종로구</td>\n",
       "      <td>164257</td>\n",
       "      <td>154770</td>\n",
       "      <td>9487</td>\n",
       "      <td>26182</td>\n",
       "    </tr>\n",
       "    <tr>\n",
       "      <th>2</th>\n",
       "      <td>중구</td>\n",
       "      <td>134593</td>\n",
       "      <td>125709</td>\n",
       "      <td>8884</td>\n",
       "      <td>21384</td>\n",
       "    </tr>\n",
       "    <tr>\n",
       "      <th>3</th>\n",
       "      <td>용산구</td>\n",
       "      <td>244444</td>\n",
       "      <td>229161</td>\n",
       "      <td>15283</td>\n",
       "      <td>36882</td>\n",
       "    </tr>\n",
       "    <tr>\n",
       "      <th>4</th>\n",
       "      <td>성동구</td>\n",
       "      <td>312711</td>\n",
       "      <td>304808</td>\n",
       "      <td>7903</td>\n",
       "      <td>41273</td>\n",
       "    </tr>\n",
       "  </tbody>\n",
       "</table>\n",
       "</div>"
      ],
      "text/plain": [
       "   자치구         계      계.1     계.2  65세이상고령자\n",
       "0   합계  10124579  9857426  267153   1365126\n",
       "1  종로구    164257   154770    9487     26182\n",
       "2   중구    134593   125709    8884     21384\n",
       "3  용산구    244444   229161   15283     36882\n",
       "4  성동구    312711   304808    7903     41273"
      ]
     },
     "execution_count": 9,
     "metadata": {},
     "output_type": "execute_result"
    }
   ],
   "source": [
    "pop_Seoul = pd.read_excel(\n",
    "    \"../data/01. Seoul_Population.xls\", header=2, usecols=\"B, D, G, J, N\")\n",
    "pop_Seoul.head()"
   ]
  },
  {
   "cell_type": "code",
   "execution_count": 10,
   "metadata": {},
   "outputs": [
    {
     "data": {
      "text/html": [
       "<div>\n",
       "<style scoped>\n",
       "    .dataframe tbody tr th:only-of-type {\n",
       "        vertical-align: middle;\n",
       "    }\n",
       "\n",
       "    .dataframe tbody tr th {\n",
       "        vertical-align: top;\n",
       "    }\n",
       "\n",
       "    .dataframe thead th {\n",
       "        text-align: right;\n",
       "    }\n",
       "</style>\n",
       "<table border=\"1\" class=\"dataframe\">\n",
       "  <thead>\n",
       "    <tr style=\"text-align: right;\">\n",
       "      <th></th>\n",
       "      <th>구별</th>\n",
       "      <th>인구수</th>\n",
       "      <th>한국인</th>\n",
       "      <th>외국인</th>\n",
       "      <th>고령자</th>\n",
       "    </tr>\n",
       "  </thead>\n",
       "  <tbody>\n",
       "    <tr>\n",
       "      <th>0</th>\n",
       "      <td>합계</td>\n",
       "      <td>10124579</td>\n",
       "      <td>9857426</td>\n",
       "      <td>267153</td>\n",
       "      <td>1365126</td>\n",
       "    </tr>\n",
       "    <tr>\n",
       "      <th>1</th>\n",
       "      <td>종로구</td>\n",
       "      <td>164257</td>\n",
       "      <td>154770</td>\n",
       "      <td>9487</td>\n",
       "      <td>26182</td>\n",
       "    </tr>\n",
       "    <tr>\n",
       "      <th>2</th>\n",
       "      <td>중구</td>\n",
       "      <td>134593</td>\n",
       "      <td>125709</td>\n",
       "      <td>8884</td>\n",
       "      <td>21384</td>\n",
       "    </tr>\n",
       "    <tr>\n",
       "      <th>3</th>\n",
       "      <td>용산구</td>\n",
       "      <td>244444</td>\n",
       "      <td>229161</td>\n",
       "      <td>15283</td>\n",
       "      <td>36882</td>\n",
       "    </tr>\n",
       "    <tr>\n",
       "      <th>4</th>\n",
       "      <td>성동구</td>\n",
       "      <td>312711</td>\n",
       "      <td>304808</td>\n",
       "      <td>7903</td>\n",
       "      <td>41273</td>\n",
       "    </tr>\n",
       "  </tbody>\n",
       "</table>\n",
       "</div>"
      ],
      "text/plain": [
       "    구별       인구수      한국인     외국인      고령자\n",
       "0   합계  10124579  9857426  267153  1365126\n",
       "1  종로구    164257   154770    9487    26182\n",
       "2   중구    134593   125709    8884    21384\n",
       "3  용산구    244444   229161   15283    36882\n",
       "4  성동구    312711   304808    7903    41273"
      ]
     },
     "execution_count": 10,
     "metadata": {},
     "output_type": "execute_result"
    }
   ],
   "source": [
    "pop_Seoul.rename(\n",
    "    columns={\n",
    "        pop_Seoul.columns[0]: \"구별\",\n",
    "        pop_Seoul.columns[1]: \"인구수\",\n",
    "        pop_Seoul.columns[2]: \"한국인\",\n",
    "        pop_Seoul.columns[3]: \"외국인\",\n",
    "        pop_Seoul.columns[4]: \"고령자\"\n",
    "    },\n",
    "    inplace=True\n",
    ")\n",
    "pop_Seoul.head()"
   ]
  },
  {
   "attachments": {},
   "cell_type": "markdown",
   "metadata": {},
   "source": [
    "## Pandas 기초\n",
    "- Python에서 R만큼의 강력한 데이터 핸들링 성능을 제공하는 모듈\n",
    "- 단일 프로세스에서는 최대 효율\n",
    "- 코딩 가능하고 응용 가능한 엑셀로 받아들여도 됨\n",
    "- 누군가 스테로이드를 맞은 엑셀로 표현함"
   ]
  },
  {
   "attachments": {},
   "cell_type": "markdown",
   "metadata": {},
   "source": [
    "## Series\n",
    "- index와 value로 이루어져 있습니다\n",
    "- 한 가지 데이터 타입만 가질 수 있습니다"
   ]
  },
  {
   "cell_type": "code",
   "execution_count": 11,
   "metadata": {},
   "outputs": [],
   "source": [
    "import pandas as pd\n",
    "import numpy as np"
   ]
  },
  {
   "attachments": {},
   "cell_type": "markdown",
   "metadata": {},
   "source": [
    "- pandas는 통상 pd\n",
    "- numpy는 통상 np"
   ]
  },
  {
   "cell_type": "code",
   "execution_count": 12,
   "metadata": {},
   "outputs": [
    {
     "name": "stderr",
     "output_type": "stream",
     "text": [
      "/var/folders/v9/r_sm5t7x2t5gc1b5ry34_lj80000gn/T/ipykernel_53190/2031691219.py:1: FutureWarning: The default dtype for empty Series will be 'object' instead of 'float64' in a future version. Specify a dtype explicitly to silence this warning.\n",
      "  pd.Series()\n"
     ]
    },
    {
     "data": {
      "text/plain": [
       "Series([], dtype: float64)"
      ]
     },
     "execution_count": 12,
     "metadata": {},
     "output_type": "execute_result"
    }
   ],
   "source": [
    "pd.Series()"
   ]
  },
  {
   "cell_type": "code",
   "execution_count": 13,
   "metadata": {},
   "outputs": [
    {
     "data": {
      "text/plain": [
       "0    1\n",
       "1    2\n",
       "dtype: int64"
      ]
     },
     "execution_count": 13,
     "metadata": {},
     "output_type": "execute_result"
    }
   ],
   "source": [
    "pd.Series([1, 2])"
   ]
  },
  {
   "cell_type": "code",
   "execution_count": 14,
   "metadata": {},
   "outputs": [],
   "source": [
    "# pd.Series([1,2,3,4], dtype=float64)"
   ]
  },
  {
   "cell_type": "code",
   "execution_count": 15,
   "metadata": {},
   "outputs": [
    {
     "data": {
      "text/plain": [
       "0    1.0\n",
       "1    2.0\n",
       "2    3.0\n",
       "3    4.0\n",
       "dtype: float64"
      ]
     },
     "execution_count": 15,
     "metadata": {},
     "output_type": "execute_result"
    }
   ],
   "source": [
    "pd.Series([1,2,3,4], dtype=np.float64)"
   ]
  },
  {
   "cell_type": "code",
   "execution_count": 16,
   "metadata": {},
   "outputs": [
    {
     "data": {
      "text/plain": [
       "0    1\n",
       "1    2\n",
       "2    3\n",
       "3    4\n",
       "dtype: object"
      ]
     },
     "execution_count": 16,
     "metadata": {},
     "output_type": "execute_result"
    }
   ],
   "source": [
    "pd.Series([1,2,3,4], dtype=str)"
   ]
  },
  {
   "cell_type": "code",
   "execution_count": 17,
   "metadata": {},
   "outputs": [
    {
     "data": {
      "text/plain": [
       "0    1\n",
       "1    2\n",
       "2    3\n",
       "dtype: int64"
      ]
     },
     "execution_count": 17,
     "metadata": {},
     "output_type": "execute_result"
    }
   ],
   "source": [
    "pd.Series(np.array([1,2,3]))"
   ]
  },
  {
   "cell_type": "code",
   "execution_count": 18,
   "metadata": {},
   "outputs": [
    {
     "data": {
      "text/plain": [
       "Key    Value\n",
       "dtype: object"
      ]
     },
     "execution_count": 18,
     "metadata": {},
     "output_type": "execute_result"
    }
   ],
   "source": [
    "pd.Series({\"Key\" : \"Value\"})"
   ]
  },
  {
   "cell_type": "code",
   "execution_count": 19,
   "metadata": {},
   "outputs": [
    {
     "data": {
      "text/plain": [
       "0    1\n",
       "1    2\n",
       "2    3\n",
       "3    4\n",
       "4    5\n",
       "dtype: int64"
      ]
     },
     "execution_count": 19,
     "metadata": {},
     "output_type": "execute_result"
    }
   ],
   "source": [
    "data = pd.Series([1,2,3,4,5])\n",
    "data"
   ]
  },
  {
   "cell_type": "code",
   "execution_count": 20,
   "metadata": {},
   "outputs": [
    {
     "data": {
      "text/plain": [
       "0    1\n",
       "1    2\n",
       "2    3\n",
       "3    4\n",
       "4    5\n",
       "dtype: object"
      ]
     },
     "execution_count": 20,
     "metadata": {},
     "output_type": "execute_result"
    }
   ],
   "source": [
    "data = pd.Series([1,2,3,4,\"5\"])\n",
    "data"
   ]
  },
  {
   "cell_type": "code",
   "execution_count": 21,
   "metadata": {},
   "outputs": [],
   "source": [
    "# 짝수를 찾고 싶다\n",
    "# data % 2"
   ]
  },
  {
   "cell_type": "code",
   "execution_count": 22,
   "metadata": {},
   "outputs": [
    {
     "data": {
      "text/plain": [
       "0    1\n",
       "1    2\n",
       "2    3\n",
       "3    4\n",
       "dtype: int64"
      ]
     },
     "execution_count": 22,
     "metadata": {},
     "output_type": "execute_result"
    }
   ],
   "source": [
    "data = pd.Series([1,2,3,4])\n",
    "data"
   ]
  },
  {
   "cell_type": "code",
   "execution_count": 23,
   "metadata": {},
   "outputs": [
    {
     "data": {
      "text/plain": [
       "0    1\n",
       "1    0\n",
       "2    1\n",
       "3    0\n",
       "dtype: int64"
      ]
     },
     "execution_count": 23,
     "metadata": {},
     "output_type": "execute_result"
    }
   ],
   "source": [
    "data % 2"
   ]
  },
  {
   "attachments": {},
   "cell_type": "markdown",
   "metadata": {},
   "source": [
    "## 날짜 데이터"
   ]
  },
  {
   "cell_type": "code",
   "execution_count": 24,
   "metadata": {},
   "outputs": [
    {
     "data": {
      "text/plain": [
       "DatetimeIndex(['2021-01-01', '2021-01-02', '2021-01-03', '2021-01-04',\n",
       "               '2021-01-05', '2021-01-06'],\n",
       "              dtype='datetime64[ns]', freq='D')"
      ]
     },
     "execution_count": 24,
     "metadata": {},
     "output_type": "execute_result"
    }
   ],
   "source": [
    "datas = pd.date_range(\"20210101\", periods=6)\n",
    "datas"
   ]
  },
  {
   "attachments": {},
   "cell_type": "markdown",
   "metadata": {},
   "source": [
    "## DataFrame\n",
    "- pd.Series()\n",
    "    - index, value\n",
    "- pd.DataFrame()\n",
    "    - index, value, column"
   ]
  },
  {
   "cell_type": "code",
   "execution_count": 28,
   "metadata": {},
   "outputs": [
    {
     "data": {
      "text/plain": [
       "array([[-0.45273143, -0.5283522 , -0.70772044, -0.24439758],\n",
       "       [ 1.07944114, -0.22350853, -1.1032939 ,  0.01662763],\n",
       "       [-0.95372201, -0.38767368, -0.15660802, -1.19903491],\n",
       "       [ 1.03071193, -0.22950833,  0.05433118,  0.79213059],\n",
       "       [ 1.34678309, -0.41539131,  1.32199597, -0.73065527],\n",
       "       [ 0.38762561, -1.45856423, -0.60900547, -1.59371139]])"
      ]
     },
     "execution_count": 28,
     "metadata": {},
     "output_type": "execute_result"
    }
   ],
   "source": [
    "# 표준정규분포에서 샘플링한 난수 생성\n",
    "data = np.random.randn(6,4)\n",
    "data"
   ]
  },
  {
   "cell_type": "code",
   "execution_count": 30,
   "metadata": {},
   "outputs": [
    {
     "data": {
      "text/html": [
       "<div>\n",
       "<style scoped>\n",
       "    .dataframe tbody tr th:only-of-type {\n",
       "        vertical-align: middle;\n",
       "    }\n",
       "\n",
       "    .dataframe tbody tr th {\n",
       "        vertical-align: top;\n",
       "    }\n",
       "\n",
       "    .dataframe thead th {\n",
       "        text-align: right;\n",
       "    }\n",
       "</style>\n",
       "<table border=\"1\" class=\"dataframe\">\n",
       "  <thead>\n",
       "    <tr style=\"text-align: right;\">\n",
       "      <th></th>\n",
       "      <th>A</th>\n",
       "      <th>B</th>\n",
       "      <th>C</th>\n",
       "      <th>D</th>\n",
       "    </tr>\n",
       "  </thead>\n",
       "  <tbody>\n",
       "    <tr>\n",
       "      <th>2021-01-01</th>\n",
       "      <td>-0.452731</td>\n",
       "      <td>-0.528352</td>\n",
       "      <td>-0.707720</td>\n",
       "      <td>-0.244398</td>\n",
       "    </tr>\n",
       "    <tr>\n",
       "      <th>2021-01-02</th>\n",
       "      <td>1.079441</td>\n",
       "      <td>-0.223509</td>\n",
       "      <td>-1.103294</td>\n",
       "      <td>0.016628</td>\n",
       "    </tr>\n",
       "    <tr>\n",
       "      <th>2021-01-03</th>\n",
       "      <td>-0.953722</td>\n",
       "      <td>-0.387674</td>\n",
       "      <td>-0.156608</td>\n",
       "      <td>-1.199035</td>\n",
       "    </tr>\n",
       "    <tr>\n",
       "      <th>2021-01-04</th>\n",
       "      <td>1.030712</td>\n",
       "      <td>-0.229508</td>\n",
       "      <td>0.054331</td>\n",
       "      <td>0.792131</td>\n",
       "    </tr>\n",
       "    <tr>\n",
       "      <th>2021-01-05</th>\n",
       "      <td>1.346783</td>\n",
       "      <td>-0.415391</td>\n",
       "      <td>1.321996</td>\n",
       "      <td>-0.730655</td>\n",
       "    </tr>\n",
       "    <tr>\n",
       "      <th>2021-01-06</th>\n",
       "      <td>0.387626</td>\n",
       "      <td>-1.458564</td>\n",
       "      <td>-0.609005</td>\n",
       "      <td>-1.593711</td>\n",
       "    </tr>\n",
       "  </tbody>\n",
       "</table>\n",
       "</div>"
      ],
      "text/plain": [
       "                   A         B         C         D\n",
       "2021-01-01 -0.452731 -0.528352 -0.707720 -0.244398\n",
       "2021-01-02  1.079441 -0.223509 -1.103294  0.016628\n",
       "2021-01-03 -0.953722 -0.387674 -0.156608 -1.199035\n",
       "2021-01-04  1.030712 -0.229508  0.054331  0.792131\n",
       "2021-01-05  1.346783 -0.415391  1.321996 -0.730655\n",
       "2021-01-06  0.387626 -1.458564 -0.609005 -1.593711"
      ]
     },
     "execution_count": 30,
     "metadata": {},
     "output_type": "execute_result"
    }
   ],
   "source": [
    "df = pd.DataFrame(data, index=datas, columns=[\"A\",\"B\",\"C\",\"D\"])\n",
    "df"
   ]
  },
  {
   "attachments": {},
   "cell_type": "markdown",
   "metadata": {},
   "source": [
    "## 데이터 프레임 정보 탐색\n",
    "- df.head()"
   ]
  },
  {
   "cell_type": "code",
   "execution_count": 31,
   "metadata": {},
   "outputs": [
    {
     "data": {
      "text/html": [
       "<div>\n",
       "<style scoped>\n",
       "    .dataframe tbody tr th:only-of-type {\n",
       "        vertical-align: middle;\n",
       "    }\n",
       "\n",
       "    .dataframe tbody tr th {\n",
       "        vertical-align: top;\n",
       "    }\n",
       "\n",
       "    .dataframe thead th {\n",
       "        text-align: right;\n",
       "    }\n",
       "</style>\n",
       "<table border=\"1\" class=\"dataframe\">\n",
       "  <thead>\n",
       "    <tr style=\"text-align: right;\">\n",
       "      <th></th>\n",
       "      <th>A</th>\n",
       "      <th>B</th>\n",
       "      <th>C</th>\n",
       "      <th>D</th>\n",
       "    </tr>\n",
       "  </thead>\n",
       "  <tbody>\n",
       "    <tr>\n",
       "      <th>2021-01-01</th>\n",
       "      <td>-0.452731</td>\n",
       "      <td>-0.528352</td>\n",
       "      <td>-0.707720</td>\n",
       "      <td>-0.244398</td>\n",
       "    </tr>\n",
       "    <tr>\n",
       "      <th>2021-01-02</th>\n",
       "      <td>1.079441</td>\n",
       "      <td>-0.223509</td>\n",
       "      <td>-1.103294</td>\n",
       "      <td>0.016628</td>\n",
       "    </tr>\n",
       "    <tr>\n",
       "      <th>2021-01-03</th>\n",
       "      <td>-0.953722</td>\n",
       "      <td>-0.387674</td>\n",
       "      <td>-0.156608</td>\n",
       "      <td>-1.199035</td>\n",
       "    </tr>\n",
       "    <tr>\n",
       "      <th>2021-01-04</th>\n",
       "      <td>1.030712</td>\n",
       "      <td>-0.229508</td>\n",
       "      <td>0.054331</td>\n",
       "      <td>0.792131</td>\n",
       "    </tr>\n",
       "    <tr>\n",
       "      <th>2021-01-05</th>\n",
       "      <td>1.346783</td>\n",
       "      <td>-0.415391</td>\n",
       "      <td>1.321996</td>\n",
       "      <td>-0.730655</td>\n",
       "    </tr>\n",
       "  </tbody>\n",
       "</table>\n",
       "</div>"
      ],
      "text/plain": [
       "                   A         B         C         D\n",
       "2021-01-01 -0.452731 -0.528352 -0.707720 -0.244398\n",
       "2021-01-02  1.079441 -0.223509 -1.103294  0.016628\n",
       "2021-01-03 -0.953722 -0.387674 -0.156608 -1.199035\n",
       "2021-01-04  1.030712 -0.229508  0.054331  0.792131\n",
       "2021-01-05  1.346783 -0.415391  1.321996 -0.730655"
      ]
     },
     "execution_count": 31,
     "metadata": {},
     "output_type": "execute_result"
    }
   ],
   "source": [
    "df.head()"
   ]
  },
  {
   "attachments": {},
   "cell_type": "markdown",
   "metadata": {},
   "source": [
    "- df.tail()"
   ]
  },
  {
   "cell_type": "code",
   "execution_count": 32,
   "metadata": {},
   "outputs": [
    {
     "data": {
      "text/html": [
       "<div>\n",
       "<style scoped>\n",
       "    .dataframe tbody tr th:only-of-type {\n",
       "        vertical-align: middle;\n",
       "    }\n",
       "\n",
       "    .dataframe tbody tr th {\n",
       "        vertical-align: top;\n",
       "    }\n",
       "\n",
       "    .dataframe thead th {\n",
       "        text-align: right;\n",
       "    }\n",
       "</style>\n",
       "<table border=\"1\" class=\"dataframe\">\n",
       "  <thead>\n",
       "    <tr style=\"text-align: right;\">\n",
       "      <th></th>\n",
       "      <th>A</th>\n",
       "      <th>B</th>\n",
       "      <th>C</th>\n",
       "      <th>D</th>\n",
       "    </tr>\n",
       "  </thead>\n",
       "  <tbody>\n",
       "    <tr>\n",
       "      <th>2021-01-02</th>\n",
       "      <td>1.079441</td>\n",
       "      <td>-0.223509</td>\n",
       "      <td>-1.103294</td>\n",
       "      <td>0.016628</td>\n",
       "    </tr>\n",
       "    <tr>\n",
       "      <th>2021-01-03</th>\n",
       "      <td>-0.953722</td>\n",
       "      <td>-0.387674</td>\n",
       "      <td>-0.156608</td>\n",
       "      <td>-1.199035</td>\n",
       "    </tr>\n",
       "    <tr>\n",
       "      <th>2021-01-04</th>\n",
       "      <td>1.030712</td>\n",
       "      <td>-0.229508</td>\n",
       "      <td>0.054331</td>\n",
       "      <td>0.792131</td>\n",
       "    </tr>\n",
       "    <tr>\n",
       "      <th>2021-01-05</th>\n",
       "      <td>1.346783</td>\n",
       "      <td>-0.415391</td>\n",
       "      <td>1.321996</td>\n",
       "      <td>-0.730655</td>\n",
       "    </tr>\n",
       "    <tr>\n",
       "      <th>2021-01-06</th>\n",
       "      <td>0.387626</td>\n",
       "      <td>-1.458564</td>\n",
       "      <td>-0.609005</td>\n",
       "      <td>-1.593711</td>\n",
       "    </tr>\n",
       "  </tbody>\n",
       "</table>\n",
       "</div>"
      ],
      "text/plain": [
       "                   A         B         C         D\n",
       "2021-01-02  1.079441 -0.223509 -1.103294  0.016628\n",
       "2021-01-03 -0.953722 -0.387674 -0.156608 -1.199035\n",
       "2021-01-04  1.030712 -0.229508  0.054331  0.792131\n",
       "2021-01-05  1.346783 -0.415391  1.321996 -0.730655\n",
       "2021-01-06  0.387626 -1.458564 -0.609005 -1.593711"
      ]
     },
     "execution_count": 32,
     "metadata": {},
     "output_type": "execute_result"
    }
   ],
   "source": [
    "df.tail()"
   ]
  },
  {
   "attachments": {},
   "cell_type": "markdown",
   "metadata": {},
   "source": [
    "- df.index"
   ]
  },
  {
   "cell_type": "code",
   "execution_count": 33,
   "metadata": {},
   "outputs": [
    {
     "data": {
      "text/plain": [
       "DatetimeIndex(['2021-01-01', '2021-01-02', '2021-01-03', '2021-01-04',\n",
       "               '2021-01-05', '2021-01-06'],\n",
       "              dtype='datetime64[ns]', freq='D')"
      ]
     },
     "execution_count": 33,
     "metadata": {},
     "output_type": "execute_result"
    }
   ],
   "source": [
    "df.index"
   ]
  },
  {
   "cell_type": "code",
   "execution_count": 34,
   "metadata": {},
   "outputs": [
    {
     "data": {
      "text/plain": [
       "Index(['A', 'B', 'C', 'D'], dtype='object')"
      ]
     },
     "execution_count": 34,
     "metadata": {},
     "output_type": "execute_result"
    }
   ],
   "source": [
    "df.columns"
   ]
  },
  {
   "cell_type": "code",
   "execution_count": 35,
   "metadata": {},
   "outputs": [
    {
     "data": {
      "text/plain": [
       "array([[-0.45273143, -0.5283522 , -0.70772044, -0.24439758],\n",
       "       [ 1.07944114, -0.22350853, -1.1032939 ,  0.01662763],\n",
       "       [-0.95372201, -0.38767368, -0.15660802, -1.19903491],\n",
       "       [ 1.03071193, -0.22950833,  0.05433118,  0.79213059],\n",
       "       [ 1.34678309, -0.41539131,  1.32199597, -0.73065527],\n",
       "       [ 0.38762561, -1.45856423, -0.60900547, -1.59371139]])"
      ]
     },
     "execution_count": 35,
     "metadata": {},
     "output_type": "execute_result"
    }
   ],
   "source": [
    "df.values"
   ]
  },
  {
   "attachments": {},
   "cell_type": "markdown",
   "metadata": {},
   "source": [
    "- df.info() : 데이터 프레임의 기본 정보 확인"
   ]
  },
  {
   "cell_type": "code",
   "execution_count": 36,
   "metadata": {},
   "outputs": [
    {
     "name": "stdout",
     "output_type": "stream",
     "text": [
      "<class 'pandas.core.frame.DataFrame'>\n",
      "DatetimeIndex: 6 entries, 2021-01-01 to 2021-01-06\n",
      "Freq: D\n",
      "Data columns (total 4 columns):\n",
      " #   Column  Non-Null Count  Dtype  \n",
      "---  ------  --------------  -----  \n",
      " 0   A       6 non-null      float64\n",
      " 1   B       6 non-null      float64\n",
      " 2   C       6 non-null      float64\n",
      " 3   D       6 non-null      float64\n",
      "dtypes: float64(4)\n",
      "memory usage: 240.0 bytes\n"
     ]
    }
   ],
   "source": [
    "df.info()"
   ]
  },
  {
   "attachments": {},
   "cell_type": "markdown",
   "metadata": {},
   "source": [
    "- df.describe() : 데이터 프레임의 기술통계 정보 확인"
   ]
  },
  {
   "cell_type": "code",
   "execution_count": 37,
   "metadata": {},
   "outputs": [
    {
     "data": {
      "text/html": [
       "<div>\n",
       "<style scoped>\n",
       "    .dataframe tbody tr th:only-of-type {\n",
       "        vertical-align: middle;\n",
       "    }\n",
       "\n",
       "    .dataframe tbody tr th {\n",
       "        vertical-align: top;\n",
       "    }\n",
       "\n",
       "    .dataframe thead th {\n",
       "        text-align: right;\n",
       "    }\n",
       "</style>\n",
       "<table border=\"1\" class=\"dataframe\">\n",
       "  <thead>\n",
       "    <tr style=\"text-align: right;\">\n",
       "      <th></th>\n",
       "      <th>A</th>\n",
       "      <th>B</th>\n",
       "      <th>C</th>\n",
       "      <th>D</th>\n",
       "    </tr>\n",
       "  </thead>\n",
       "  <tbody>\n",
       "    <tr>\n",
       "      <th>count</th>\n",
       "      <td>6.000000</td>\n",
       "      <td>6.000000</td>\n",
       "      <td>6.000000</td>\n",
       "      <td>6.000000</td>\n",
       "    </tr>\n",
       "    <tr>\n",
       "      <th>mean</th>\n",
       "      <td>0.406351</td>\n",
       "      <td>-0.540500</td>\n",
       "      <td>-0.200050</td>\n",
       "      <td>-0.493173</td>\n",
       "    </tr>\n",
       "    <tr>\n",
       "      <th>std</th>\n",
       "      <td>0.929028</td>\n",
       "      <td>0.464585</td>\n",
       "      <td>0.851357</td>\n",
       "      <td>0.864825</td>\n",
       "    </tr>\n",
       "    <tr>\n",
       "      <th>min</th>\n",
       "      <td>-0.953722</td>\n",
       "      <td>-1.458564</td>\n",
       "      <td>-1.103294</td>\n",
       "      <td>-1.593711</td>\n",
       "    </tr>\n",
       "    <tr>\n",
       "      <th>25%</th>\n",
       "      <td>-0.242642</td>\n",
       "      <td>-0.500112</td>\n",
       "      <td>-0.683042</td>\n",
       "      <td>-1.081940</td>\n",
       "    </tr>\n",
       "    <tr>\n",
       "      <th>50%</th>\n",
       "      <td>0.709169</td>\n",
       "      <td>-0.401532</td>\n",
       "      <td>-0.382807</td>\n",
       "      <td>-0.487526</td>\n",
       "    </tr>\n",
       "    <tr>\n",
       "      <th>75%</th>\n",
       "      <td>1.067259</td>\n",
       "      <td>-0.269050</td>\n",
       "      <td>0.001596</td>\n",
       "      <td>-0.048629</td>\n",
       "    </tr>\n",
       "    <tr>\n",
       "      <th>max</th>\n",
       "      <td>1.346783</td>\n",
       "      <td>-0.223509</td>\n",
       "      <td>1.321996</td>\n",
       "      <td>0.792131</td>\n",
       "    </tr>\n",
       "  </tbody>\n",
       "</table>\n",
       "</div>"
      ],
      "text/plain": [
       "              A         B         C         D\n",
       "count  6.000000  6.000000  6.000000  6.000000\n",
       "mean   0.406351 -0.540500 -0.200050 -0.493173\n",
       "std    0.929028  0.464585  0.851357  0.864825\n",
       "min   -0.953722 -1.458564 -1.103294 -1.593711\n",
       "25%   -0.242642 -0.500112 -0.683042 -1.081940\n",
       "50%    0.709169 -0.401532 -0.382807 -0.487526\n",
       "75%    1.067259 -0.269050  0.001596 -0.048629\n",
       "max    1.346783 -0.223509  1.321996  0.792131"
      ]
     },
     "execution_count": 37,
     "metadata": {},
     "output_type": "execute_result"
    }
   ],
   "source": [
    "df.describe()"
   ]
  },
  {
   "attachments": {},
   "cell_type": "markdown",
   "metadata": {},
   "source": [
    "## 데이터 정렬\n",
    "- sort_values()\n",
    "- 특정 컬럼(열)을 기준으로 데이터를 정렬"
   ]
  },
  {
   "cell_type": "code",
   "execution_count": 38,
   "metadata": {},
   "outputs": [
    {
     "data": {
      "text/html": [
       "<div>\n",
       "<style scoped>\n",
       "    .dataframe tbody tr th:only-of-type {\n",
       "        vertical-align: middle;\n",
       "    }\n",
       "\n",
       "    .dataframe tbody tr th {\n",
       "        vertical-align: top;\n",
       "    }\n",
       "\n",
       "    .dataframe thead th {\n",
       "        text-align: right;\n",
       "    }\n",
       "</style>\n",
       "<table border=\"1\" class=\"dataframe\">\n",
       "  <thead>\n",
       "    <tr style=\"text-align: right;\">\n",
       "      <th></th>\n",
       "      <th>A</th>\n",
       "      <th>B</th>\n",
       "      <th>C</th>\n",
       "      <th>D</th>\n",
       "    </tr>\n",
       "  </thead>\n",
       "  <tbody>\n",
       "    <tr>\n",
       "      <th>2021-01-01</th>\n",
       "      <td>-0.452731</td>\n",
       "      <td>-0.528352</td>\n",
       "      <td>-0.707720</td>\n",
       "      <td>-0.244398</td>\n",
       "    </tr>\n",
       "    <tr>\n",
       "      <th>2021-01-02</th>\n",
       "      <td>1.079441</td>\n",
       "      <td>-0.223509</td>\n",
       "      <td>-1.103294</td>\n",
       "      <td>0.016628</td>\n",
       "    </tr>\n",
       "    <tr>\n",
       "      <th>2021-01-03</th>\n",
       "      <td>-0.953722</td>\n",
       "      <td>-0.387674</td>\n",
       "      <td>-0.156608</td>\n",
       "      <td>-1.199035</td>\n",
       "    </tr>\n",
       "    <tr>\n",
       "      <th>2021-01-04</th>\n",
       "      <td>1.030712</td>\n",
       "      <td>-0.229508</td>\n",
       "      <td>0.054331</td>\n",
       "      <td>0.792131</td>\n",
       "    </tr>\n",
       "    <tr>\n",
       "      <th>2021-01-05</th>\n",
       "      <td>1.346783</td>\n",
       "      <td>-0.415391</td>\n",
       "      <td>1.321996</td>\n",
       "      <td>-0.730655</td>\n",
       "    </tr>\n",
       "    <tr>\n",
       "      <th>2021-01-06</th>\n",
       "      <td>0.387626</td>\n",
       "      <td>-1.458564</td>\n",
       "      <td>-0.609005</td>\n",
       "      <td>-1.593711</td>\n",
       "    </tr>\n",
       "  </tbody>\n",
       "</table>\n",
       "</div>"
      ],
      "text/plain": [
       "                   A         B         C         D\n",
       "2021-01-01 -0.452731 -0.528352 -0.707720 -0.244398\n",
       "2021-01-02  1.079441 -0.223509 -1.103294  0.016628\n",
       "2021-01-03 -0.953722 -0.387674 -0.156608 -1.199035\n",
       "2021-01-04  1.030712 -0.229508  0.054331  0.792131\n",
       "2021-01-05  1.346783 -0.415391  1.321996 -0.730655\n",
       "2021-01-06  0.387626 -1.458564 -0.609005 -1.593711"
      ]
     },
     "execution_count": 38,
     "metadata": {},
     "output_type": "execute_result"
    }
   ],
   "source": [
    "df"
   ]
  },
  {
   "cell_type": "code",
   "execution_count": 39,
   "metadata": {},
   "outputs": [
    {
     "data": {
      "text/html": [
       "<div>\n",
       "<style scoped>\n",
       "    .dataframe tbody tr th:only-of-type {\n",
       "        vertical-align: middle;\n",
       "    }\n",
       "\n",
       "    .dataframe tbody tr th {\n",
       "        vertical-align: top;\n",
       "    }\n",
       "\n",
       "    .dataframe thead th {\n",
       "        text-align: right;\n",
       "    }\n",
       "</style>\n",
       "<table border=\"1\" class=\"dataframe\">\n",
       "  <thead>\n",
       "    <tr style=\"text-align: right;\">\n",
       "      <th></th>\n",
       "      <th>A</th>\n",
       "      <th>B</th>\n",
       "      <th>C</th>\n",
       "      <th>D</th>\n",
       "    </tr>\n",
       "  </thead>\n",
       "  <tbody>\n",
       "    <tr>\n",
       "      <th>2021-01-02</th>\n",
       "      <td>1.079441</td>\n",
       "      <td>-0.223509</td>\n",
       "      <td>-1.103294</td>\n",
       "      <td>0.016628</td>\n",
       "    </tr>\n",
       "    <tr>\n",
       "      <th>2021-01-04</th>\n",
       "      <td>1.030712</td>\n",
       "      <td>-0.229508</td>\n",
       "      <td>0.054331</td>\n",
       "      <td>0.792131</td>\n",
       "    </tr>\n",
       "    <tr>\n",
       "      <th>2021-01-03</th>\n",
       "      <td>-0.953722</td>\n",
       "      <td>-0.387674</td>\n",
       "      <td>-0.156608</td>\n",
       "      <td>-1.199035</td>\n",
       "    </tr>\n",
       "    <tr>\n",
       "      <th>2021-01-05</th>\n",
       "      <td>1.346783</td>\n",
       "      <td>-0.415391</td>\n",
       "      <td>1.321996</td>\n",
       "      <td>-0.730655</td>\n",
       "    </tr>\n",
       "    <tr>\n",
       "      <th>2021-01-01</th>\n",
       "      <td>-0.452731</td>\n",
       "      <td>-0.528352</td>\n",
       "      <td>-0.707720</td>\n",
       "      <td>-0.244398</td>\n",
       "    </tr>\n",
       "    <tr>\n",
       "      <th>2021-01-06</th>\n",
       "      <td>0.387626</td>\n",
       "      <td>-1.458564</td>\n",
       "      <td>-0.609005</td>\n",
       "      <td>-1.593711</td>\n",
       "    </tr>\n",
       "  </tbody>\n",
       "</table>\n",
       "</div>"
      ],
      "text/plain": [
       "                   A         B         C         D\n",
       "2021-01-02  1.079441 -0.223509 -1.103294  0.016628\n",
       "2021-01-04  1.030712 -0.229508  0.054331  0.792131\n",
       "2021-01-03 -0.953722 -0.387674 -0.156608 -1.199035\n",
       "2021-01-05  1.346783 -0.415391  1.321996 -0.730655\n",
       "2021-01-01 -0.452731 -0.528352 -0.707720 -0.244398\n",
       "2021-01-06  0.387626 -1.458564 -0.609005 -1.593711"
      ]
     },
     "execution_count": 39,
     "metadata": {},
     "output_type": "execute_result"
    }
   ],
   "source": [
    "df.sort_values(by=\"B\", ascending=False, inplace=True)\n",
    "df"
   ]
  },
  {
   "cell_type": "markdown",
   "metadata": {},
   "source": [
    "## 데이터 선택"
   ]
  },
  {
   "cell_type": "code",
   "execution_count": 40,
   "metadata": {},
   "outputs": [
    {
     "data": {
      "text/html": [
       "<div>\n",
       "<style scoped>\n",
       "    .dataframe tbody tr th:only-of-type {\n",
       "        vertical-align: middle;\n",
       "    }\n",
       "\n",
       "    .dataframe tbody tr th {\n",
       "        vertical-align: top;\n",
       "    }\n",
       "\n",
       "    .dataframe thead th {\n",
       "        text-align: right;\n",
       "    }\n",
       "</style>\n",
       "<table border=\"1\" class=\"dataframe\">\n",
       "  <thead>\n",
       "    <tr style=\"text-align: right;\">\n",
       "      <th></th>\n",
       "      <th>A</th>\n",
       "      <th>B</th>\n",
       "      <th>C</th>\n",
       "      <th>D</th>\n",
       "    </tr>\n",
       "  </thead>\n",
       "  <tbody>\n",
       "    <tr>\n",
       "      <th>2021-01-02</th>\n",
       "      <td>1.079441</td>\n",
       "      <td>-0.223509</td>\n",
       "      <td>-1.103294</td>\n",
       "      <td>0.016628</td>\n",
       "    </tr>\n",
       "    <tr>\n",
       "      <th>2021-01-04</th>\n",
       "      <td>1.030712</td>\n",
       "      <td>-0.229508</td>\n",
       "      <td>0.054331</td>\n",
       "      <td>0.792131</td>\n",
       "    </tr>\n",
       "    <tr>\n",
       "      <th>2021-01-03</th>\n",
       "      <td>-0.953722</td>\n",
       "      <td>-0.387674</td>\n",
       "      <td>-0.156608</td>\n",
       "      <td>-1.199035</td>\n",
       "    </tr>\n",
       "    <tr>\n",
       "      <th>2021-01-05</th>\n",
       "      <td>1.346783</td>\n",
       "      <td>-0.415391</td>\n",
       "      <td>1.321996</td>\n",
       "      <td>-0.730655</td>\n",
       "    </tr>\n",
       "    <tr>\n",
       "      <th>2021-01-01</th>\n",
       "      <td>-0.452731</td>\n",
       "      <td>-0.528352</td>\n",
       "      <td>-0.707720</td>\n",
       "      <td>-0.244398</td>\n",
       "    </tr>\n",
       "    <tr>\n",
       "      <th>2021-01-06</th>\n",
       "      <td>0.387626</td>\n",
       "      <td>-1.458564</td>\n",
       "      <td>-0.609005</td>\n",
       "      <td>-1.593711</td>\n",
       "    </tr>\n",
       "  </tbody>\n",
       "</table>\n",
       "</div>"
      ],
      "text/plain": [
       "                   A         B         C         D\n",
       "2021-01-02  1.079441 -0.223509 -1.103294  0.016628\n",
       "2021-01-04  1.030712 -0.229508  0.054331  0.792131\n",
       "2021-01-03 -0.953722 -0.387674 -0.156608 -1.199035\n",
       "2021-01-05  1.346783 -0.415391  1.321996 -0.730655\n",
       "2021-01-01 -0.452731 -0.528352 -0.707720 -0.244398\n",
       "2021-01-06  0.387626 -1.458564 -0.609005 -1.593711"
      ]
     },
     "execution_count": 40,
     "metadata": {},
     "output_type": "execute_result"
    }
   ],
   "source": [
    "df"
   ]
  },
  {
   "cell_type": "code",
   "execution_count": 41,
   "metadata": {},
   "outputs": [
    {
     "data": {
      "text/plain": [
       "2021-01-02    1.079441\n",
       "2021-01-04    1.030712\n",
       "2021-01-03   -0.953722\n",
       "2021-01-05    1.346783\n",
       "2021-01-01   -0.452731\n",
       "2021-01-06    0.387626\n",
       "Name: A, dtype: float64"
      ]
     },
     "execution_count": 41,
     "metadata": {},
     "output_type": "execute_result"
    }
   ],
   "source": [
    "# 한 개 컬럼 선택\n",
    "df[\"A\"]"
   ]
  },
  {
   "cell_type": "code",
   "execution_count": 42,
   "metadata": {},
   "outputs": [
    {
     "data": {
      "text/plain": [
       "pandas.core.series.Series"
      ]
     },
     "execution_count": 42,
     "metadata": {},
     "output_type": "execute_result"
    }
   ],
   "source": [
    "type(df[\"A\"])"
   ]
  },
  {
   "cell_type": "code",
   "execution_count": 43,
   "metadata": {},
   "outputs": [
    {
     "data": {
      "text/plain": [
       "2021-01-02    1.079441\n",
       "2021-01-04    1.030712\n",
       "2021-01-03   -0.953722\n",
       "2021-01-05    1.346783\n",
       "2021-01-01   -0.452731\n",
       "2021-01-06    0.387626\n",
       "Name: A, dtype: float64"
      ]
     },
     "execution_count": 43,
     "metadata": {},
     "output_type": "execute_result"
    }
   ],
   "source": [
    "df.A"
   ]
  },
  {
   "cell_type": "code",
   "execution_count": 44,
   "metadata": {},
   "outputs": [
    {
     "data": {
      "text/html": [
       "<div>\n",
       "<style scoped>\n",
       "    .dataframe tbody tr th:only-of-type {\n",
       "        vertical-align: middle;\n",
       "    }\n",
       "\n",
       "    .dataframe tbody tr th {\n",
       "        vertical-align: top;\n",
       "    }\n",
       "\n",
       "    .dataframe thead th {\n",
       "        text-align: right;\n",
       "    }\n",
       "</style>\n",
       "<table border=\"1\" class=\"dataframe\">\n",
       "  <thead>\n",
       "    <tr style=\"text-align: right;\">\n",
       "      <th></th>\n",
       "      <th>A</th>\n",
       "      <th>B</th>\n",
       "      <th>C</th>\n",
       "      <th>D</th>\n",
       "    </tr>\n",
       "  </thead>\n",
       "  <tbody>\n",
       "    <tr>\n",
       "      <th>2021-01-01</th>\n",
       "      <td>-0.452731</td>\n",
       "      <td>-0.528352</td>\n",
       "      <td>-0.707720</td>\n",
       "      <td>-0.244398</td>\n",
       "    </tr>\n",
       "    <tr>\n",
       "      <th>2021-01-02</th>\n",
       "      <td>1.079441</td>\n",
       "      <td>-0.223509</td>\n",
       "      <td>-1.103294</td>\n",
       "      <td>0.016628</td>\n",
       "    </tr>\n",
       "    <tr>\n",
       "      <th>2021-01-03</th>\n",
       "      <td>-0.953722</td>\n",
       "      <td>-0.387674</td>\n",
       "      <td>-0.156608</td>\n",
       "      <td>-1.199035</td>\n",
       "    </tr>\n",
       "    <tr>\n",
       "      <th>2021-01-04</th>\n",
       "      <td>1.030712</td>\n",
       "      <td>-0.229508</td>\n",
       "      <td>0.054331</td>\n",
       "      <td>0.792131</td>\n",
       "    </tr>\n",
       "    <tr>\n",
       "      <th>2021-01-05</th>\n",
       "      <td>1.346783</td>\n",
       "      <td>-0.415391</td>\n",
       "      <td>1.321996</td>\n",
       "      <td>-0.730655</td>\n",
       "    </tr>\n",
       "    <tr>\n",
       "      <th>2021-01-06</th>\n",
       "      <td>0.387626</td>\n",
       "      <td>-1.458564</td>\n",
       "      <td>-0.609005</td>\n",
       "      <td>-1.593711</td>\n",
       "    </tr>\n",
       "  </tbody>\n",
       "</table>\n",
       "</div>"
      ],
      "text/plain": [
       "                   A         B         C         D\n",
       "2021-01-01 -0.452731 -0.528352 -0.707720 -0.244398\n",
       "2021-01-02  1.079441 -0.223509 -1.103294  0.016628\n",
       "2021-01-03 -0.953722 -0.387674 -0.156608 -1.199035\n",
       "2021-01-04  1.030712 -0.229508  0.054331  0.792131\n",
       "2021-01-05  1.346783 -0.415391  1.321996 -0.730655\n",
       "2021-01-06  0.387626 -1.458564 -0.609005 -1.593711"
      ]
     },
     "execution_count": 44,
     "metadata": {},
     "output_type": "execute_result"
    }
   ],
   "source": [
    "df = pd.DataFrame(data, index=datas, columns=[\"A\",\"B\",\"C\",\"D\"])\n",
    "df"
   ]
  },
  {
   "cell_type": "code",
   "execution_count": 45,
   "metadata": {},
   "outputs": [
    {
     "data": {
      "text/plain": [
       "2021-01-01   -0.244398\n",
       "2021-01-02    0.016628\n",
       "2021-01-03   -1.199035\n",
       "2021-01-04    0.792131\n",
       "2021-01-05   -0.730655\n",
       "2021-01-06   -1.593711\n",
       "Freq: D, Name: D, dtype: float64"
      ]
     },
     "execution_count": 45,
     "metadata": {},
     "output_type": "execute_result"
    }
   ],
   "source": [
    "df.D"
   ]
  },
  {
   "cell_type": "code",
   "execution_count": 46,
   "metadata": {},
   "outputs": [
    {
     "data": {
      "text/html": [
       "<div>\n",
       "<style scoped>\n",
       "    .dataframe tbody tr th:only-of-type {\n",
       "        vertical-align: middle;\n",
       "    }\n",
       "\n",
       "    .dataframe tbody tr th {\n",
       "        vertical-align: top;\n",
       "    }\n",
       "\n",
       "    .dataframe thead th {\n",
       "        text-align: right;\n",
       "    }\n",
       "</style>\n",
       "<table border=\"1\" class=\"dataframe\">\n",
       "  <thead>\n",
       "    <tr style=\"text-align: right;\">\n",
       "      <th></th>\n",
       "      <th>A</th>\n",
       "      <th>B</th>\n",
       "    </tr>\n",
       "  </thead>\n",
       "  <tbody>\n",
       "    <tr>\n",
       "      <th>2021-01-01</th>\n",
       "      <td>-0.452731</td>\n",
       "      <td>-0.528352</td>\n",
       "    </tr>\n",
       "    <tr>\n",
       "      <th>2021-01-02</th>\n",
       "      <td>1.079441</td>\n",
       "      <td>-0.223509</td>\n",
       "    </tr>\n",
       "    <tr>\n",
       "      <th>2021-01-03</th>\n",
       "      <td>-0.953722</td>\n",
       "      <td>-0.387674</td>\n",
       "    </tr>\n",
       "    <tr>\n",
       "      <th>2021-01-04</th>\n",
       "      <td>1.030712</td>\n",
       "      <td>-0.229508</td>\n",
       "    </tr>\n",
       "    <tr>\n",
       "      <th>2021-01-05</th>\n",
       "      <td>1.346783</td>\n",
       "      <td>-0.415391</td>\n",
       "    </tr>\n",
       "    <tr>\n",
       "      <th>2021-01-06</th>\n",
       "      <td>0.387626</td>\n",
       "      <td>-1.458564</td>\n",
       "    </tr>\n",
       "  </tbody>\n",
       "</table>\n",
       "</div>"
      ],
      "text/plain": [
       "                   A         B\n",
       "2021-01-01 -0.452731 -0.528352\n",
       "2021-01-02  1.079441 -0.223509\n",
       "2021-01-03 -0.953722 -0.387674\n",
       "2021-01-04  1.030712 -0.229508\n",
       "2021-01-05  1.346783 -0.415391\n",
       "2021-01-06  0.387626 -1.458564"
      ]
     },
     "execution_count": 46,
     "metadata": {},
     "output_type": "execute_result"
    }
   ],
   "source": [
    "# 두 개 이상 컬럼 선택\n",
    "df[[\"A\",\"B\"]]"
   ]
  },
  {
   "attachments": {},
   "cell_type": "markdown",
   "metadata": {},
   "source": [
    "## offset index\n",
    "- [n:m] : n부터 m-1까지\n",
    "- 인덱스나 컬럼의 이름으로 slice 하는 경우는 끝을 포함합니다."
   ]
  },
  {
   "cell_type": "code",
   "execution_count": 47,
   "metadata": {},
   "outputs": [
    {
     "data": {
      "text/html": [
       "<div>\n",
       "<style scoped>\n",
       "    .dataframe tbody tr th:only-of-type {\n",
       "        vertical-align: middle;\n",
       "    }\n",
       "\n",
       "    .dataframe tbody tr th {\n",
       "        vertical-align: top;\n",
       "    }\n",
       "\n",
       "    .dataframe thead th {\n",
       "        text-align: right;\n",
       "    }\n",
       "</style>\n",
       "<table border=\"1\" class=\"dataframe\">\n",
       "  <thead>\n",
       "    <tr style=\"text-align: right;\">\n",
       "      <th></th>\n",
       "      <th>A</th>\n",
       "      <th>B</th>\n",
       "      <th>C</th>\n",
       "      <th>D</th>\n",
       "    </tr>\n",
       "  </thead>\n",
       "  <tbody>\n",
       "    <tr>\n",
       "      <th>2021-01-01</th>\n",
       "      <td>-0.452731</td>\n",
       "      <td>-0.528352</td>\n",
       "      <td>-0.707720</td>\n",
       "      <td>-0.244398</td>\n",
       "    </tr>\n",
       "    <tr>\n",
       "      <th>2021-01-02</th>\n",
       "      <td>1.079441</td>\n",
       "      <td>-0.223509</td>\n",
       "      <td>-1.103294</td>\n",
       "      <td>0.016628</td>\n",
       "    </tr>\n",
       "    <tr>\n",
       "      <th>2021-01-03</th>\n",
       "      <td>-0.953722</td>\n",
       "      <td>-0.387674</td>\n",
       "      <td>-0.156608</td>\n",
       "      <td>-1.199035</td>\n",
       "    </tr>\n",
       "    <tr>\n",
       "      <th>2021-01-04</th>\n",
       "      <td>1.030712</td>\n",
       "      <td>-0.229508</td>\n",
       "      <td>0.054331</td>\n",
       "      <td>0.792131</td>\n",
       "    </tr>\n",
       "    <tr>\n",
       "      <th>2021-01-05</th>\n",
       "      <td>1.346783</td>\n",
       "      <td>-0.415391</td>\n",
       "      <td>1.321996</td>\n",
       "      <td>-0.730655</td>\n",
       "    </tr>\n",
       "    <tr>\n",
       "      <th>2021-01-06</th>\n",
       "      <td>0.387626</td>\n",
       "      <td>-1.458564</td>\n",
       "      <td>-0.609005</td>\n",
       "      <td>-1.593711</td>\n",
       "    </tr>\n",
       "  </tbody>\n",
       "</table>\n",
       "</div>"
      ],
      "text/plain": [
       "                   A         B         C         D\n",
       "2021-01-01 -0.452731 -0.528352 -0.707720 -0.244398\n",
       "2021-01-02  1.079441 -0.223509 -1.103294  0.016628\n",
       "2021-01-03 -0.953722 -0.387674 -0.156608 -1.199035\n",
       "2021-01-04  1.030712 -0.229508  0.054331  0.792131\n",
       "2021-01-05  1.346783 -0.415391  1.321996 -0.730655\n",
       "2021-01-06  0.387626 -1.458564 -0.609005 -1.593711"
      ]
     },
     "execution_count": 47,
     "metadata": {},
     "output_type": "execute_result"
    }
   ],
   "source": [
    "df"
   ]
  },
  {
   "cell_type": "code",
   "execution_count": 48,
   "metadata": {},
   "outputs": [
    {
     "data": {
      "text/html": [
       "<div>\n",
       "<style scoped>\n",
       "    .dataframe tbody tr th:only-of-type {\n",
       "        vertical-align: middle;\n",
       "    }\n",
       "\n",
       "    .dataframe tbody tr th {\n",
       "        vertical-align: top;\n",
       "    }\n",
       "\n",
       "    .dataframe thead th {\n",
       "        text-align: right;\n",
       "    }\n",
       "</style>\n",
       "<table border=\"1\" class=\"dataframe\">\n",
       "  <thead>\n",
       "    <tr style=\"text-align: right;\">\n",
       "      <th></th>\n",
       "      <th>A</th>\n",
       "      <th>B</th>\n",
       "      <th>C</th>\n",
       "      <th>D</th>\n",
       "    </tr>\n",
       "  </thead>\n",
       "  <tbody>\n",
       "    <tr>\n",
       "      <th>2021-01-01</th>\n",
       "      <td>-0.452731</td>\n",
       "      <td>-0.528352</td>\n",
       "      <td>-0.707720</td>\n",
       "      <td>-0.244398</td>\n",
       "    </tr>\n",
       "    <tr>\n",
       "      <th>2021-01-02</th>\n",
       "      <td>1.079441</td>\n",
       "      <td>-0.223509</td>\n",
       "      <td>-1.103294</td>\n",
       "      <td>0.016628</td>\n",
       "    </tr>\n",
       "    <tr>\n",
       "      <th>2021-01-03</th>\n",
       "      <td>-0.953722</td>\n",
       "      <td>-0.387674</td>\n",
       "      <td>-0.156608</td>\n",
       "      <td>-1.199035</td>\n",
       "    </tr>\n",
       "  </tbody>\n",
       "</table>\n",
       "</div>"
      ],
      "text/plain": [
       "                   A         B         C         D\n",
       "2021-01-01 -0.452731 -0.528352 -0.707720 -0.244398\n",
       "2021-01-02  1.079441 -0.223509 -1.103294  0.016628\n",
       "2021-01-03 -0.953722 -0.387674 -0.156608 -1.199035"
      ]
     },
     "execution_count": 48,
     "metadata": {},
     "output_type": "execute_result"
    }
   ],
   "source": [
    "df[0:3]"
   ]
  },
  {
   "cell_type": "code",
   "execution_count": 49,
   "metadata": {},
   "outputs": [
    {
     "data": {
      "text/html": [
       "<div>\n",
       "<style scoped>\n",
       "    .dataframe tbody tr th:only-of-type {\n",
       "        vertical-align: middle;\n",
       "    }\n",
       "\n",
       "    .dataframe tbody tr th {\n",
       "        vertical-align: top;\n",
       "    }\n",
       "\n",
       "    .dataframe thead th {\n",
       "        text-align: right;\n",
       "    }\n",
       "</style>\n",
       "<table border=\"1\" class=\"dataframe\">\n",
       "  <thead>\n",
       "    <tr style=\"text-align: right;\">\n",
       "      <th></th>\n",
       "      <th>A</th>\n",
       "      <th>B</th>\n",
       "      <th>C</th>\n",
       "      <th>D</th>\n",
       "    </tr>\n",
       "  </thead>\n",
       "  <tbody>\n",
       "    <tr>\n",
       "      <th>2021-01-01</th>\n",
       "      <td>-0.452731</td>\n",
       "      <td>-0.528352</td>\n",
       "      <td>-0.707720</td>\n",
       "      <td>-0.244398</td>\n",
       "    </tr>\n",
       "    <tr>\n",
       "      <th>2021-01-02</th>\n",
       "      <td>1.079441</td>\n",
       "      <td>-0.223509</td>\n",
       "      <td>-1.103294</td>\n",
       "      <td>0.016628</td>\n",
       "    </tr>\n",
       "    <tr>\n",
       "      <th>2021-01-03</th>\n",
       "      <td>-0.953722</td>\n",
       "      <td>-0.387674</td>\n",
       "      <td>-0.156608</td>\n",
       "      <td>-1.199035</td>\n",
       "    </tr>\n",
       "    <tr>\n",
       "      <th>2021-01-04</th>\n",
       "      <td>1.030712</td>\n",
       "      <td>-0.229508</td>\n",
       "      <td>0.054331</td>\n",
       "      <td>0.792131</td>\n",
       "    </tr>\n",
       "  </tbody>\n",
       "</table>\n",
       "</div>"
      ],
      "text/plain": [
       "                   A         B         C         D\n",
       "2021-01-01 -0.452731 -0.528352 -0.707720 -0.244398\n",
       "2021-01-02  1.079441 -0.223509 -1.103294  0.016628\n",
       "2021-01-03 -0.953722 -0.387674 -0.156608 -1.199035\n",
       "2021-01-04  1.030712 -0.229508  0.054331  0.792131"
      ]
     },
     "execution_count": 49,
     "metadata": {},
     "output_type": "execute_result"
    }
   ],
   "source": [
    "df[\"20210101\":\"20210104\"]"
   ]
  },
  {
   "attachments": {},
   "cell_type": "markdown",
   "metadata": {},
   "source": [
    "- loc : location\n",
    "- index 이름으로 특정 행, 열을 선택"
   ]
  },
  {
   "cell_type": "code",
   "execution_count": 50,
   "metadata": {},
   "outputs": [
    {
     "data": {
      "text/html": [
       "<div>\n",
       "<style scoped>\n",
       "    .dataframe tbody tr th:only-of-type {\n",
       "        vertical-align: middle;\n",
       "    }\n",
       "\n",
       "    .dataframe tbody tr th {\n",
       "        vertical-align: top;\n",
       "    }\n",
       "\n",
       "    .dataframe thead th {\n",
       "        text-align: right;\n",
       "    }\n",
       "</style>\n",
       "<table border=\"1\" class=\"dataframe\">\n",
       "  <thead>\n",
       "    <tr style=\"text-align: right;\">\n",
       "      <th></th>\n",
       "      <th>A</th>\n",
       "      <th>B</th>\n",
       "      <th>C</th>\n",
       "      <th>D</th>\n",
       "    </tr>\n",
       "  </thead>\n",
       "  <tbody>\n",
       "    <tr>\n",
       "      <th>2021-01-01</th>\n",
       "      <td>-0.452731</td>\n",
       "      <td>-0.528352</td>\n",
       "      <td>-0.707720</td>\n",
       "      <td>-0.244398</td>\n",
       "    </tr>\n",
       "    <tr>\n",
       "      <th>2021-01-02</th>\n",
       "      <td>1.079441</td>\n",
       "      <td>-0.223509</td>\n",
       "      <td>-1.103294</td>\n",
       "      <td>0.016628</td>\n",
       "    </tr>\n",
       "    <tr>\n",
       "      <th>2021-01-03</th>\n",
       "      <td>-0.953722</td>\n",
       "      <td>-0.387674</td>\n",
       "      <td>-0.156608</td>\n",
       "      <td>-1.199035</td>\n",
       "    </tr>\n",
       "    <tr>\n",
       "      <th>2021-01-04</th>\n",
       "      <td>1.030712</td>\n",
       "      <td>-0.229508</td>\n",
       "      <td>0.054331</td>\n",
       "      <td>0.792131</td>\n",
       "    </tr>\n",
       "    <tr>\n",
       "      <th>2021-01-05</th>\n",
       "      <td>1.346783</td>\n",
       "      <td>-0.415391</td>\n",
       "      <td>1.321996</td>\n",
       "      <td>-0.730655</td>\n",
       "    </tr>\n",
       "    <tr>\n",
       "      <th>2021-01-06</th>\n",
       "      <td>0.387626</td>\n",
       "      <td>-1.458564</td>\n",
       "      <td>-0.609005</td>\n",
       "      <td>-1.593711</td>\n",
       "    </tr>\n",
       "  </tbody>\n",
       "</table>\n",
       "</div>"
      ],
      "text/plain": [
       "                   A         B         C         D\n",
       "2021-01-01 -0.452731 -0.528352 -0.707720 -0.244398\n",
       "2021-01-02  1.079441 -0.223509 -1.103294  0.016628\n",
       "2021-01-03 -0.953722 -0.387674 -0.156608 -1.199035\n",
       "2021-01-04  1.030712 -0.229508  0.054331  0.792131\n",
       "2021-01-05  1.346783 -0.415391  1.321996 -0.730655\n",
       "2021-01-06  0.387626 -1.458564 -0.609005 -1.593711"
      ]
     },
     "execution_count": 50,
     "metadata": {},
     "output_type": "execute_result"
    }
   ],
   "source": [
    "df"
   ]
  },
  {
   "cell_type": "code",
   "execution_count": 51,
   "metadata": {},
   "outputs": [
    {
     "data": {
      "text/html": [
       "<div>\n",
       "<style scoped>\n",
       "    .dataframe tbody tr th:only-of-type {\n",
       "        vertical-align: middle;\n",
       "    }\n",
       "\n",
       "    .dataframe tbody tr th {\n",
       "        vertical-align: top;\n",
       "    }\n",
       "\n",
       "    .dataframe thead th {\n",
       "        text-align: right;\n",
       "    }\n",
       "</style>\n",
       "<table border=\"1\" class=\"dataframe\">\n",
       "  <thead>\n",
       "    <tr style=\"text-align: right;\">\n",
       "      <th></th>\n",
       "      <th>A</th>\n",
       "      <th>B</th>\n",
       "    </tr>\n",
       "  </thead>\n",
       "  <tbody>\n",
       "    <tr>\n",
       "      <th>2021-01-01</th>\n",
       "      <td>-0.452731</td>\n",
       "      <td>-0.528352</td>\n",
       "    </tr>\n",
       "    <tr>\n",
       "      <th>2021-01-02</th>\n",
       "      <td>1.079441</td>\n",
       "      <td>-0.223509</td>\n",
       "    </tr>\n",
       "    <tr>\n",
       "      <th>2021-01-03</th>\n",
       "      <td>-0.953722</td>\n",
       "      <td>-0.387674</td>\n",
       "    </tr>\n",
       "    <tr>\n",
       "      <th>2021-01-04</th>\n",
       "      <td>1.030712</td>\n",
       "      <td>-0.229508</td>\n",
       "    </tr>\n",
       "    <tr>\n",
       "      <th>2021-01-05</th>\n",
       "      <td>1.346783</td>\n",
       "      <td>-0.415391</td>\n",
       "    </tr>\n",
       "    <tr>\n",
       "      <th>2021-01-06</th>\n",
       "      <td>0.387626</td>\n",
       "      <td>-1.458564</td>\n",
       "    </tr>\n",
       "  </tbody>\n",
       "</table>\n",
       "</div>"
      ],
      "text/plain": [
       "                   A         B\n",
       "2021-01-01 -0.452731 -0.528352\n",
       "2021-01-02  1.079441 -0.223509\n",
       "2021-01-03 -0.953722 -0.387674\n",
       "2021-01-04  1.030712 -0.229508\n",
       "2021-01-05  1.346783 -0.415391\n",
       "2021-01-06  0.387626 -1.458564"
      ]
     },
     "execution_count": 51,
     "metadata": {},
     "output_type": "execute_result"
    }
   ],
   "source": [
    "df.loc[:,[\"A\",\"B\"]]"
   ]
  },
  {
   "cell_type": "code",
   "execution_count": 52,
   "metadata": {},
   "outputs": [
    {
     "data": {
      "text/html": [
       "<div>\n",
       "<style scoped>\n",
       "    .dataframe tbody tr th:only-of-type {\n",
       "        vertical-align: middle;\n",
       "    }\n",
       "\n",
       "    .dataframe tbody tr th {\n",
       "        vertical-align: top;\n",
       "    }\n",
       "\n",
       "    .dataframe thead th {\n",
       "        text-align: right;\n",
       "    }\n",
       "</style>\n",
       "<table border=\"1\" class=\"dataframe\">\n",
       "  <thead>\n",
       "    <tr style=\"text-align: right;\">\n",
       "      <th></th>\n",
       "      <th>A</th>\n",
       "      <th>D</th>\n",
       "    </tr>\n",
       "  </thead>\n",
       "  <tbody>\n",
       "    <tr>\n",
       "      <th>2021-01-02</th>\n",
       "      <td>1.079441</td>\n",
       "      <td>0.016628</td>\n",
       "    </tr>\n",
       "    <tr>\n",
       "      <th>2021-01-03</th>\n",
       "      <td>-0.953722</td>\n",
       "      <td>-1.199035</td>\n",
       "    </tr>\n",
       "    <tr>\n",
       "      <th>2021-01-04</th>\n",
       "      <td>1.030712</td>\n",
       "      <td>0.792131</td>\n",
       "    </tr>\n",
       "  </tbody>\n",
       "</table>\n",
       "</div>"
      ],
      "text/plain": [
       "                   A         D\n",
       "2021-01-02  1.079441  0.016628\n",
       "2021-01-03 -0.953722 -1.199035\n",
       "2021-01-04  1.030712  0.792131"
      ]
     },
     "execution_count": 52,
     "metadata": {},
     "output_type": "execute_result"
    }
   ],
   "source": [
    "df.loc[\"20210102\":\"20210104\", [\"A\",\"D\"]]"
   ]
  },
  {
   "cell_type": "code",
   "execution_count": 53,
   "metadata": {},
   "outputs": [
    {
     "data": {
      "text/html": [
       "<div>\n",
       "<style scoped>\n",
       "    .dataframe tbody tr th:only-of-type {\n",
       "        vertical-align: middle;\n",
       "    }\n",
       "\n",
       "    .dataframe tbody tr th {\n",
       "        vertical-align: top;\n",
       "    }\n",
       "\n",
       "    .dataframe thead th {\n",
       "        text-align: right;\n",
       "    }\n",
       "</style>\n",
       "<table border=\"1\" class=\"dataframe\">\n",
       "  <thead>\n",
       "    <tr style=\"text-align: right;\">\n",
       "      <th></th>\n",
       "      <th>A</th>\n",
       "      <th>B</th>\n",
       "      <th>C</th>\n",
       "      <th>D</th>\n",
       "    </tr>\n",
       "  </thead>\n",
       "  <tbody>\n",
       "    <tr>\n",
       "      <th>2021-01-02</th>\n",
       "      <td>1.079441</td>\n",
       "      <td>-0.223509</td>\n",
       "      <td>-1.103294</td>\n",
       "      <td>0.016628</td>\n",
       "    </tr>\n",
       "    <tr>\n",
       "      <th>2021-01-03</th>\n",
       "      <td>-0.953722</td>\n",
       "      <td>-0.387674</td>\n",
       "      <td>-0.156608</td>\n",
       "      <td>-1.199035</td>\n",
       "    </tr>\n",
       "    <tr>\n",
       "      <th>2021-01-04</th>\n",
       "      <td>1.030712</td>\n",
       "      <td>-0.229508</td>\n",
       "      <td>0.054331</td>\n",
       "      <td>0.792131</td>\n",
       "    </tr>\n",
       "  </tbody>\n",
       "</table>\n",
       "</div>"
      ],
      "text/plain": [
       "                   A         B         C         D\n",
       "2021-01-02  1.079441 -0.223509 -1.103294  0.016628\n",
       "2021-01-03 -0.953722 -0.387674 -0.156608 -1.199035\n",
       "2021-01-04  1.030712 -0.229508  0.054331  0.792131"
      ]
     },
     "execution_count": 53,
     "metadata": {},
     "output_type": "execute_result"
    }
   ],
   "source": [
    "df.loc[\"20210102\":\"20210104\", \"A\":\"D\"]"
   ]
  },
  {
   "cell_type": "code",
   "execution_count": 54,
   "metadata": {},
   "outputs": [
    {
     "data": {
      "text/html": [
       "<div>\n",
       "<style scoped>\n",
       "    .dataframe tbody tr th:only-of-type {\n",
       "        vertical-align: middle;\n",
       "    }\n",
       "\n",
       "    .dataframe tbody tr th {\n",
       "        vertical-align: top;\n",
       "    }\n",
       "\n",
       "    .dataframe thead th {\n",
       "        text-align: right;\n",
       "    }\n",
       "</style>\n",
       "<table border=\"1\" class=\"dataframe\">\n",
       "  <thead>\n",
       "    <tr style=\"text-align: right;\">\n",
       "      <th></th>\n",
       "      <th>A</th>\n",
       "      <th>B</th>\n",
       "      <th>C</th>\n",
       "      <th>D</th>\n",
       "    </tr>\n",
       "  </thead>\n",
       "  <tbody>\n",
       "    <tr>\n",
       "      <th>2021-01-01</th>\n",
       "      <td>-0.452731</td>\n",
       "      <td>-0.528352</td>\n",
       "      <td>-0.707720</td>\n",
       "      <td>-0.244398</td>\n",
       "    </tr>\n",
       "    <tr>\n",
       "      <th>2021-01-02</th>\n",
       "      <td>1.079441</td>\n",
       "      <td>-0.223509</td>\n",
       "      <td>-1.103294</td>\n",
       "      <td>0.016628</td>\n",
       "    </tr>\n",
       "    <tr>\n",
       "      <th>2021-01-03</th>\n",
       "      <td>-0.953722</td>\n",
       "      <td>-0.387674</td>\n",
       "      <td>-0.156608</td>\n",
       "      <td>-1.199035</td>\n",
       "    </tr>\n",
       "    <tr>\n",
       "      <th>2021-01-04</th>\n",
       "      <td>1.030712</td>\n",
       "      <td>-0.229508</td>\n",
       "      <td>0.054331</td>\n",
       "      <td>0.792131</td>\n",
       "    </tr>\n",
       "    <tr>\n",
       "      <th>2021-01-05</th>\n",
       "      <td>1.346783</td>\n",
       "      <td>-0.415391</td>\n",
       "      <td>1.321996</td>\n",
       "      <td>-0.730655</td>\n",
       "    </tr>\n",
       "    <tr>\n",
       "      <th>2021-01-06</th>\n",
       "      <td>0.387626</td>\n",
       "      <td>-1.458564</td>\n",
       "      <td>-0.609005</td>\n",
       "      <td>-1.593711</td>\n",
       "    </tr>\n",
       "  </tbody>\n",
       "</table>\n",
       "</div>"
      ],
      "text/plain": [
       "                   A         B         C         D\n",
       "2021-01-01 -0.452731 -0.528352 -0.707720 -0.244398\n",
       "2021-01-02  1.079441 -0.223509 -1.103294  0.016628\n",
       "2021-01-03 -0.953722 -0.387674 -0.156608 -1.199035\n",
       "2021-01-04  1.030712 -0.229508  0.054331  0.792131\n",
       "2021-01-05  1.346783 -0.415391  1.321996 -0.730655\n",
       "2021-01-06  0.387626 -1.458564 -0.609005 -1.593711"
      ]
     },
     "execution_count": 54,
     "metadata": {},
     "output_type": "execute_result"
    }
   ],
   "source": [
    "df"
   ]
  },
  {
   "cell_type": "code",
   "execution_count": 55,
   "metadata": {},
   "outputs": [
    {
     "data": {
      "text/plain": [
       "A    1.079441\n",
       "B   -0.223509\n",
       "Name: 2021-01-02 00:00:00, dtype: float64"
      ]
     },
     "execution_count": 55,
     "metadata": {},
     "output_type": "execute_result"
    }
   ],
   "source": [
    "df.loc[\"20210102\", [\"A\",\"B\"]]"
   ]
  },
  {
   "attachments": {},
   "cell_type": "markdown",
   "metadata": {},
   "source": [
    "- iloc : inter location\n",
    "    - 컴퓨터가 인식하는 인덱스 값으로 선택"
   ]
  },
  {
   "cell_type": "code",
   "execution_count": 56,
   "metadata": {},
   "outputs": [
    {
     "data": {
      "text/html": [
       "<div>\n",
       "<style scoped>\n",
       "    .dataframe tbody tr th:only-of-type {\n",
       "        vertical-align: middle;\n",
       "    }\n",
       "\n",
       "    .dataframe tbody tr th {\n",
       "        vertical-align: top;\n",
       "    }\n",
       "\n",
       "    .dataframe thead th {\n",
       "        text-align: right;\n",
       "    }\n",
       "</style>\n",
       "<table border=\"1\" class=\"dataframe\">\n",
       "  <thead>\n",
       "    <tr style=\"text-align: right;\">\n",
       "      <th></th>\n",
       "      <th>A</th>\n",
       "      <th>B</th>\n",
       "      <th>C</th>\n",
       "      <th>D</th>\n",
       "    </tr>\n",
       "  </thead>\n",
       "  <tbody>\n",
       "    <tr>\n",
       "      <th>2021-01-01</th>\n",
       "      <td>-0.452731</td>\n",
       "      <td>-0.528352</td>\n",
       "      <td>-0.707720</td>\n",
       "      <td>-0.244398</td>\n",
       "    </tr>\n",
       "    <tr>\n",
       "      <th>2021-01-02</th>\n",
       "      <td>1.079441</td>\n",
       "      <td>-0.223509</td>\n",
       "      <td>-1.103294</td>\n",
       "      <td>0.016628</td>\n",
       "    </tr>\n",
       "    <tr>\n",
       "      <th>2021-01-03</th>\n",
       "      <td>-0.953722</td>\n",
       "      <td>-0.387674</td>\n",
       "      <td>-0.156608</td>\n",
       "      <td>-1.199035</td>\n",
       "    </tr>\n",
       "    <tr>\n",
       "      <th>2021-01-04</th>\n",
       "      <td>1.030712</td>\n",
       "      <td>-0.229508</td>\n",
       "      <td>0.054331</td>\n",
       "      <td>0.792131</td>\n",
       "    </tr>\n",
       "    <tr>\n",
       "      <th>2021-01-05</th>\n",
       "      <td>1.346783</td>\n",
       "      <td>-0.415391</td>\n",
       "      <td>1.321996</td>\n",
       "      <td>-0.730655</td>\n",
       "    </tr>\n",
       "    <tr>\n",
       "      <th>2021-01-06</th>\n",
       "      <td>0.387626</td>\n",
       "      <td>-1.458564</td>\n",
       "      <td>-0.609005</td>\n",
       "      <td>-1.593711</td>\n",
       "    </tr>\n",
       "  </tbody>\n",
       "</table>\n",
       "</div>"
      ],
      "text/plain": [
       "                   A         B         C         D\n",
       "2021-01-01 -0.452731 -0.528352 -0.707720 -0.244398\n",
       "2021-01-02  1.079441 -0.223509 -1.103294  0.016628\n",
       "2021-01-03 -0.953722 -0.387674 -0.156608 -1.199035\n",
       "2021-01-04  1.030712 -0.229508  0.054331  0.792131\n",
       "2021-01-05  1.346783 -0.415391  1.321996 -0.730655\n",
       "2021-01-06  0.387626 -1.458564 -0.609005 -1.593711"
      ]
     },
     "execution_count": 56,
     "metadata": {},
     "output_type": "execute_result"
    }
   ],
   "source": [
    "df"
   ]
  },
  {
   "cell_type": "code",
   "execution_count": 57,
   "metadata": {},
   "outputs": [
    {
     "data": {
      "text/plain": [
       "A    1.030712\n",
       "B   -0.229508\n",
       "C    0.054331\n",
       "D    0.792131\n",
       "Name: 2021-01-04 00:00:00, dtype: float64"
      ]
     },
     "execution_count": 57,
     "metadata": {},
     "output_type": "execute_result"
    }
   ],
   "source": [
    "df.iloc[3]"
   ]
  },
  {
   "cell_type": "code",
   "execution_count": 58,
   "metadata": {},
   "outputs": [
    {
     "data": {
      "text/plain": [
       "0.05433118164607158"
      ]
     },
     "execution_count": 58,
     "metadata": {},
     "output_type": "execute_result"
    }
   ],
   "source": [
    "df.iloc[3,2]"
   ]
  },
  {
   "cell_type": "code",
   "execution_count": 59,
   "metadata": {},
   "outputs": [
    {
     "data": {
      "text/html": [
       "<div>\n",
       "<style scoped>\n",
       "    .dataframe tbody tr th:only-of-type {\n",
       "        vertical-align: middle;\n",
       "    }\n",
       "\n",
       "    .dataframe tbody tr th {\n",
       "        vertical-align: top;\n",
       "    }\n",
       "\n",
       "    .dataframe thead th {\n",
       "        text-align: right;\n",
       "    }\n",
       "</style>\n",
       "<table border=\"1\" class=\"dataframe\">\n",
       "  <thead>\n",
       "    <tr style=\"text-align: right;\">\n",
       "      <th></th>\n",
       "      <th>A</th>\n",
       "      <th>B</th>\n",
       "    </tr>\n",
       "  </thead>\n",
       "  <tbody>\n",
       "    <tr>\n",
       "      <th>2021-01-04</th>\n",
       "      <td>1.030712</td>\n",
       "      <td>-0.229508</td>\n",
       "    </tr>\n",
       "    <tr>\n",
       "      <th>2021-01-05</th>\n",
       "      <td>1.346783</td>\n",
       "      <td>-0.415391</td>\n",
       "    </tr>\n",
       "  </tbody>\n",
       "</table>\n",
       "</div>"
      ],
      "text/plain": [
       "                   A         B\n",
       "2021-01-04  1.030712 -0.229508\n",
       "2021-01-05  1.346783 -0.415391"
      ]
     },
     "execution_count": 59,
     "metadata": {},
     "output_type": "execute_result"
    }
   ],
   "source": [
    "df.iloc[3:5,0:2]"
   ]
  },
  {
   "cell_type": "code",
   "execution_count": 60,
   "metadata": {},
   "outputs": [
    {
     "data": {
      "text/html": [
       "<div>\n",
       "<style scoped>\n",
       "    .dataframe tbody tr th:only-of-type {\n",
       "        vertical-align: middle;\n",
       "    }\n",
       "\n",
       "    .dataframe tbody tr th {\n",
       "        vertical-align: top;\n",
       "    }\n",
       "\n",
       "    .dataframe thead th {\n",
       "        text-align: right;\n",
       "    }\n",
       "</style>\n",
       "<table border=\"1\" class=\"dataframe\">\n",
       "  <thead>\n",
       "    <tr style=\"text-align: right;\">\n",
       "      <th></th>\n",
       "      <th>A</th>\n",
       "      <th>B</th>\n",
       "      <th>C</th>\n",
       "      <th>D</th>\n",
       "    </tr>\n",
       "  </thead>\n",
       "  <tbody>\n",
       "    <tr>\n",
       "      <th>2021-01-01</th>\n",
       "      <td>-0.452731</td>\n",
       "      <td>-0.528352</td>\n",
       "      <td>-0.707720</td>\n",
       "      <td>-0.244398</td>\n",
       "    </tr>\n",
       "    <tr>\n",
       "      <th>2021-01-02</th>\n",
       "      <td>1.079441</td>\n",
       "      <td>-0.223509</td>\n",
       "      <td>-1.103294</td>\n",
       "      <td>0.016628</td>\n",
       "    </tr>\n",
       "    <tr>\n",
       "      <th>2021-01-03</th>\n",
       "      <td>-0.953722</td>\n",
       "      <td>-0.387674</td>\n",
       "      <td>-0.156608</td>\n",
       "      <td>-1.199035</td>\n",
       "    </tr>\n",
       "    <tr>\n",
       "      <th>2021-01-04</th>\n",
       "      <td>1.030712</td>\n",
       "      <td>-0.229508</td>\n",
       "      <td>0.054331</td>\n",
       "      <td>0.792131</td>\n",
       "    </tr>\n",
       "    <tr>\n",
       "      <th>2021-01-05</th>\n",
       "      <td>1.346783</td>\n",
       "      <td>-0.415391</td>\n",
       "      <td>1.321996</td>\n",
       "      <td>-0.730655</td>\n",
       "    </tr>\n",
       "    <tr>\n",
       "      <th>2021-01-06</th>\n",
       "      <td>0.387626</td>\n",
       "      <td>-1.458564</td>\n",
       "      <td>-0.609005</td>\n",
       "      <td>-1.593711</td>\n",
       "    </tr>\n",
       "  </tbody>\n",
       "</table>\n",
       "</div>"
      ],
      "text/plain": [
       "                   A         B         C         D\n",
       "2021-01-01 -0.452731 -0.528352 -0.707720 -0.244398\n",
       "2021-01-02  1.079441 -0.223509 -1.103294  0.016628\n",
       "2021-01-03 -0.953722 -0.387674 -0.156608 -1.199035\n",
       "2021-01-04  1.030712 -0.229508  0.054331  0.792131\n",
       "2021-01-05  1.346783 -0.415391  1.321996 -0.730655\n",
       "2021-01-06  0.387626 -1.458564 -0.609005 -1.593711"
      ]
     },
     "execution_count": 60,
     "metadata": {},
     "output_type": "execute_result"
    }
   ],
   "source": [
    "df"
   ]
  },
  {
   "cell_type": "code",
   "execution_count": 61,
   "metadata": {},
   "outputs": [
    {
     "data": {
      "text/html": [
       "<div>\n",
       "<style scoped>\n",
       "    .dataframe tbody tr th:only-of-type {\n",
       "        vertical-align: middle;\n",
       "    }\n",
       "\n",
       "    .dataframe tbody tr th {\n",
       "        vertical-align: top;\n",
       "    }\n",
       "\n",
       "    .dataframe thead th {\n",
       "        text-align: right;\n",
       "    }\n",
       "</style>\n",
       "<table border=\"1\" class=\"dataframe\">\n",
       "  <thead>\n",
       "    <tr style=\"text-align: right;\">\n",
       "      <th></th>\n",
       "      <th>A</th>\n",
       "      <th>C</th>\n",
       "    </tr>\n",
       "  </thead>\n",
       "  <tbody>\n",
       "    <tr>\n",
       "      <th>2021-01-02</th>\n",
       "      <td>1.079441</td>\n",
       "      <td>-1.103294</td>\n",
       "    </tr>\n",
       "    <tr>\n",
       "      <th>2021-01-03</th>\n",
       "      <td>-0.953722</td>\n",
       "      <td>-0.156608</td>\n",
       "    </tr>\n",
       "    <tr>\n",
       "      <th>2021-01-05</th>\n",
       "      <td>1.346783</td>\n",
       "      <td>1.321996</td>\n",
       "    </tr>\n",
       "  </tbody>\n",
       "</table>\n",
       "</div>"
      ],
      "text/plain": [
       "                   A         C\n",
       "2021-01-02  1.079441 -1.103294\n",
       "2021-01-03 -0.953722 -0.156608\n",
       "2021-01-05  1.346783  1.321996"
      ]
     },
     "execution_count": 61,
     "metadata": {},
     "output_type": "execute_result"
    }
   ],
   "source": [
    "df.iloc[[1,2,4],[0,2]]"
   ]
  },
  {
   "cell_type": "code",
   "execution_count": 62,
   "metadata": {},
   "outputs": [
    {
     "data": {
      "text/html": [
       "<div>\n",
       "<style scoped>\n",
       "    .dataframe tbody tr th:only-of-type {\n",
       "        vertical-align: middle;\n",
       "    }\n",
       "\n",
       "    .dataframe tbody tr th {\n",
       "        vertical-align: top;\n",
       "    }\n",
       "\n",
       "    .dataframe thead th {\n",
       "        text-align: right;\n",
       "    }\n",
       "</style>\n",
       "<table border=\"1\" class=\"dataframe\">\n",
       "  <thead>\n",
       "    <tr style=\"text-align: right;\">\n",
       "      <th></th>\n",
       "      <th>B</th>\n",
       "      <th>C</th>\n",
       "    </tr>\n",
       "  </thead>\n",
       "  <tbody>\n",
       "    <tr>\n",
       "      <th>2021-01-01</th>\n",
       "      <td>-0.528352</td>\n",
       "      <td>-0.707720</td>\n",
       "    </tr>\n",
       "    <tr>\n",
       "      <th>2021-01-02</th>\n",
       "      <td>-0.223509</td>\n",
       "      <td>-1.103294</td>\n",
       "    </tr>\n",
       "    <tr>\n",
       "      <th>2021-01-03</th>\n",
       "      <td>-0.387674</td>\n",
       "      <td>-0.156608</td>\n",
       "    </tr>\n",
       "    <tr>\n",
       "      <th>2021-01-04</th>\n",
       "      <td>-0.229508</td>\n",
       "      <td>0.054331</td>\n",
       "    </tr>\n",
       "    <tr>\n",
       "      <th>2021-01-05</th>\n",
       "      <td>-0.415391</td>\n",
       "      <td>1.321996</td>\n",
       "    </tr>\n",
       "    <tr>\n",
       "      <th>2021-01-06</th>\n",
       "      <td>-1.458564</td>\n",
       "      <td>-0.609005</td>\n",
       "    </tr>\n",
       "  </tbody>\n",
       "</table>\n",
       "</div>"
      ],
      "text/plain": [
       "                   B         C\n",
       "2021-01-01 -0.528352 -0.707720\n",
       "2021-01-02 -0.223509 -1.103294\n",
       "2021-01-03 -0.387674 -0.156608\n",
       "2021-01-04 -0.229508  0.054331\n",
       "2021-01-05 -0.415391  1.321996\n",
       "2021-01-06 -1.458564 -0.609005"
      ]
     },
     "execution_count": 62,
     "metadata": {},
     "output_type": "execute_result"
    }
   ],
   "source": [
    "df.iloc[:,1:3]"
   ]
  },
  {
   "attachments": {},
   "cell_type": "markdown",
   "metadata": {},
   "source": [
    "## Condition"
   ]
  },
  {
   "cell_type": "code",
   "execution_count": 63,
   "metadata": {},
   "outputs": [
    {
     "data": {
      "text/html": [
       "<div>\n",
       "<style scoped>\n",
       "    .dataframe tbody tr th:only-of-type {\n",
       "        vertical-align: middle;\n",
       "    }\n",
       "\n",
       "    .dataframe tbody tr th {\n",
       "        vertical-align: top;\n",
       "    }\n",
       "\n",
       "    .dataframe thead th {\n",
       "        text-align: right;\n",
       "    }\n",
       "</style>\n",
       "<table border=\"1\" class=\"dataframe\">\n",
       "  <thead>\n",
       "    <tr style=\"text-align: right;\">\n",
       "      <th></th>\n",
       "      <th>A</th>\n",
       "      <th>B</th>\n",
       "      <th>C</th>\n",
       "      <th>D</th>\n",
       "    </tr>\n",
       "  </thead>\n",
       "  <tbody>\n",
       "    <tr>\n",
       "      <th>2021-01-01</th>\n",
       "      <td>-0.452731</td>\n",
       "      <td>-0.528352</td>\n",
       "      <td>-0.707720</td>\n",
       "      <td>-0.244398</td>\n",
       "    </tr>\n",
       "    <tr>\n",
       "      <th>2021-01-02</th>\n",
       "      <td>1.079441</td>\n",
       "      <td>-0.223509</td>\n",
       "      <td>-1.103294</td>\n",
       "      <td>0.016628</td>\n",
       "    </tr>\n",
       "    <tr>\n",
       "      <th>2021-01-03</th>\n",
       "      <td>-0.953722</td>\n",
       "      <td>-0.387674</td>\n",
       "      <td>-0.156608</td>\n",
       "      <td>-1.199035</td>\n",
       "    </tr>\n",
       "    <tr>\n",
       "      <th>2021-01-04</th>\n",
       "      <td>1.030712</td>\n",
       "      <td>-0.229508</td>\n",
       "      <td>0.054331</td>\n",
       "      <td>0.792131</td>\n",
       "    </tr>\n",
       "    <tr>\n",
       "      <th>2021-01-05</th>\n",
       "      <td>1.346783</td>\n",
       "      <td>-0.415391</td>\n",
       "      <td>1.321996</td>\n",
       "      <td>-0.730655</td>\n",
       "    </tr>\n",
       "    <tr>\n",
       "      <th>2021-01-06</th>\n",
       "      <td>0.387626</td>\n",
       "      <td>-1.458564</td>\n",
       "      <td>-0.609005</td>\n",
       "      <td>-1.593711</td>\n",
       "    </tr>\n",
       "  </tbody>\n",
       "</table>\n",
       "</div>"
      ],
      "text/plain": [
       "                   A         B         C         D\n",
       "2021-01-01 -0.452731 -0.528352 -0.707720 -0.244398\n",
       "2021-01-02  1.079441 -0.223509 -1.103294  0.016628\n",
       "2021-01-03 -0.953722 -0.387674 -0.156608 -1.199035\n",
       "2021-01-04  1.030712 -0.229508  0.054331  0.792131\n",
       "2021-01-05  1.346783 -0.415391  1.321996 -0.730655\n",
       "2021-01-06  0.387626 -1.458564 -0.609005 -1.593711"
      ]
     },
     "execution_count": 63,
     "metadata": {},
     "output_type": "execute_result"
    }
   ],
   "source": [
    "df"
   ]
  },
  {
   "cell_type": "code",
   "execution_count": 64,
   "metadata": {},
   "outputs": [
    {
     "data": {
      "text/plain": [
       "2021-01-01    False\n",
       "2021-01-02     True\n",
       "2021-01-03    False\n",
       "2021-01-04     True\n",
       "2021-01-05     True\n",
       "2021-01-06     True\n",
       "Freq: D, Name: A, dtype: bool"
      ]
     },
     "execution_count": 64,
     "metadata": {},
     "output_type": "execute_result"
    }
   ],
   "source": [
    "# A 컬럼에서 0보다 큰 숫자(양수)만 선택\n",
    "\n",
    "df[\"A\"]>0"
   ]
  },
  {
   "cell_type": "code",
   "execution_count": 65,
   "metadata": {},
   "outputs": [
    {
     "data": {
      "text/html": [
       "<div>\n",
       "<style scoped>\n",
       "    .dataframe tbody tr th:only-of-type {\n",
       "        vertical-align: middle;\n",
       "    }\n",
       "\n",
       "    .dataframe tbody tr th {\n",
       "        vertical-align: top;\n",
       "    }\n",
       "\n",
       "    .dataframe thead th {\n",
       "        text-align: right;\n",
       "    }\n",
       "</style>\n",
       "<table border=\"1\" class=\"dataframe\">\n",
       "  <thead>\n",
       "    <tr style=\"text-align: right;\">\n",
       "      <th></th>\n",
       "      <th>A</th>\n",
       "      <th>B</th>\n",
       "      <th>C</th>\n",
       "      <th>D</th>\n",
       "    </tr>\n",
       "  </thead>\n",
       "  <tbody>\n",
       "    <tr>\n",
       "      <th>2021-01-01</th>\n",
       "      <td>-0.452731</td>\n",
       "      <td>-0.528352</td>\n",
       "      <td>-0.707720</td>\n",
       "      <td>-0.244398</td>\n",
       "    </tr>\n",
       "    <tr>\n",
       "      <th>2021-01-02</th>\n",
       "      <td>1.079441</td>\n",
       "      <td>-0.223509</td>\n",
       "      <td>-1.103294</td>\n",
       "      <td>0.016628</td>\n",
       "    </tr>\n",
       "    <tr>\n",
       "      <th>2021-01-03</th>\n",
       "      <td>-0.953722</td>\n",
       "      <td>-0.387674</td>\n",
       "      <td>-0.156608</td>\n",
       "      <td>-1.199035</td>\n",
       "    </tr>\n",
       "    <tr>\n",
       "      <th>2021-01-04</th>\n",
       "      <td>1.030712</td>\n",
       "      <td>-0.229508</td>\n",
       "      <td>0.054331</td>\n",
       "      <td>0.792131</td>\n",
       "    </tr>\n",
       "    <tr>\n",
       "      <th>2021-01-05</th>\n",
       "      <td>1.346783</td>\n",
       "      <td>-0.415391</td>\n",
       "      <td>1.321996</td>\n",
       "      <td>-0.730655</td>\n",
       "    </tr>\n",
       "    <tr>\n",
       "      <th>2021-01-06</th>\n",
       "      <td>0.387626</td>\n",
       "      <td>-1.458564</td>\n",
       "      <td>-0.609005</td>\n",
       "      <td>-1.593711</td>\n",
       "    </tr>\n",
       "  </tbody>\n",
       "</table>\n",
       "</div>"
      ],
      "text/plain": [
       "                   A         B         C         D\n",
       "2021-01-01 -0.452731 -0.528352 -0.707720 -0.244398\n",
       "2021-01-02  1.079441 -0.223509 -1.103294  0.016628\n",
       "2021-01-03 -0.953722 -0.387674 -0.156608 -1.199035\n",
       "2021-01-04  1.030712 -0.229508  0.054331  0.792131\n",
       "2021-01-05  1.346783 -0.415391  1.321996 -0.730655\n",
       "2021-01-06  0.387626 -1.458564 -0.609005 -1.593711"
      ]
     },
     "execution_count": 65,
     "metadata": {},
     "output_type": "execute_result"
    }
   ],
   "source": [
    "df"
   ]
  },
  {
   "cell_type": "code",
   "execution_count": 66,
   "metadata": {},
   "outputs": [
    {
     "data": {
      "text/html": [
       "<div>\n",
       "<style scoped>\n",
       "    .dataframe tbody tr th:only-of-type {\n",
       "        vertical-align: middle;\n",
       "    }\n",
       "\n",
       "    .dataframe tbody tr th {\n",
       "        vertical-align: top;\n",
       "    }\n",
       "\n",
       "    .dataframe thead th {\n",
       "        text-align: right;\n",
       "    }\n",
       "</style>\n",
       "<table border=\"1\" class=\"dataframe\">\n",
       "  <thead>\n",
       "    <tr style=\"text-align: right;\">\n",
       "      <th></th>\n",
       "      <th>A</th>\n",
       "      <th>B</th>\n",
       "      <th>C</th>\n",
       "      <th>D</th>\n",
       "    </tr>\n",
       "  </thead>\n",
       "  <tbody>\n",
       "    <tr>\n",
       "      <th>2021-01-02</th>\n",
       "      <td>1.079441</td>\n",
       "      <td>-0.223509</td>\n",
       "      <td>-1.103294</td>\n",
       "      <td>0.016628</td>\n",
       "    </tr>\n",
       "    <tr>\n",
       "      <th>2021-01-04</th>\n",
       "      <td>1.030712</td>\n",
       "      <td>-0.229508</td>\n",
       "      <td>0.054331</td>\n",
       "      <td>0.792131</td>\n",
       "    </tr>\n",
       "    <tr>\n",
       "      <th>2021-01-05</th>\n",
       "      <td>1.346783</td>\n",
       "      <td>-0.415391</td>\n",
       "      <td>1.321996</td>\n",
       "      <td>-0.730655</td>\n",
       "    </tr>\n",
       "    <tr>\n",
       "      <th>2021-01-06</th>\n",
       "      <td>0.387626</td>\n",
       "      <td>-1.458564</td>\n",
       "      <td>-0.609005</td>\n",
       "      <td>-1.593711</td>\n",
       "    </tr>\n",
       "  </tbody>\n",
       "</table>\n",
       "</div>"
      ],
      "text/plain": [
       "                   A         B         C         D\n",
       "2021-01-02  1.079441 -0.223509 -1.103294  0.016628\n",
       "2021-01-04  1.030712 -0.229508  0.054331  0.792131\n",
       "2021-01-05  1.346783 -0.415391  1.321996 -0.730655\n",
       "2021-01-06  0.387626 -1.458564 -0.609005 -1.593711"
      ]
     },
     "execution_count": 66,
     "metadata": {},
     "output_type": "execute_result"
    }
   ],
   "source": [
    "df[df[\"A\"] > 0]"
   ]
  },
  {
   "cell_type": "code",
   "execution_count": 67,
   "metadata": {},
   "outputs": [
    {
     "data": {
      "text/html": [
       "<div>\n",
       "<style scoped>\n",
       "    .dataframe tbody tr th:only-of-type {\n",
       "        vertical-align: middle;\n",
       "    }\n",
       "\n",
       "    .dataframe tbody tr th {\n",
       "        vertical-align: top;\n",
       "    }\n",
       "\n",
       "    .dataframe thead th {\n",
       "        text-align: right;\n",
       "    }\n",
       "</style>\n",
       "<table border=\"1\" class=\"dataframe\">\n",
       "  <thead>\n",
       "    <tr style=\"text-align: right;\">\n",
       "      <th></th>\n",
       "      <th>A</th>\n",
       "      <th>B</th>\n",
       "      <th>C</th>\n",
       "      <th>D</th>\n",
       "    </tr>\n",
       "  </thead>\n",
       "  <tbody>\n",
       "    <tr>\n",
       "      <th>2021-01-01</th>\n",
       "      <td>NaN</td>\n",
       "      <td>NaN</td>\n",
       "      <td>NaN</td>\n",
       "      <td>NaN</td>\n",
       "    </tr>\n",
       "    <tr>\n",
       "      <th>2021-01-02</th>\n",
       "      <td>1.079441</td>\n",
       "      <td>NaN</td>\n",
       "      <td>NaN</td>\n",
       "      <td>0.016628</td>\n",
       "    </tr>\n",
       "    <tr>\n",
       "      <th>2021-01-03</th>\n",
       "      <td>NaN</td>\n",
       "      <td>NaN</td>\n",
       "      <td>NaN</td>\n",
       "      <td>NaN</td>\n",
       "    </tr>\n",
       "    <tr>\n",
       "      <th>2021-01-04</th>\n",
       "      <td>1.030712</td>\n",
       "      <td>NaN</td>\n",
       "      <td>0.054331</td>\n",
       "      <td>0.792131</td>\n",
       "    </tr>\n",
       "    <tr>\n",
       "      <th>2021-01-05</th>\n",
       "      <td>1.346783</td>\n",
       "      <td>NaN</td>\n",
       "      <td>1.321996</td>\n",
       "      <td>NaN</td>\n",
       "    </tr>\n",
       "    <tr>\n",
       "      <th>2021-01-06</th>\n",
       "      <td>0.387626</td>\n",
       "      <td>NaN</td>\n",
       "      <td>NaN</td>\n",
       "      <td>NaN</td>\n",
       "    </tr>\n",
       "  </tbody>\n",
       "</table>\n",
       "</div>"
      ],
      "text/plain": [
       "                   A   B         C         D\n",
       "2021-01-01       NaN NaN       NaN       NaN\n",
       "2021-01-02  1.079441 NaN       NaN  0.016628\n",
       "2021-01-03       NaN NaN       NaN       NaN\n",
       "2021-01-04  1.030712 NaN  0.054331  0.792131\n",
       "2021-01-05  1.346783 NaN  1.321996       NaN\n",
       "2021-01-06  0.387626 NaN       NaN       NaN"
      ]
     },
     "execution_count": 67,
     "metadata": {},
     "output_type": "execute_result"
    }
   ],
   "source": [
    "df[df>0]"
   ]
  },
  {
   "attachments": {},
   "cell_type": "markdown",
   "metadata": {},
   "source": [
    "## 컬럼 추가\n",
    "- 기존 컬럼이 없으면 추가\n",
    "- 기존 컬럼이 있으면 수정"
   ]
  },
  {
   "cell_type": "code",
   "execution_count": 68,
   "metadata": {},
   "outputs": [
    {
     "data": {
      "text/html": [
       "<div>\n",
       "<style scoped>\n",
       "    .dataframe tbody tr th:only-of-type {\n",
       "        vertical-align: middle;\n",
       "    }\n",
       "\n",
       "    .dataframe tbody tr th {\n",
       "        vertical-align: top;\n",
       "    }\n",
       "\n",
       "    .dataframe thead th {\n",
       "        text-align: right;\n",
       "    }\n",
       "</style>\n",
       "<table border=\"1\" class=\"dataframe\">\n",
       "  <thead>\n",
       "    <tr style=\"text-align: right;\">\n",
       "      <th></th>\n",
       "      <th>A</th>\n",
       "      <th>B</th>\n",
       "      <th>C</th>\n",
       "      <th>D</th>\n",
       "    </tr>\n",
       "  </thead>\n",
       "  <tbody>\n",
       "    <tr>\n",
       "      <th>2021-01-01</th>\n",
       "      <td>-0.452731</td>\n",
       "      <td>-0.528352</td>\n",
       "      <td>-0.707720</td>\n",
       "      <td>-0.244398</td>\n",
       "    </tr>\n",
       "    <tr>\n",
       "      <th>2021-01-02</th>\n",
       "      <td>1.079441</td>\n",
       "      <td>-0.223509</td>\n",
       "      <td>-1.103294</td>\n",
       "      <td>0.016628</td>\n",
       "    </tr>\n",
       "    <tr>\n",
       "      <th>2021-01-03</th>\n",
       "      <td>-0.953722</td>\n",
       "      <td>-0.387674</td>\n",
       "      <td>-0.156608</td>\n",
       "      <td>-1.199035</td>\n",
       "    </tr>\n",
       "    <tr>\n",
       "      <th>2021-01-04</th>\n",
       "      <td>1.030712</td>\n",
       "      <td>-0.229508</td>\n",
       "      <td>0.054331</td>\n",
       "      <td>0.792131</td>\n",
       "    </tr>\n",
       "    <tr>\n",
       "      <th>2021-01-05</th>\n",
       "      <td>1.346783</td>\n",
       "      <td>-0.415391</td>\n",
       "      <td>1.321996</td>\n",
       "      <td>-0.730655</td>\n",
       "    </tr>\n",
       "    <tr>\n",
       "      <th>2021-01-06</th>\n",
       "      <td>0.387626</td>\n",
       "      <td>-1.458564</td>\n",
       "      <td>-0.609005</td>\n",
       "      <td>-1.593711</td>\n",
       "    </tr>\n",
       "  </tbody>\n",
       "</table>\n",
       "</div>"
      ],
      "text/plain": [
       "                   A         B         C         D\n",
       "2021-01-01 -0.452731 -0.528352 -0.707720 -0.244398\n",
       "2021-01-02  1.079441 -0.223509 -1.103294  0.016628\n",
       "2021-01-03 -0.953722 -0.387674 -0.156608 -1.199035\n",
       "2021-01-04  1.030712 -0.229508  0.054331  0.792131\n",
       "2021-01-05  1.346783 -0.415391  1.321996 -0.730655\n",
       "2021-01-06  0.387626 -1.458564 -0.609005 -1.593711"
      ]
     },
     "execution_count": 68,
     "metadata": {},
     "output_type": "execute_result"
    }
   ],
   "source": [
    "df"
   ]
  },
  {
   "cell_type": "code",
   "execution_count": 70,
   "metadata": {},
   "outputs": [
    {
     "data": {
      "text/html": [
       "<div>\n",
       "<style scoped>\n",
       "    .dataframe tbody tr th:only-of-type {\n",
       "        vertical-align: middle;\n",
       "    }\n",
       "\n",
       "    .dataframe tbody tr th {\n",
       "        vertical-align: top;\n",
       "    }\n",
       "\n",
       "    .dataframe thead th {\n",
       "        text-align: right;\n",
       "    }\n",
       "</style>\n",
       "<table border=\"1\" class=\"dataframe\">\n",
       "  <thead>\n",
       "    <tr style=\"text-align: right;\">\n",
       "      <th></th>\n",
       "      <th>A</th>\n",
       "      <th>B</th>\n",
       "      <th>C</th>\n",
       "      <th>D</th>\n",
       "      <th>E</th>\n",
       "    </tr>\n",
       "  </thead>\n",
       "  <tbody>\n",
       "    <tr>\n",
       "      <th>2021-01-01</th>\n",
       "      <td>-0.452731</td>\n",
       "      <td>-0.528352</td>\n",
       "      <td>-0.707720</td>\n",
       "      <td>-0.244398</td>\n",
       "      <td>one</td>\n",
       "    </tr>\n",
       "    <tr>\n",
       "      <th>2021-01-02</th>\n",
       "      <td>1.079441</td>\n",
       "      <td>-0.223509</td>\n",
       "      <td>-1.103294</td>\n",
       "      <td>0.016628</td>\n",
       "      <td>one</td>\n",
       "    </tr>\n",
       "    <tr>\n",
       "      <th>2021-01-03</th>\n",
       "      <td>-0.953722</td>\n",
       "      <td>-0.387674</td>\n",
       "      <td>-0.156608</td>\n",
       "      <td>-1.199035</td>\n",
       "      <td>two</td>\n",
       "    </tr>\n",
       "    <tr>\n",
       "      <th>2021-01-04</th>\n",
       "      <td>1.030712</td>\n",
       "      <td>-0.229508</td>\n",
       "      <td>0.054331</td>\n",
       "      <td>0.792131</td>\n",
       "      <td>three</td>\n",
       "    </tr>\n",
       "    <tr>\n",
       "      <th>2021-01-05</th>\n",
       "      <td>1.346783</td>\n",
       "      <td>-0.415391</td>\n",
       "      <td>1.321996</td>\n",
       "      <td>-0.730655</td>\n",
       "      <td>four</td>\n",
       "    </tr>\n",
       "    <tr>\n",
       "      <th>2021-01-06</th>\n",
       "      <td>0.387626</td>\n",
       "      <td>-1.458564</td>\n",
       "      <td>-0.609005</td>\n",
       "      <td>-1.593711</td>\n",
       "      <td>seven</td>\n",
       "    </tr>\n",
       "  </tbody>\n",
       "</table>\n",
       "</div>"
      ],
      "text/plain": [
       "                   A         B         C         D      E\n",
       "2021-01-01 -0.452731 -0.528352 -0.707720 -0.244398    one\n",
       "2021-01-02  1.079441 -0.223509 -1.103294  0.016628    one\n",
       "2021-01-03 -0.953722 -0.387674 -0.156608 -1.199035    two\n",
       "2021-01-04  1.030712 -0.229508  0.054331  0.792131  three\n",
       "2021-01-05  1.346783 -0.415391  1.321996 -0.730655   four\n",
       "2021-01-06  0.387626 -1.458564 -0.609005 -1.593711  seven"
      ]
     },
     "execution_count": 70,
     "metadata": {},
     "output_type": "execute_result"
    }
   ],
   "source": [
    "df[\"E\"]=[\"one\",\"one\",\"two\",\"three\",\"four\",\"seven\"]\n",
    "df"
   ]
  },
  {
   "attachments": {},
   "cell_type": "markdown",
   "metadata": {},
   "source": [
    "- isin()\n",
    "- 특정 요소가 있는지 확인"
   ]
  },
  {
   "cell_type": "code",
   "execution_count": 71,
   "metadata": {},
   "outputs": [
    {
     "data": {
      "text/plain": [
       "2021-01-01    False\n",
       "2021-01-02    False\n",
       "2021-01-03     True\n",
       "2021-01-04    False\n",
       "2021-01-05    False\n",
       "2021-01-06    False\n",
       "Freq: D, Name: E, dtype: bool"
      ]
     },
     "execution_count": 71,
     "metadata": {},
     "output_type": "execute_result"
    }
   ],
   "source": [
    "df[\"E\"].isin([\"two\"])"
   ]
  },
  {
   "cell_type": "code",
   "execution_count": 72,
   "metadata": {},
   "outputs": [
    {
     "data": {
      "text/plain": [
       "2021-01-01    False\n",
       "2021-01-02    False\n",
       "2021-01-03     True\n",
       "2021-01-04    False\n",
       "2021-01-05    False\n",
       "2021-01-06    False\n",
       "Freq: D, Name: E, dtype: bool"
      ]
     },
     "execution_count": 72,
     "metadata": {},
     "output_type": "execute_result"
    }
   ],
   "source": [
    "df[\"E\"].isin([\"two\",\"five\"])"
   ]
  },
  {
   "cell_type": "code",
   "execution_count": 73,
   "metadata": {},
   "outputs": [
    {
     "data": {
      "text/plain": [
       "2021-01-01    False\n",
       "2021-01-02    False\n",
       "2021-01-03     True\n",
       "2021-01-04     True\n",
       "2021-01-05    False\n",
       "2021-01-06    False\n",
       "Freq: D, Name: E, dtype: bool"
      ]
     },
     "execution_count": 73,
     "metadata": {},
     "output_type": "execute_result"
    }
   ],
   "source": [
    "df[\"E\"].isin([\"two\",\"five\",\"three\"])"
   ]
  },
  {
   "cell_type": "code",
   "execution_count": 74,
   "metadata": {},
   "outputs": [
    {
     "data": {
      "text/html": [
       "<div>\n",
       "<style scoped>\n",
       "    .dataframe tbody tr th:only-of-type {\n",
       "        vertical-align: middle;\n",
       "    }\n",
       "\n",
       "    .dataframe tbody tr th {\n",
       "        vertical-align: top;\n",
       "    }\n",
       "\n",
       "    .dataframe thead th {\n",
       "        text-align: right;\n",
       "    }\n",
       "</style>\n",
       "<table border=\"1\" class=\"dataframe\">\n",
       "  <thead>\n",
       "    <tr style=\"text-align: right;\">\n",
       "      <th></th>\n",
       "      <th>A</th>\n",
       "      <th>B</th>\n",
       "      <th>C</th>\n",
       "      <th>D</th>\n",
       "      <th>E</th>\n",
       "    </tr>\n",
       "  </thead>\n",
       "  <tbody>\n",
       "    <tr>\n",
       "      <th>2021-01-03</th>\n",
       "      <td>-0.953722</td>\n",
       "      <td>-0.387674</td>\n",
       "      <td>-0.156608</td>\n",
       "      <td>-1.199035</td>\n",
       "      <td>two</td>\n",
       "    </tr>\n",
       "    <tr>\n",
       "      <th>2021-01-04</th>\n",
       "      <td>1.030712</td>\n",
       "      <td>-0.229508</td>\n",
       "      <td>0.054331</td>\n",
       "      <td>0.792131</td>\n",
       "      <td>three</td>\n",
       "    </tr>\n",
       "  </tbody>\n",
       "</table>\n",
       "</div>"
      ],
      "text/plain": [
       "                   A         B         C         D      E\n",
       "2021-01-03 -0.953722 -0.387674 -0.156608 -1.199035    two\n",
       "2021-01-04  1.030712 -0.229508  0.054331  0.792131  three"
      ]
     },
     "execution_count": 74,
     "metadata": {},
     "output_type": "execute_result"
    }
   ],
   "source": [
    "df[df[\"E\"].isin([\"two\",\"five\",\"three\"])]"
   ]
  },
  {
   "attachments": {},
   "cell_type": "markdown",
   "metadata": {},
   "source": [
    "## 특정 컬럼 제거\n",
    "- del\n",
    "- drop"
   ]
  },
  {
   "cell_type": "code",
   "execution_count": 75,
   "metadata": {},
   "outputs": [
    {
     "data": {
      "text/html": [
       "<div>\n",
       "<style scoped>\n",
       "    .dataframe tbody tr th:only-of-type {\n",
       "        vertical-align: middle;\n",
       "    }\n",
       "\n",
       "    .dataframe tbody tr th {\n",
       "        vertical-align: top;\n",
       "    }\n",
       "\n",
       "    .dataframe thead th {\n",
       "        text-align: right;\n",
       "    }\n",
       "</style>\n",
       "<table border=\"1\" class=\"dataframe\">\n",
       "  <thead>\n",
       "    <tr style=\"text-align: right;\">\n",
       "      <th></th>\n",
       "      <th>A</th>\n",
       "      <th>B</th>\n",
       "      <th>C</th>\n",
       "      <th>D</th>\n",
       "      <th>E</th>\n",
       "    </tr>\n",
       "  </thead>\n",
       "  <tbody>\n",
       "    <tr>\n",
       "      <th>2021-01-01</th>\n",
       "      <td>-0.452731</td>\n",
       "      <td>-0.528352</td>\n",
       "      <td>-0.707720</td>\n",
       "      <td>-0.244398</td>\n",
       "      <td>one</td>\n",
       "    </tr>\n",
       "    <tr>\n",
       "      <th>2021-01-02</th>\n",
       "      <td>1.079441</td>\n",
       "      <td>-0.223509</td>\n",
       "      <td>-1.103294</td>\n",
       "      <td>0.016628</td>\n",
       "      <td>one</td>\n",
       "    </tr>\n",
       "    <tr>\n",
       "      <th>2021-01-03</th>\n",
       "      <td>-0.953722</td>\n",
       "      <td>-0.387674</td>\n",
       "      <td>-0.156608</td>\n",
       "      <td>-1.199035</td>\n",
       "      <td>two</td>\n",
       "    </tr>\n",
       "    <tr>\n",
       "      <th>2021-01-04</th>\n",
       "      <td>1.030712</td>\n",
       "      <td>-0.229508</td>\n",
       "      <td>0.054331</td>\n",
       "      <td>0.792131</td>\n",
       "      <td>three</td>\n",
       "    </tr>\n",
       "    <tr>\n",
       "      <th>2021-01-05</th>\n",
       "      <td>1.346783</td>\n",
       "      <td>-0.415391</td>\n",
       "      <td>1.321996</td>\n",
       "      <td>-0.730655</td>\n",
       "      <td>four</td>\n",
       "    </tr>\n",
       "    <tr>\n",
       "      <th>2021-01-06</th>\n",
       "      <td>0.387626</td>\n",
       "      <td>-1.458564</td>\n",
       "      <td>-0.609005</td>\n",
       "      <td>-1.593711</td>\n",
       "      <td>seven</td>\n",
       "    </tr>\n",
       "  </tbody>\n",
       "</table>\n",
       "</div>"
      ],
      "text/plain": [
       "                   A         B         C         D      E\n",
       "2021-01-01 -0.452731 -0.528352 -0.707720 -0.244398    one\n",
       "2021-01-02  1.079441 -0.223509 -1.103294  0.016628    one\n",
       "2021-01-03 -0.953722 -0.387674 -0.156608 -1.199035    two\n",
       "2021-01-04  1.030712 -0.229508  0.054331  0.792131  three\n",
       "2021-01-05  1.346783 -0.415391  1.321996 -0.730655   four\n",
       "2021-01-06  0.387626 -1.458564 -0.609005 -1.593711  seven"
      ]
     },
     "execution_count": 75,
     "metadata": {},
     "output_type": "execute_result"
    }
   ],
   "source": [
    "df"
   ]
  },
  {
   "cell_type": "code",
   "execution_count": 76,
   "metadata": {},
   "outputs": [
    {
     "data": {
      "text/html": [
       "<div>\n",
       "<style scoped>\n",
       "    .dataframe tbody tr th:only-of-type {\n",
       "        vertical-align: middle;\n",
       "    }\n",
       "\n",
       "    .dataframe tbody tr th {\n",
       "        vertical-align: top;\n",
       "    }\n",
       "\n",
       "    .dataframe thead th {\n",
       "        text-align: right;\n",
       "    }\n",
       "</style>\n",
       "<table border=\"1\" class=\"dataframe\">\n",
       "  <thead>\n",
       "    <tr style=\"text-align: right;\">\n",
       "      <th></th>\n",
       "      <th>A</th>\n",
       "      <th>B</th>\n",
       "      <th>C</th>\n",
       "      <th>D</th>\n",
       "    </tr>\n",
       "  </thead>\n",
       "  <tbody>\n",
       "    <tr>\n",
       "      <th>2021-01-01</th>\n",
       "      <td>-0.452731</td>\n",
       "      <td>-0.528352</td>\n",
       "      <td>-0.707720</td>\n",
       "      <td>-0.244398</td>\n",
       "    </tr>\n",
       "    <tr>\n",
       "      <th>2021-01-02</th>\n",
       "      <td>1.079441</td>\n",
       "      <td>-0.223509</td>\n",
       "      <td>-1.103294</td>\n",
       "      <td>0.016628</td>\n",
       "    </tr>\n",
       "    <tr>\n",
       "      <th>2021-01-03</th>\n",
       "      <td>-0.953722</td>\n",
       "      <td>-0.387674</td>\n",
       "      <td>-0.156608</td>\n",
       "      <td>-1.199035</td>\n",
       "    </tr>\n",
       "    <tr>\n",
       "      <th>2021-01-04</th>\n",
       "      <td>1.030712</td>\n",
       "      <td>-0.229508</td>\n",
       "      <td>0.054331</td>\n",
       "      <td>0.792131</td>\n",
       "    </tr>\n",
       "    <tr>\n",
       "      <th>2021-01-05</th>\n",
       "      <td>1.346783</td>\n",
       "      <td>-0.415391</td>\n",
       "      <td>1.321996</td>\n",
       "      <td>-0.730655</td>\n",
       "    </tr>\n",
       "    <tr>\n",
       "      <th>2021-01-06</th>\n",
       "      <td>0.387626</td>\n",
       "      <td>-1.458564</td>\n",
       "      <td>-0.609005</td>\n",
       "      <td>-1.593711</td>\n",
       "    </tr>\n",
       "  </tbody>\n",
       "</table>\n",
       "</div>"
      ],
      "text/plain": [
       "                   A         B         C         D\n",
       "2021-01-01 -0.452731 -0.528352 -0.707720 -0.244398\n",
       "2021-01-02  1.079441 -0.223509 -1.103294  0.016628\n",
       "2021-01-03 -0.953722 -0.387674 -0.156608 -1.199035\n",
       "2021-01-04  1.030712 -0.229508  0.054331  0.792131\n",
       "2021-01-05  1.346783 -0.415391  1.321996 -0.730655\n",
       "2021-01-06  0.387626 -1.458564 -0.609005 -1.593711"
      ]
     },
     "execution_count": 76,
     "metadata": {},
     "output_type": "execute_result"
    }
   ],
   "source": [
    "del df[\"E\"]\n",
    "df"
   ]
  },
  {
   "cell_type": "code",
   "execution_count": 77,
   "metadata": {},
   "outputs": [
    {
     "data": {
      "text/html": [
       "<div>\n",
       "<style scoped>\n",
       "    .dataframe tbody tr th:only-of-type {\n",
       "        vertical-align: middle;\n",
       "    }\n",
       "\n",
       "    .dataframe tbody tr th {\n",
       "        vertical-align: top;\n",
       "    }\n",
       "\n",
       "    .dataframe thead th {\n",
       "        text-align: right;\n",
       "    }\n",
       "</style>\n",
       "<table border=\"1\" class=\"dataframe\">\n",
       "  <thead>\n",
       "    <tr style=\"text-align: right;\">\n",
       "      <th></th>\n",
       "      <th>A</th>\n",
       "      <th>B</th>\n",
       "      <th>C</th>\n",
       "    </tr>\n",
       "  </thead>\n",
       "  <tbody>\n",
       "    <tr>\n",
       "      <th>2021-01-01</th>\n",
       "      <td>-0.452731</td>\n",
       "      <td>-0.528352</td>\n",
       "      <td>-0.707720</td>\n",
       "    </tr>\n",
       "    <tr>\n",
       "      <th>2021-01-02</th>\n",
       "      <td>1.079441</td>\n",
       "      <td>-0.223509</td>\n",
       "      <td>-1.103294</td>\n",
       "    </tr>\n",
       "    <tr>\n",
       "      <th>2021-01-03</th>\n",
       "      <td>-0.953722</td>\n",
       "      <td>-0.387674</td>\n",
       "      <td>-0.156608</td>\n",
       "    </tr>\n",
       "    <tr>\n",
       "      <th>2021-01-04</th>\n",
       "      <td>1.030712</td>\n",
       "      <td>-0.229508</td>\n",
       "      <td>0.054331</td>\n",
       "    </tr>\n",
       "    <tr>\n",
       "      <th>2021-01-05</th>\n",
       "      <td>1.346783</td>\n",
       "      <td>-0.415391</td>\n",
       "      <td>1.321996</td>\n",
       "    </tr>\n",
       "    <tr>\n",
       "      <th>2021-01-06</th>\n",
       "      <td>0.387626</td>\n",
       "      <td>-1.458564</td>\n",
       "      <td>-0.609005</td>\n",
       "    </tr>\n",
       "  </tbody>\n",
       "</table>\n",
       "</div>"
      ],
      "text/plain": [
       "                   A         B         C\n",
       "2021-01-01 -0.452731 -0.528352 -0.707720\n",
       "2021-01-02  1.079441 -0.223509 -1.103294\n",
       "2021-01-03 -0.953722 -0.387674 -0.156608\n",
       "2021-01-04  1.030712 -0.229508  0.054331\n",
       "2021-01-05  1.346783 -0.415391  1.321996\n",
       "2021-01-06  0.387626 -1.458564 -0.609005"
      ]
     },
     "execution_count": 77,
     "metadata": {},
     "output_type": "execute_result"
    }
   ],
   "source": [
    "df.drop([\"D\"], axis=1) # axis=0 가로, axis=1 세로"
   ]
  },
  {
   "cell_type": "code",
   "execution_count": 78,
   "metadata": {},
   "outputs": [
    {
     "data": {
      "text/html": [
       "<div>\n",
       "<style scoped>\n",
       "    .dataframe tbody tr th:only-of-type {\n",
       "        vertical-align: middle;\n",
       "    }\n",
       "\n",
       "    .dataframe tbody tr th {\n",
       "        vertical-align: top;\n",
       "    }\n",
       "\n",
       "    .dataframe thead th {\n",
       "        text-align: right;\n",
       "    }\n",
       "</style>\n",
       "<table border=\"1\" class=\"dataframe\">\n",
       "  <thead>\n",
       "    <tr style=\"text-align: right;\">\n",
       "      <th></th>\n",
       "      <th>A</th>\n",
       "      <th>B</th>\n",
       "      <th>C</th>\n",
       "      <th>D</th>\n",
       "    </tr>\n",
       "  </thead>\n",
       "  <tbody>\n",
       "    <tr>\n",
       "      <th>2021-01-01</th>\n",
       "      <td>-0.452731</td>\n",
       "      <td>-0.528352</td>\n",
       "      <td>-0.707720</td>\n",
       "      <td>-0.244398</td>\n",
       "    </tr>\n",
       "    <tr>\n",
       "      <th>2021-01-02</th>\n",
       "      <td>1.079441</td>\n",
       "      <td>-0.223509</td>\n",
       "      <td>-1.103294</td>\n",
       "      <td>0.016628</td>\n",
       "    </tr>\n",
       "    <tr>\n",
       "      <th>2021-01-03</th>\n",
       "      <td>-0.953722</td>\n",
       "      <td>-0.387674</td>\n",
       "      <td>-0.156608</td>\n",
       "      <td>-1.199035</td>\n",
       "    </tr>\n",
       "    <tr>\n",
       "      <th>2021-01-05</th>\n",
       "      <td>1.346783</td>\n",
       "      <td>-0.415391</td>\n",
       "      <td>1.321996</td>\n",
       "      <td>-0.730655</td>\n",
       "    </tr>\n",
       "    <tr>\n",
       "      <th>2021-01-06</th>\n",
       "      <td>0.387626</td>\n",
       "      <td>-1.458564</td>\n",
       "      <td>-0.609005</td>\n",
       "      <td>-1.593711</td>\n",
       "    </tr>\n",
       "  </tbody>\n",
       "</table>\n",
       "</div>"
      ],
      "text/plain": [
       "                   A         B         C         D\n",
       "2021-01-01 -0.452731 -0.528352 -0.707720 -0.244398\n",
       "2021-01-02  1.079441 -0.223509 -1.103294  0.016628\n",
       "2021-01-03 -0.953722 -0.387674 -0.156608 -1.199035\n",
       "2021-01-05  1.346783 -0.415391  1.321996 -0.730655\n",
       "2021-01-06  0.387626 -1.458564 -0.609005 -1.593711"
      ]
     },
     "execution_count": 78,
     "metadata": {},
     "output_type": "execute_result"
    }
   ],
   "source": [
    "df.drop([\"20210104\"])"
   ]
  },
  {
   "attachments": {},
   "cell_type": "markdown",
   "metadata": {},
   "source": [
    "## apply()"
   ]
  },
  {
   "cell_type": "code",
   "execution_count": 79,
   "metadata": {},
   "outputs": [
    {
     "data": {
      "text/html": [
       "<div>\n",
       "<style scoped>\n",
       "    .dataframe tbody tr th:only-of-type {\n",
       "        vertical-align: middle;\n",
       "    }\n",
       "\n",
       "    .dataframe tbody tr th {\n",
       "        vertical-align: top;\n",
       "    }\n",
       "\n",
       "    .dataframe thead th {\n",
       "        text-align: right;\n",
       "    }\n",
       "</style>\n",
       "<table border=\"1\" class=\"dataframe\">\n",
       "  <thead>\n",
       "    <tr style=\"text-align: right;\">\n",
       "      <th></th>\n",
       "      <th>A</th>\n",
       "      <th>B</th>\n",
       "      <th>C</th>\n",
       "      <th>D</th>\n",
       "    </tr>\n",
       "  </thead>\n",
       "  <tbody>\n",
       "    <tr>\n",
       "      <th>2021-01-01</th>\n",
       "      <td>-0.452731</td>\n",
       "      <td>-0.528352</td>\n",
       "      <td>-0.707720</td>\n",
       "      <td>-0.244398</td>\n",
       "    </tr>\n",
       "    <tr>\n",
       "      <th>2021-01-02</th>\n",
       "      <td>1.079441</td>\n",
       "      <td>-0.223509</td>\n",
       "      <td>-1.103294</td>\n",
       "      <td>0.016628</td>\n",
       "    </tr>\n",
       "    <tr>\n",
       "      <th>2021-01-03</th>\n",
       "      <td>-0.953722</td>\n",
       "      <td>-0.387674</td>\n",
       "      <td>-0.156608</td>\n",
       "      <td>-1.199035</td>\n",
       "    </tr>\n",
       "    <tr>\n",
       "      <th>2021-01-04</th>\n",
       "      <td>1.030712</td>\n",
       "      <td>-0.229508</td>\n",
       "      <td>0.054331</td>\n",
       "      <td>0.792131</td>\n",
       "    </tr>\n",
       "    <tr>\n",
       "      <th>2021-01-05</th>\n",
       "      <td>1.346783</td>\n",
       "      <td>-0.415391</td>\n",
       "      <td>1.321996</td>\n",
       "      <td>-0.730655</td>\n",
       "    </tr>\n",
       "    <tr>\n",
       "      <th>2021-01-06</th>\n",
       "      <td>0.387626</td>\n",
       "      <td>-1.458564</td>\n",
       "      <td>-0.609005</td>\n",
       "      <td>-1.593711</td>\n",
       "    </tr>\n",
       "  </tbody>\n",
       "</table>\n",
       "</div>"
      ],
      "text/plain": [
       "                   A         B         C         D\n",
       "2021-01-01 -0.452731 -0.528352 -0.707720 -0.244398\n",
       "2021-01-02  1.079441 -0.223509 -1.103294  0.016628\n",
       "2021-01-03 -0.953722 -0.387674 -0.156608 -1.199035\n",
       "2021-01-04  1.030712 -0.229508  0.054331  0.792131\n",
       "2021-01-05  1.346783 -0.415391  1.321996 -0.730655\n",
       "2021-01-06  0.387626 -1.458564 -0.609005 -1.593711"
      ]
     },
     "execution_count": 79,
     "metadata": {},
     "output_type": "execute_result"
    }
   ],
   "source": [
    "df"
   ]
  },
  {
   "cell_type": "code",
   "execution_count": 80,
   "metadata": {},
   "outputs": [
    {
     "data": {
      "text/plain": [
       "2.438108339089096"
      ]
     },
     "execution_count": 80,
     "metadata": {},
     "output_type": "execute_result"
    }
   ],
   "source": [
    "df[\"A\"].apply(\"sum\")"
   ]
  },
  {
   "cell_type": "code",
   "execution_count": 81,
   "metadata": {},
   "outputs": [
    {
     "data": {
      "text/plain": [
       "0.4063513898481827"
      ]
     },
     "execution_count": 81,
     "metadata": {},
     "output_type": "execute_result"
    }
   ],
   "source": [
    "df[\"A\"].apply(\"mean\")"
   ]
  },
  {
   "cell_type": "code",
   "execution_count": 82,
   "metadata": {},
   "outputs": [
    {
     "data": {
      "text/plain": [
       "(0.4063513898481827, 1.3467830912173504)"
      ]
     },
     "execution_count": 82,
     "metadata": {},
     "output_type": "execute_result"
    }
   ],
   "source": [
    "df[\"A\"].apply(\"mean\"), df[\"A\"].apply(\"max\")"
   ]
  },
  {
   "cell_type": "code",
   "execution_count": 83,
   "metadata": {},
   "outputs": [
    {
     "data": {
      "text/plain": [
       "A    2.438108\n",
       "D   -2.959041\n",
       "dtype: float64"
      ]
     },
     "execution_count": 83,
     "metadata": {},
     "output_type": "execute_result"
    }
   ],
   "source": [
    "df[[\"A\",\"D\"]].apply(\"sum\")"
   ]
  },
  {
   "cell_type": "code",
   "execution_count": 84,
   "metadata": {},
   "outputs": [
    {
     "data": {
      "text/plain": [
       "2021-01-01   -0.452731\n",
       "2021-01-02    1.079441\n",
       "2021-01-03   -0.953722\n",
       "2021-01-04    1.030712\n",
       "2021-01-05    1.346783\n",
       "2021-01-06    0.387626\n",
       "Freq: D, Name: A, dtype: float64"
      ]
     },
     "execution_count": 84,
     "metadata": {},
     "output_type": "execute_result"
    }
   ],
   "source": [
    "df[\"A\"].apply(np.mean)"
   ]
  },
  {
   "cell_type": "code",
   "execution_count": 85,
   "metadata": {},
   "outputs": [
    {
     "data": {
      "text/plain": [
       "2021-01-01    0.0\n",
       "2021-01-02    0.0\n",
       "2021-01-03    0.0\n",
       "2021-01-04    0.0\n",
       "2021-01-05    0.0\n",
       "2021-01-06    0.0\n",
       "Freq: D, Name: A, dtype: float64"
      ]
     },
     "execution_count": 85,
     "metadata": {},
     "output_type": "execute_result"
    }
   ],
   "source": [
    "df[\"A\"].apply(np.std)"
   ]
  },
  {
   "cell_type": "code",
   "execution_count": 86,
   "metadata": {},
   "outputs": [
    {
     "data": {
      "text/plain": [
       "A    2.438108\n",
       "B   -3.242998\n",
       "C   -1.200301\n",
       "D   -2.959041\n",
       "dtype: float64"
      ]
     },
     "execution_count": 86,
     "metadata": {},
     "output_type": "execute_result"
    }
   ],
   "source": [
    "df.apply(np.sum)"
   ]
  },
  {
   "cell_type": "code",
   "execution_count": 87,
   "metadata": {},
   "outputs": [
    {
     "data": {
      "text/html": [
       "<div>\n",
       "<style scoped>\n",
       "    .dataframe tbody tr th:only-of-type {\n",
       "        vertical-align: middle;\n",
       "    }\n",
       "\n",
       "    .dataframe tbody tr th {\n",
       "        vertical-align: top;\n",
       "    }\n",
       "\n",
       "    .dataframe thead th {\n",
       "        text-align: right;\n",
       "    }\n",
       "</style>\n",
       "<table border=\"1\" class=\"dataframe\">\n",
       "  <thead>\n",
       "    <tr style=\"text-align: right;\">\n",
       "      <th></th>\n",
       "      <th>A</th>\n",
       "      <th>B</th>\n",
       "      <th>C</th>\n",
       "      <th>D</th>\n",
       "    </tr>\n",
       "  </thead>\n",
       "  <tbody>\n",
       "    <tr>\n",
       "      <th>2021-01-01</th>\n",
       "      <td>-0.452731</td>\n",
       "      <td>-0.528352</td>\n",
       "      <td>-0.707720</td>\n",
       "      <td>-0.244398</td>\n",
       "    </tr>\n",
       "    <tr>\n",
       "      <th>2021-01-02</th>\n",
       "      <td>1.079441</td>\n",
       "      <td>-0.223509</td>\n",
       "      <td>-1.103294</td>\n",
       "      <td>0.016628</td>\n",
       "    </tr>\n",
       "    <tr>\n",
       "      <th>2021-01-03</th>\n",
       "      <td>-0.953722</td>\n",
       "      <td>-0.387674</td>\n",
       "      <td>-0.156608</td>\n",
       "      <td>-1.199035</td>\n",
       "    </tr>\n",
       "    <tr>\n",
       "      <th>2021-01-04</th>\n",
       "      <td>1.030712</td>\n",
       "      <td>-0.229508</td>\n",
       "      <td>0.054331</td>\n",
       "      <td>0.792131</td>\n",
       "    </tr>\n",
       "    <tr>\n",
       "      <th>2021-01-05</th>\n",
       "      <td>1.346783</td>\n",
       "      <td>-0.415391</td>\n",
       "      <td>1.321996</td>\n",
       "      <td>-0.730655</td>\n",
       "    </tr>\n",
       "    <tr>\n",
       "      <th>2021-01-06</th>\n",
       "      <td>0.387626</td>\n",
       "      <td>-1.458564</td>\n",
       "      <td>-0.609005</td>\n",
       "      <td>-1.593711</td>\n",
       "    </tr>\n",
       "  </tbody>\n",
       "</table>\n",
       "</div>"
      ],
      "text/plain": [
       "                   A         B         C         D\n",
       "2021-01-01 -0.452731 -0.528352 -0.707720 -0.244398\n",
       "2021-01-02  1.079441 -0.223509 -1.103294  0.016628\n",
       "2021-01-03 -0.953722 -0.387674 -0.156608 -1.199035\n",
       "2021-01-04  1.030712 -0.229508  0.054331  0.792131\n",
       "2021-01-05  1.346783 -0.415391  1.321996 -0.730655\n",
       "2021-01-06  0.387626 -1.458564 -0.609005 -1.593711"
      ]
     },
     "execution_count": 87,
     "metadata": {},
     "output_type": "execute_result"
    }
   ],
   "source": [
    "df"
   ]
  },
  {
   "cell_type": "code",
   "execution_count": 88,
   "metadata": {},
   "outputs": [],
   "source": [
    "def plusminus(num):\n",
    "    return \"plus\" if num > 0 else \"minus\""
   ]
  },
  {
   "cell_type": "code",
   "execution_count": 89,
   "metadata": {},
   "outputs": [
    {
     "data": {
      "text/plain": [
       "2021-01-01    minus\n",
       "2021-01-02     plus\n",
       "2021-01-03    minus\n",
       "2021-01-04     plus\n",
       "2021-01-05     plus\n",
       "2021-01-06     plus\n",
       "Freq: D, Name: A, dtype: object"
      ]
     },
     "execution_count": 89,
     "metadata": {},
     "output_type": "execute_result"
    }
   ],
   "source": [
    "df[\"A\"].apply(plusminus)"
   ]
  },
  {
   "cell_type": "code",
   "execution_count": 90,
   "metadata": {},
   "outputs": [
    {
     "data": {
      "text/plain": [
       "2021-01-01    minus\n",
       "2021-01-02     plus\n",
       "2021-01-03    minus\n",
       "2021-01-04     plus\n",
       "2021-01-05     plus\n",
       "2021-01-06     plus\n",
       "Freq: D, Name: A, dtype: object"
      ]
     },
     "execution_count": 90,
     "metadata": {},
     "output_type": "execute_result"
    }
   ],
   "source": [
    "df[\"A\"].apply(lambda num: \"plus\" if num >0 else \"minus\")"
   ]
  },
  {
   "attachments": {},
   "cell_type": "markdown",
   "metadata": {},
   "source": [
    "## 2. CCTV 데이터 훑어보기"
   ]
  },
  {
   "cell_type": "code",
   "execution_count": 91,
   "metadata": {},
   "outputs": [
    {
     "data": {
      "text/html": [
       "<div>\n",
       "<style scoped>\n",
       "    .dataframe tbody tr th:only-of-type {\n",
       "        vertical-align: middle;\n",
       "    }\n",
       "\n",
       "    .dataframe tbody tr th {\n",
       "        vertical-align: top;\n",
       "    }\n",
       "\n",
       "    .dataframe thead th {\n",
       "        text-align: right;\n",
       "    }\n",
       "</style>\n",
       "<table border=\"1\" class=\"dataframe\">\n",
       "  <thead>\n",
       "    <tr style=\"text-align: right;\">\n",
       "      <th></th>\n",
       "      <th>구별</th>\n",
       "      <th>소계</th>\n",
       "      <th>2013년도 이전</th>\n",
       "      <th>2014년</th>\n",
       "      <th>2015년</th>\n",
       "      <th>2016년</th>\n",
       "    </tr>\n",
       "  </thead>\n",
       "  <tbody>\n",
       "    <tr>\n",
       "      <th>0</th>\n",
       "      <td>강남구</td>\n",
       "      <td>3238</td>\n",
       "      <td>1292</td>\n",
       "      <td>430</td>\n",
       "      <td>584</td>\n",
       "      <td>932</td>\n",
       "    </tr>\n",
       "    <tr>\n",
       "      <th>1</th>\n",
       "      <td>강동구</td>\n",
       "      <td>1010</td>\n",
       "      <td>379</td>\n",
       "      <td>99</td>\n",
       "      <td>155</td>\n",
       "      <td>377</td>\n",
       "    </tr>\n",
       "    <tr>\n",
       "      <th>2</th>\n",
       "      <td>강북구</td>\n",
       "      <td>831</td>\n",
       "      <td>369</td>\n",
       "      <td>120</td>\n",
       "      <td>138</td>\n",
       "      <td>204</td>\n",
       "    </tr>\n",
       "    <tr>\n",
       "      <th>3</th>\n",
       "      <td>강서구</td>\n",
       "      <td>911</td>\n",
       "      <td>388</td>\n",
       "      <td>258</td>\n",
       "      <td>184</td>\n",
       "      <td>81</td>\n",
       "    </tr>\n",
       "    <tr>\n",
       "      <th>4</th>\n",
       "      <td>관악구</td>\n",
       "      <td>2109</td>\n",
       "      <td>846</td>\n",
       "      <td>260</td>\n",
       "      <td>390</td>\n",
       "      <td>613</td>\n",
       "    </tr>\n",
       "  </tbody>\n",
       "</table>\n",
       "</div>"
      ],
      "text/plain": [
       "    구별    소계  2013년도 이전  2014년  2015년  2016년\n",
       "0  강남구  3238       1292    430    584    932\n",
       "1  강동구  1010        379     99    155    377\n",
       "2  강북구   831        369    120    138    204\n",
       "3  강서구   911        388    258    184     81\n",
       "4  관악구  2109        846    260    390    613"
      ]
     },
     "execution_count": 91,
     "metadata": {},
     "output_type": "execute_result"
    }
   ],
   "source": [
    "CCTV_Seoul.head()"
   ]
  },
  {
   "cell_type": "code",
   "execution_count": 92,
   "metadata": {},
   "outputs": [
    {
     "data": {
      "text/html": [
       "<div>\n",
       "<style scoped>\n",
       "    .dataframe tbody tr th:only-of-type {\n",
       "        vertical-align: middle;\n",
       "    }\n",
       "\n",
       "    .dataframe tbody tr th {\n",
       "        vertical-align: top;\n",
       "    }\n",
       "\n",
       "    .dataframe thead th {\n",
       "        text-align: right;\n",
       "    }\n",
       "</style>\n",
       "<table border=\"1\" class=\"dataframe\">\n",
       "  <thead>\n",
       "    <tr style=\"text-align: right;\">\n",
       "      <th></th>\n",
       "      <th>구별</th>\n",
       "      <th>소계</th>\n",
       "      <th>2013년도 이전</th>\n",
       "      <th>2014년</th>\n",
       "      <th>2015년</th>\n",
       "      <th>2016년</th>\n",
       "    </tr>\n",
       "  </thead>\n",
       "  <tbody>\n",
       "    <tr>\n",
       "      <th>20</th>\n",
       "      <td>용산구</td>\n",
       "      <td>2096</td>\n",
       "      <td>1368</td>\n",
       "      <td>218</td>\n",
       "      <td>112</td>\n",
       "      <td>398</td>\n",
       "    </tr>\n",
       "    <tr>\n",
       "      <th>21</th>\n",
       "      <td>은평구</td>\n",
       "      <td>2108</td>\n",
       "      <td>1138</td>\n",
       "      <td>224</td>\n",
       "      <td>278</td>\n",
       "      <td>468</td>\n",
       "    </tr>\n",
       "    <tr>\n",
       "      <th>22</th>\n",
       "      <td>종로구</td>\n",
       "      <td>1619</td>\n",
       "      <td>464</td>\n",
       "      <td>314</td>\n",
       "      <td>211</td>\n",
       "      <td>630</td>\n",
       "    </tr>\n",
       "    <tr>\n",
       "      <th>23</th>\n",
       "      <td>중구</td>\n",
       "      <td>1023</td>\n",
       "      <td>413</td>\n",
       "      <td>190</td>\n",
       "      <td>72</td>\n",
       "      <td>348</td>\n",
       "    </tr>\n",
       "    <tr>\n",
       "      <th>24</th>\n",
       "      <td>중랑구</td>\n",
       "      <td>916</td>\n",
       "      <td>509</td>\n",
       "      <td>121</td>\n",
       "      <td>177</td>\n",
       "      <td>109</td>\n",
       "    </tr>\n",
       "  </tbody>\n",
       "</table>\n",
       "</div>"
      ],
      "text/plain": [
       "     구별    소계  2013년도 이전  2014년  2015년  2016년\n",
       "20  용산구  2096       1368    218    112    398\n",
       "21  은평구  2108       1138    224    278    468\n",
       "22  종로구  1619        464    314    211    630\n",
       "23   중구  1023        413    190     72    348\n",
       "24  중랑구   916        509    121    177    109"
      ]
     },
     "execution_count": 92,
     "metadata": {},
     "output_type": "execute_result"
    }
   ],
   "source": [
    "CCTV_Seoul.tail()"
   ]
  },
  {
   "cell_type": "code",
   "execution_count": 93,
   "metadata": {},
   "outputs": [
    {
     "data": {
      "text/html": [
       "<div>\n",
       "<style scoped>\n",
       "    .dataframe tbody tr th:only-of-type {\n",
       "        vertical-align: middle;\n",
       "    }\n",
       "\n",
       "    .dataframe tbody tr th {\n",
       "        vertical-align: top;\n",
       "    }\n",
       "\n",
       "    .dataframe thead th {\n",
       "        text-align: right;\n",
       "    }\n",
       "</style>\n",
       "<table border=\"1\" class=\"dataframe\">\n",
       "  <thead>\n",
       "    <tr style=\"text-align: right;\">\n",
       "      <th></th>\n",
       "      <th>구별</th>\n",
       "      <th>소계</th>\n",
       "      <th>2013년도 이전</th>\n",
       "      <th>2014년</th>\n",
       "      <th>2015년</th>\n",
       "      <th>2016년</th>\n",
       "    </tr>\n",
       "  </thead>\n",
       "  <tbody>\n",
       "    <tr>\n",
       "      <th>9</th>\n",
       "      <td>도봉구</td>\n",
       "      <td>825</td>\n",
       "      <td>238</td>\n",
       "      <td>159</td>\n",
       "      <td>42</td>\n",
       "      <td>386</td>\n",
       "    </tr>\n",
       "    <tr>\n",
       "      <th>2</th>\n",
       "      <td>강북구</td>\n",
       "      <td>831</td>\n",
       "      <td>369</td>\n",
       "      <td>120</td>\n",
       "      <td>138</td>\n",
       "      <td>204</td>\n",
       "    </tr>\n",
       "    <tr>\n",
       "      <th>5</th>\n",
       "      <td>광진구</td>\n",
       "      <td>878</td>\n",
       "      <td>573</td>\n",
       "      <td>78</td>\n",
       "      <td>53</td>\n",
       "      <td>174</td>\n",
       "    </tr>\n",
       "    <tr>\n",
       "      <th>3</th>\n",
       "      <td>강서구</td>\n",
       "      <td>911</td>\n",
       "      <td>388</td>\n",
       "      <td>258</td>\n",
       "      <td>184</td>\n",
       "      <td>81</td>\n",
       "    </tr>\n",
       "    <tr>\n",
       "      <th>24</th>\n",
       "      <td>중랑구</td>\n",
       "      <td>916</td>\n",
       "      <td>509</td>\n",
       "      <td>121</td>\n",
       "      <td>177</td>\n",
       "      <td>109</td>\n",
       "    </tr>\n",
       "  </tbody>\n",
       "</table>\n",
       "</div>"
      ],
      "text/plain": [
       "     구별   소계  2013년도 이전  2014년  2015년  2016년\n",
       "9   도봉구  825        238    159     42    386\n",
       "2   강북구  831        369    120    138    204\n",
       "5   광진구  878        573     78     53    174\n",
       "3   강서구  911        388    258    184     81\n",
       "24  중랑구  916        509    121    177    109"
      ]
     },
     "execution_count": 93,
     "metadata": {},
     "output_type": "execute_result"
    }
   ],
   "source": [
    "CCTV_Seoul.sort_values(by=\"소계\",ascending=True).head(5)"
   ]
  },
  {
   "cell_type": "code",
   "execution_count": 94,
   "metadata": {},
   "outputs": [
    {
     "data": {
      "text/html": [
       "<div>\n",
       "<style scoped>\n",
       "    .dataframe tbody tr th:only-of-type {\n",
       "        vertical-align: middle;\n",
       "    }\n",
       "\n",
       "    .dataframe tbody tr th {\n",
       "        vertical-align: top;\n",
       "    }\n",
       "\n",
       "    .dataframe thead th {\n",
       "        text-align: right;\n",
       "    }\n",
       "</style>\n",
       "<table border=\"1\" class=\"dataframe\">\n",
       "  <thead>\n",
       "    <tr style=\"text-align: right;\">\n",
       "      <th></th>\n",
       "      <th>구별</th>\n",
       "      <th>소계</th>\n",
       "      <th>2013년도 이전</th>\n",
       "      <th>2014년</th>\n",
       "      <th>2015년</th>\n",
       "      <th>2016년</th>\n",
       "    </tr>\n",
       "  </thead>\n",
       "  <tbody>\n",
       "    <tr>\n",
       "      <th>0</th>\n",
       "      <td>강남구</td>\n",
       "      <td>3238</td>\n",
       "      <td>1292</td>\n",
       "      <td>430</td>\n",
       "      <td>584</td>\n",
       "      <td>932</td>\n",
       "    </tr>\n",
       "    <tr>\n",
       "      <th>18</th>\n",
       "      <td>양천구</td>\n",
       "      <td>2482</td>\n",
       "      <td>1843</td>\n",
       "      <td>142</td>\n",
       "      <td>30</td>\n",
       "      <td>467</td>\n",
       "    </tr>\n",
       "    <tr>\n",
       "      <th>14</th>\n",
       "      <td>서초구</td>\n",
       "      <td>2297</td>\n",
       "      <td>1406</td>\n",
       "      <td>157</td>\n",
       "      <td>336</td>\n",
       "      <td>398</td>\n",
       "    </tr>\n",
       "    <tr>\n",
       "      <th>4</th>\n",
       "      <td>관악구</td>\n",
       "      <td>2109</td>\n",
       "      <td>846</td>\n",
       "      <td>260</td>\n",
       "      <td>390</td>\n",
       "      <td>613</td>\n",
       "    </tr>\n",
       "    <tr>\n",
       "      <th>21</th>\n",
       "      <td>은평구</td>\n",
       "      <td>2108</td>\n",
       "      <td>1138</td>\n",
       "      <td>224</td>\n",
       "      <td>278</td>\n",
       "      <td>468</td>\n",
       "    </tr>\n",
       "  </tbody>\n",
       "</table>\n",
       "</div>"
      ],
      "text/plain": [
       "     구별    소계  2013년도 이전  2014년  2015년  2016년\n",
       "0   강남구  3238       1292    430    584    932\n",
       "18  양천구  2482       1843    142     30    467\n",
       "14  서초구  2297       1406    157    336    398\n",
       "4   관악구  2109        846    260    390    613\n",
       "21  은평구  2108       1138    224    278    468"
      ]
     },
     "execution_count": 94,
     "metadata": {},
     "output_type": "execute_result"
    }
   ],
   "source": [
    "CCTV_Seoul.sort_values(by=\"소계\",ascending=False).head(5)"
   ]
  },
  {
   "cell_type": "code",
   "execution_count": 96,
   "metadata": {},
   "outputs": [
    {
     "data": {
      "text/html": [
       "<div>\n",
       "<style scoped>\n",
       "    .dataframe tbody tr th:only-of-type {\n",
       "        vertical-align: middle;\n",
       "    }\n",
       "\n",
       "    .dataframe tbody tr th {\n",
       "        vertical-align: top;\n",
       "    }\n",
       "\n",
       "    .dataframe thead th {\n",
       "        text-align: right;\n",
       "    }\n",
       "</style>\n",
       "<table border=\"1\" class=\"dataframe\">\n",
       "  <thead>\n",
       "    <tr style=\"text-align: right;\">\n",
       "      <th></th>\n",
       "      <th>구별</th>\n",
       "      <th>소계</th>\n",
       "      <th>2013년도 이전</th>\n",
       "      <th>2014년</th>\n",
       "      <th>2015년</th>\n",
       "      <th>2016년</th>\n",
       "      <th>최근증가율</th>\n",
       "    </tr>\n",
       "  </thead>\n",
       "  <tbody>\n",
       "    <tr>\n",
       "      <th>22</th>\n",
       "      <td>종로구</td>\n",
       "      <td>1619</td>\n",
       "      <td>464</td>\n",
       "      <td>314</td>\n",
       "      <td>211</td>\n",
       "      <td>630</td>\n",
       "      <td>248.922414</td>\n",
       "    </tr>\n",
       "    <tr>\n",
       "      <th>9</th>\n",
       "      <td>도봉구</td>\n",
       "      <td>825</td>\n",
       "      <td>238</td>\n",
       "      <td>159</td>\n",
       "      <td>42</td>\n",
       "      <td>386</td>\n",
       "      <td>246.638655</td>\n",
       "    </tr>\n",
       "    <tr>\n",
       "      <th>12</th>\n",
       "      <td>마포구</td>\n",
       "      <td>980</td>\n",
       "      <td>314</td>\n",
       "      <td>118</td>\n",
       "      <td>169</td>\n",
       "      <td>379</td>\n",
       "      <td>212.101911</td>\n",
       "    </tr>\n",
       "    <tr>\n",
       "      <th>8</th>\n",
       "      <td>노원구</td>\n",
       "      <td>1566</td>\n",
       "      <td>542</td>\n",
       "      <td>57</td>\n",
       "      <td>451</td>\n",
       "      <td>516</td>\n",
       "      <td>188.929889</td>\n",
       "    </tr>\n",
       "    <tr>\n",
       "      <th>1</th>\n",
       "      <td>강동구</td>\n",
       "      <td>1010</td>\n",
       "      <td>379</td>\n",
       "      <td>99</td>\n",
       "      <td>155</td>\n",
       "      <td>377</td>\n",
       "      <td>166.490765</td>\n",
       "    </tr>\n",
       "  </tbody>\n",
       "</table>\n",
       "</div>"
      ],
      "text/plain": [
       "     구별    소계  2013년도 이전  2014년  2015년  2016년       최근증가율\n",
       "22  종로구  1619        464    314    211    630  248.922414\n",
       "9   도봉구   825        238    159     42    386  246.638655\n",
       "12  마포구   980        314    118    169    379  212.101911\n",
       "8   노원구  1566        542     57    451    516  188.929889\n",
       "1   강동구  1010        379     99    155    377  166.490765"
      ]
     },
     "execution_count": 96,
     "metadata": {},
     "output_type": "execute_result"
    }
   ],
   "source": [
    "# 기존 컬럼이 없으면 추가, 있으면 수정\n",
    "CCTV_Seoul[\"최근증가율\"]= (\n",
    "    (CCTV_Seoul[\"2016년\"]+ CCTV_Seoul[\"2015년\"] + CCTV_Seoul[\"2014년\"]) / CCTV_Seoul[\"2013년도 이전\"] * 100\n",
    ")\n",
    "CCTV_Seoul.sort_values(by=\"최근증가율\", ascending=False).head(5)"
   ]
  },
  {
   "attachments": {},
   "cell_type": "markdown",
   "metadata": {},
   "source": [
    "## 3. 인구현황 데이터 훑어보기"
   ]
  },
  {
   "cell_type": "code",
   "execution_count": 97,
   "metadata": {},
   "outputs": [
    {
     "data": {
      "text/html": [
       "<div>\n",
       "<style scoped>\n",
       "    .dataframe tbody tr th:only-of-type {\n",
       "        vertical-align: middle;\n",
       "    }\n",
       "\n",
       "    .dataframe tbody tr th {\n",
       "        vertical-align: top;\n",
       "    }\n",
       "\n",
       "    .dataframe thead th {\n",
       "        text-align: right;\n",
       "    }\n",
       "</style>\n",
       "<table border=\"1\" class=\"dataframe\">\n",
       "  <thead>\n",
       "    <tr style=\"text-align: right;\">\n",
       "      <th></th>\n",
       "      <th>구별</th>\n",
       "      <th>인구수</th>\n",
       "      <th>한국인</th>\n",
       "      <th>외국인</th>\n",
       "      <th>고령자</th>\n",
       "    </tr>\n",
       "  </thead>\n",
       "  <tbody>\n",
       "    <tr>\n",
       "      <th>0</th>\n",
       "      <td>합계</td>\n",
       "      <td>10124579</td>\n",
       "      <td>9857426</td>\n",
       "      <td>267153</td>\n",
       "      <td>1365126</td>\n",
       "    </tr>\n",
       "    <tr>\n",
       "      <th>1</th>\n",
       "      <td>종로구</td>\n",
       "      <td>164257</td>\n",
       "      <td>154770</td>\n",
       "      <td>9487</td>\n",
       "      <td>26182</td>\n",
       "    </tr>\n",
       "    <tr>\n",
       "      <th>2</th>\n",
       "      <td>중구</td>\n",
       "      <td>134593</td>\n",
       "      <td>125709</td>\n",
       "      <td>8884</td>\n",
       "      <td>21384</td>\n",
       "    </tr>\n",
       "    <tr>\n",
       "      <th>3</th>\n",
       "      <td>용산구</td>\n",
       "      <td>244444</td>\n",
       "      <td>229161</td>\n",
       "      <td>15283</td>\n",
       "      <td>36882</td>\n",
       "    </tr>\n",
       "    <tr>\n",
       "      <th>4</th>\n",
       "      <td>성동구</td>\n",
       "      <td>312711</td>\n",
       "      <td>304808</td>\n",
       "      <td>7903</td>\n",
       "      <td>41273</td>\n",
       "    </tr>\n",
       "  </tbody>\n",
       "</table>\n",
       "</div>"
      ],
      "text/plain": [
       "    구별       인구수      한국인     외국인      고령자\n",
       "0   합계  10124579  9857426  267153  1365126\n",
       "1  종로구    164257   154770    9487    26182\n",
       "2   중구    134593   125709    8884    21384\n",
       "3  용산구    244444   229161   15283    36882\n",
       "4  성동구    312711   304808    7903    41273"
      ]
     },
     "execution_count": 97,
     "metadata": {},
     "output_type": "execute_result"
    }
   ],
   "source": [
    "pop_Seoul.head()"
   ]
  },
  {
   "cell_type": "code",
   "execution_count": 98,
   "metadata": {},
   "outputs": [
    {
     "data": {
      "text/html": [
       "<div>\n",
       "<style scoped>\n",
       "    .dataframe tbody tr th:only-of-type {\n",
       "        vertical-align: middle;\n",
       "    }\n",
       "\n",
       "    .dataframe tbody tr th {\n",
       "        vertical-align: top;\n",
       "    }\n",
       "\n",
       "    .dataframe thead th {\n",
       "        text-align: right;\n",
       "    }\n",
       "</style>\n",
       "<table border=\"1\" class=\"dataframe\">\n",
       "  <thead>\n",
       "    <tr style=\"text-align: right;\">\n",
       "      <th></th>\n",
       "      <th>구별</th>\n",
       "      <th>인구수</th>\n",
       "      <th>한국인</th>\n",
       "      <th>외국인</th>\n",
       "      <th>고령자</th>\n",
       "    </tr>\n",
       "  </thead>\n",
       "  <tbody>\n",
       "    <tr>\n",
       "      <th>21</th>\n",
       "      <td>관악구</td>\n",
       "      <td>520929</td>\n",
       "      <td>503297</td>\n",
       "      <td>17632</td>\n",
       "      <td>70046</td>\n",
       "    </tr>\n",
       "    <tr>\n",
       "      <th>22</th>\n",
       "      <td>서초구</td>\n",
       "      <td>445401</td>\n",
       "      <td>441102</td>\n",
       "      <td>4299</td>\n",
       "      <td>53205</td>\n",
       "    </tr>\n",
       "    <tr>\n",
       "      <th>23</th>\n",
       "      <td>강남구</td>\n",
       "      <td>561052</td>\n",
       "      <td>556164</td>\n",
       "      <td>4888</td>\n",
       "      <td>65060</td>\n",
       "    </tr>\n",
       "    <tr>\n",
       "      <th>24</th>\n",
       "      <td>송파구</td>\n",
       "      <td>671173</td>\n",
       "      <td>664496</td>\n",
       "      <td>6677</td>\n",
       "      <td>76582</td>\n",
       "    </tr>\n",
       "    <tr>\n",
       "      <th>25</th>\n",
       "      <td>강동구</td>\n",
       "      <td>440359</td>\n",
       "      <td>436223</td>\n",
       "      <td>4136</td>\n",
       "      <td>56161</td>\n",
       "    </tr>\n",
       "  </tbody>\n",
       "</table>\n",
       "</div>"
      ],
      "text/plain": [
       "     구별     인구수     한국인    외국인    고령자\n",
       "21  관악구  520929  503297  17632  70046\n",
       "22  서초구  445401  441102   4299  53205\n",
       "23  강남구  561052  556164   4888  65060\n",
       "24  송파구  671173  664496   6677  76582\n",
       "25  강동구  440359  436223   4136  56161"
      ]
     },
     "execution_count": 98,
     "metadata": {},
     "output_type": "execute_result"
    }
   ],
   "source": [
    "pop_Seoul.tail()"
   ]
  },
  {
   "cell_type": "code",
   "execution_count": 99,
   "metadata": {},
   "outputs": [
    {
     "data": {
      "text/html": [
       "<div>\n",
       "<style scoped>\n",
       "    .dataframe tbody tr th:only-of-type {\n",
       "        vertical-align: middle;\n",
       "    }\n",
       "\n",
       "    .dataframe tbody tr th {\n",
       "        vertical-align: top;\n",
       "    }\n",
       "\n",
       "    .dataframe thead th {\n",
       "        text-align: right;\n",
       "    }\n",
       "</style>\n",
       "<table border=\"1\" class=\"dataframe\">\n",
       "  <thead>\n",
       "    <tr style=\"text-align: right;\">\n",
       "      <th></th>\n",
       "      <th>구별</th>\n",
       "      <th>인구수</th>\n",
       "      <th>한국인</th>\n",
       "      <th>외국인</th>\n",
       "      <th>고령자</th>\n",
       "    </tr>\n",
       "  </thead>\n",
       "  <tbody>\n",
       "    <tr>\n",
       "      <th>1</th>\n",
       "      <td>종로구</td>\n",
       "      <td>164257</td>\n",
       "      <td>154770</td>\n",
       "      <td>9487</td>\n",
       "      <td>26182</td>\n",
       "    </tr>\n",
       "    <tr>\n",
       "      <th>2</th>\n",
       "      <td>중구</td>\n",
       "      <td>134593</td>\n",
       "      <td>125709</td>\n",
       "      <td>8884</td>\n",
       "      <td>21384</td>\n",
       "    </tr>\n",
       "    <tr>\n",
       "      <th>3</th>\n",
       "      <td>용산구</td>\n",
       "      <td>244444</td>\n",
       "      <td>229161</td>\n",
       "      <td>15283</td>\n",
       "      <td>36882</td>\n",
       "    </tr>\n",
       "    <tr>\n",
       "      <th>4</th>\n",
       "      <td>성동구</td>\n",
       "      <td>312711</td>\n",
       "      <td>304808</td>\n",
       "      <td>7903</td>\n",
       "      <td>41273</td>\n",
       "    </tr>\n",
       "    <tr>\n",
       "      <th>5</th>\n",
       "      <td>광진구</td>\n",
       "      <td>372298</td>\n",
       "      <td>357703</td>\n",
       "      <td>14595</td>\n",
       "      <td>43953</td>\n",
       "    </tr>\n",
       "  </tbody>\n",
       "</table>\n",
       "</div>"
      ],
      "text/plain": [
       "    구별     인구수     한국인    외국인    고령자\n",
       "1  종로구  164257  154770   9487  26182\n",
       "2   중구  134593  125709   8884  21384\n",
       "3  용산구  244444  229161  15283  36882\n",
       "4  성동구  312711  304808   7903  41273\n",
       "5  광진구  372298  357703  14595  43953"
      ]
     },
     "execution_count": 99,
     "metadata": {},
     "output_type": "execute_result"
    }
   ],
   "source": [
    "pop_Seoul.drop([0], axis=0, inplace=True)\n",
    "pop_Seoul.head()"
   ]
  },
  {
   "cell_type": "code",
   "execution_count": 100,
   "metadata": {},
   "outputs": [
    {
     "data": {
      "text/plain": [
       "array(['종로구', '중구', '용산구', '성동구', '광진구', '동대문구', '중랑구', '성북구', '강북구',\n",
       "       '도봉구', '노원구', '은평구', '서대문구', '마포구', '양천구', '강서구', '구로구', '금천구',\n",
       "       '영등포구', '동작구', '관악구', '서초구', '강남구', '송파구', '강동구'], dtype=object)"
      ]
     },
     "execution_count": 100,
     "metadata": {},
     "output_type": "execute_result"
    }
   ],
   "source": [
    "pop_Seoul[\"구별\"].unique()"
   ]
  },
  {
   "cell_type": "code",
   "execution_count": 101,
   "metadata": {},
   "outputs": [
    {
     "data": {
      "text/plain": [
       "25"
      ]
     },
     "execution_count": 101,
     "metadata": {},
     "output_type": "execute_result"
    }
   ],
   "source": [
    "len(pop_Seoul[\"구별\"].unique())"
   ]
  },
  {
   "cell_type": "code",
   "execution_count": 102,
   "metadata": {},
   "outputs": [
    {
     "data": {
      "text/html": [
       "<div>\n",
       "<style scoped>\n",
       "    .dataframe tbody tr th:only-of-type {\n",
       "        vertical-align: middle;\n",
       "    }\n",
       "\n",
       "    .dataframe tbody tr th {\n",
       "        vertical-align: top;\n",
       "    }\n",
       "\n",
       "    .dataframe thead th {\n",
       "        text-align: right;\n",
       "    }\n",
       "</style>\n",
       "<table border=\"1\" class=\"dataframe\">\n",
       "  <thead>\n",
       "    <tr style=\"text-align: right;\">\n",
       "      <th></th>\n",
       "      <th>구별</th>\n",
       "      <th>인구수</th>\n",
       "      <th>한국인</th>\n",
       "      <th>외국인</th>\n",
       "      <th>고령자</th>\n",
       "      <th>외국인비율</th>\n",
       "      <th>고령자비율</th>\n",
       "    </tr>\n",
       "  </thead>\n",
       "  <tbody>\n",
       "    <tr>\n",
       "      <th>1</th>\n",
       "      <td>종로구</td>\n",
       "      <td>164257</td>\n",
       "      <td>154770</td>\n",
       "      <td>9487</td>\n",
       "      <td>26182</td>\n",
       "      <td>5.775705</td>\n",
       "      <td>15.939656</td>\n",
       "    </tr>\n",
       "    <tr>\n",
       "      <th>2</th>\n",
       "      <td>중구</td>\n",
       "      <td>134593</td>\n",
       "      <td>125709</td>\n",
       "      <td>8884</td>\n",
       "      <td>21384</td>\n",
       "      <td>6.600640</td>\n",
       "      <td>15.887899</td>\n",
       "    </tr>\n",
       "    <tr>\n",
       "      <th>3</th>\n",
       "      <td>용산구</td>\n",
       "      <td>244444</td>\n",
       "      <td>229161</td>\n",
       "      <td>15283</td>\n",
       "      <td>36882</td>\n",
       "      <td>6.252148</td>\n",
       "      <td>15.088118</td>\n",
       "    </tr>\n",
       "    <tr>\n",
       "      <th>4</th>\n",
       "      <td>성동구</td>\n",
       "      <td>312711</td>\n",
       "      <td>304808</td>\n",
       "      <td>7903</td>\n",
       "      <td>41273</td>\n",
       "      <td>2.527254</td>\n",
       "      <td>13.198448</td>\n",
       "    </tr>\n",
       "    <tr>\n",
       "      <th>5</th>\n",
       "      <td>광진구</td>\n",
       "      <td>372298</td>\n",
       "      <td>357703</td>\n",
       "      <td>14595</td>\n",
       "      <td>43953</td>\n",
       "      <td>3.920247</td>\n",
       "      <td>11.805865</td>\n",
       "    </tr>\n",
       "  </tbody>\n",
       "</table>\n",
       "</div>"
      ],
      "text/plain": [
       "    구별     인구수     한국인    외국인    고령자     외국인비율      고령자비율\n",
       "1  종로구  164257  154770   9487  26182  5.775705  15.939656\n",
       "2   중구  134593  125709   8884  21384  6.600640  15.887899\n",
       "3  용산구  244444  229161  15283  36882  6.252148  15.088118\n",
       "4  성동구  312711  304808   7903  41273  2.527254  13.198448\n",
       "5  광진구  372298  357703  14595  43953  3.920247  11.805865"
      ]
     },
     "execution_count": 102,
     "metadata": {},
     "output_type": "execute_result"
    }
   ],
   "source": [
    "# 외국인비율, 고령자비율\n",
    "\n",
    "pop_Seoul[\"외국인비율\"] = pop_Seoul[\"외국인\"] / pop_Seoul[\"인구수\"] * 100\n",
    "pop_Seoul[\"고령자비율\"] = pop_Seoul[\"고령자\"] / pop_Seoul[\"인구수\"] * 100\n",
    "pop_Seoul.head()"
   ]
  },
  {
   "cell_type": "code",
   "execution_count": 103,
   "metadata": {},
   "outputs": [
    {
     "data": {
      "text/html": [
       "<div>\n",
       "<style scoped>\n",
       "    .dataframe tbody tr th:only-of-type {\n",
       "        vertical-align: middle;\n",
       "    }\n",
       "\n",
       "    .dataframe tbody tr th {\n",
       "        vertical-align: top;\n",
       "    }\n",
       "\n",
       "    .dataframe thead th {\n",
       "        text-align: right;\n",
       "    }\n",
       "</style>\n",
       "<table border=\"1\" class=\"dataframe\">\n",
       "  <thead>\n",
       "    <tr style=\"text-align: right;\">\n",
       "      <th></th>\n",
       "      <th>구별</th>\n",
       "      <th>인구수</th>\n",
       "      <th>한국인</th>\n",
       "      <th>외국인</th>\n",
       "      <th>고령자</th>\n",
       "      <th>외국인비율</th>\n",
       "      <th>고령자비율</th>\n",
       "    </tr>\n",
       "  </thead>\n",
       "  <tbody>\n",
       "    <tr>\n",
       "      <th>24</th>\n",
       "      <td>송파구</td>\n",
       "      <td>671173</td>\n",
       "      <td>664496</td>\n",
       "      <td>6677</td>\n",
       "      <td>76582</td>\n",
       "      <td>0.994825</td>\n",
       "      <td>11.410173</td>\n",
       "    </tr>\n",
       "    <tr>\n",
       "      <th>16</th>\n",
       "      <td>강서구</td>\n",
       "      <td>608255</td>\n",
       "      <td>601691</td>\n",
       "      <td>6564</td>\n",
       "      <td>76032</td>\n",
       "      <td>1.079153</td>\n",
       "      <td>12.500021</td>\n",
       "    </tr>\n",
       "    <tr>\n",
       "      <th>23</th>\n",
       "      <td>강남구</td>\n",
       "      <td>561052</td>\n",
       "      <td>556164</td>\n",
       "      <td>4888</td>\n",
       "      <td>65060</td>\n",
       "      <td>0.871220</td>\n",
       "      <td>11.596073</td>\n",
       "    </tr>\n",
       "    <tr>\n",
       "      <th>11</th>\n",
       "      <td>노원구</td>\n",
       "      <td>558075</td>\n",
       "      <td>554403</td>\n",
       "      <td>3672</td>\n",
       "      <td>74243</td>\n",
       "      <td>0.657976</td>\n",
       "      <td>13.303409</td>\n",
       "    </tr>\n",
       "    <tr>\n",
       "      <th>21</th>\n",
       "      <td>관악구</td>\n",
       "      <td>520929</td>\n",
       "      <td>503297</td>\n",
       "      <td>17632</td>\n",
       "      <td>70046</td>\n",
       "      <td>3.384722</td>\n",
       "      <td>13.446362</td>\n",
       "    </tr>\n",
       "  </tbody>\n",
       "</table>\n",
       "</div>"
      ],
      "text/plain": [
       "     구별     인구수     한국인    외국인    고령자     외국인비율      고령자비율\n",
       "24  송파구  671173  664496   6677  76582  0.994825  11.410173\n",
       "16  강서구  608255  601691   6564  76032  1.079153  12.500021\n",
       "23  강남구  561052  556164   4888  65060  0.871220  11.596073\n",
       "11  노원구  558075  554403   3672  74243  0.657976  13.303409\n",
       "21  관악구  520929  503297  17632  70046  3.384722  13.446362"
      ]
     },
     "execution_count": 103,
     "metadata": {},
     "output_type": "execute_result"
    }
   ],
   "source": [
    "pop_Seoul.sort_values([\"인구수\"], ascending=False).head(5)"
   ]
  },
  {
   "cell_type": "code",
   "execution_count": 104,
   "metadata": {},
   "outputs": [
    {
     "data": {
      "text/html": [
       "<div>\n",
       "<style scoped>\n",
       "    .dataframe tbody tr th:only-of-type {\n",
       "        vertical-align: middle;\n",
       "    }\n",
       "\n",
       "    .dataframe tbody tr th {\n",
       "        vertical-align: top;\n",
       "    }\n",
       "\n",
       "    .dataframe thead th {\n",
       "        text-align: right;\n",
       "    }\n",
       "</style>\n",
       "<table border=\"1\" class=\"dataframe\">\n",
       "  <thead>\n",
       "    <tr style=\"text-align: right;\">\n",
       "      <th></th>\n",
       "      <th>구별</th>\n",
       "      <th>인구수</th>\n",
       "      <th>한국인</th>\n",
       "      <th>외국인</th>\n",
       "      <th>고령자</th>\n",
       "      <th>외국인비율</th>\n",
       "      <th>고령자비율</th>\n",
       "    </tr>\n",
       "  </thead>\n",
       "  <tbody>\n",
       "    <tr>\n",
       "      <th>19</th>\n",
       "      <td>영등포구</td>\n",
       "      <td>402024</td>\n",
       "      <td>368550</td>\n",
       "      <td>33474</td>\n",
       "      <td>53981</td>\n",
       "      <td>8.326369</td>\n",
       "      <td>13.427308</td>\n",
       "    </tr>\n",
       "    <tr>\n",
       "      <th>17</th>\n",
       "      <td>구로구</td>\n",
       "      <td>441559</td>\n",
       "      <td>410742</td>\n",
       "      <td>30817</td>\n",
       "      <td>58794</td>\n",
       "      <td>6.979135</td>\n",
       "      <td>13.315095</td>\n",
       "    </tr>\n",
       "    <tr>\n",
       "      <th>18</th>\n",
       "      <td>금천구</td>\n",
       "      <td>253491</td>\n",
       "      <td>235154</td>\n",
       "      <td>18337</td>\n",
       "      <td>34170</td>\n",
       "      <td>7.233787</td>\n",
       "      <td>13.479769</td>\n",
       "    </tr>\n",
       "    <tr>\n",
       "      <th>21</th>\n",
       "      <td>관악구</td>\n",
       "      <td>520929</td>\n",
       "      <td>503297</td>\n",
       "      <td>17632</td>\n",
       "      <td>70046</td>\n",
       "      <td>3.384722</td>\n",
       "      <td>13.446362</td>\n",
       "    </tr>\n",
       "    <tr>\n",
       "      <th>6</th>\n",
       "      <td>동대문구</td>\n",
       "      <td>366011</td>\n",
       "      <td>350647</td>\n",
       "      <td>15364</td>\n",
       "      <td>55718</td>\n",
       "      <td>4.197688</td>\n",
       "      <td>15.223040</td>\n",
       "    </tr>\n",
       "  </tbody>\n",
       "</table>\n",
       "</div>"
      ],
      "text/plain": [
       "      구별     인구수     한국인    외국인    고령자     외국인비율      고령자비율\n",
       "19  영등포구  402024  368550  33474  53981  8.326369  13.427308\n",
       "17   구로구  441559  410742  30817  58794  6.979135  13.315095\n",
       "18   금천구  253491  235154  18337  34170  7.233787  13.479769\n",
       "21   관악구  520929  503297  17632  70046  3.384722  13.446362\n",
       "6   동대문구  366011  350647  15364  55718  4.197688  15.223040"
      ]
     },
     "execution_count": 104,
     "metadata": {},
     "output_type": "execute_result"
    }
   ],
   "source": [
    "pop_Seoul.sort_values([\"외국인\"], ascending=False).head(5)"
   ]
  },
  {
   "cell_type": "code",
   "execution_count": 105,
   "metadata": {},
   "outputs": [
    {
     "data": {
      "text/html": [
       "<div>\n",
       "<style scoped>\n",
       "    .dataframe tbody tr th:only-of-type {\n",
       "        vertical-align: middle;\n",
       "    }\n",
       "\n",
       "    .dataframe tbody tr th {\n",
       "        vertical-align: top;\n",
       "    }\n",
       "\n",
       "    .dataframe thead th {\n",
       "        text-align: right;\n",
       "    }\n",
       "</style>\n",
       "<table border=\"1\" class=\"dataframe\">\n",
       "  <thead>\n",
       "    <tr style=\"text-align: right;\">\n",
       "      <th></th>\n",
       "      <th>구별</th>\n",
       "      <th>인구수</th>\n",
       "      <th>한국인</th>\n",
       "      <th>외국인</th>\n",
       "      <th>고령자</th>\n",
       "      <th>외국인비율</th>\n",
       "      <th>고령자비율</th>\n",
       "    </tr>\n",
       "  </thead>\n",
       "  <tbody>\n",
       "    <tr>\n",
       "      <th>19</th>\n",
       "      <td>영등포구</td>\n",
       "      <td>402024</td>\n",
       "      <td>368550</td>\n",
       "      <td>33474</td>\n",
       "      <td>53981</td>\n",
       "      <td>8.326369</td>\n",
       "      <td>13.427308</td>\n",
       "    </tr>\n",
       "    <tr>\n",
       "      <th>18</th>\n",
       "      <td>금천구</td>\n",
       "      <td>253491</td>\n",
       "      <td>235154</td>\n",
       "      <td>18337</td>\n",
       "      <td>34170</td>\n",
       "      <td>7.233787</td>\n",
       "      <td>13.479769</td>\n",
       "    </tr>\n",
       "    <tr>\n",
       "      <th>17</th>\n",
       "      <td>구로구</td>\n",
       "      <td>441559</td>\n",
       "      <td>410742</td>\n",
       "      <td>30817</td>\n",
       "      <td>58794</td>\n",
       "      <td>6.979135</td>\n",
       "      <td>13.315095</td>\n",
       "    </tr>\n",
       "    <tr>\n",
       "      <th>2</th>\n",
       "      <td>중구</td>\n",
       "      <td>134593</td>\n",
       "      <td>125709</td>\n",
       "      <td>8884</td>\n",
       "      <td>21384</td>\n",
       "      <td>6.600640</td>\n",
       "      <td>15.887899</td>\n",
       "    </tr>\n",
       "    <tr>\n",
       "      <th>3</th>\n",
       "      <td>용산구</td>\n",
       "      <td>244444</td>\n",
       "      <td>229161</td>\n",
       "      <td>15283</td>\n",
       "      <td>36882</td>\n",
       "      <td>6.252148</td>\n",
       "      <td>15.088118</td>\n",
       "    </tr>\n",
       "  </tbody>\n",
       "</table>\n",
       "</div>"
      ],
      "text/plain": [
       "      구별     인구수     한국인    외국인    고령자     외국인비율      고령자비율\n",
       "19  영등포구  402024  368550  33474  53981  8.326369  13.427308\n",
       "18   금천구  253491  235154  18337  34170  7.233787  13.479769\n",
       "17   구로구  441559  410742  30817  58794  6.979135  13.315095\n",
       "2     중구  134593  125709   8884  21384  6.600640  15.887899\n",
       "3    용산구  244444  229161  15283  36882  6.252148  15.088118"
      ]
     },
     "execution_count": 105,
     "metadata": {},
     "output_type": "execute_result"
    }
   ],
   "source": [
    "pop_Seoul.sort_values([\"외국인비율\"], ascending=False).head()"
   ]
  },
  {
   "cell_type": "code",
   "execution_count": 108,
   "metadata": {},
   "outputs": [
    {
     "data": {
      "text/html": [
       "<div>\n",
       "<style scoped>\n",
       "    .dataframe tbody tr th:only-of-type {\n",
       "        vertical-align: middle;\n",
       "    }\n",
       "\n",
       "    .dataframe tbody tr th {\n",
       "        vertical-align: top;\n",
       "    }\n",
       "\n",
       "    .dataframe thead th {\n",
       "        text-align: right;\n",
       "    }\n",
       "</style>\n",
       "<table border=\"1\" class=\"dataframe\">\n",
       "  <thead>\n",
       "    <tr style=\"text-align: right;\">\n",
       "      <th></th>\n",
       "      <th>구별</th>\n",
       "      <th>인구수</th>\n",
       "      <th>한국인</th>\n",
       "      <th>외국인</th>\n",
       "      <th>고령자</th>\n",
       "      <th>외국인비율</th>\n",
       "      <th>고령자비율</th>\n",
       "    </tr>\n",
       "  </thead>\n",
       "  <tbody>\n",
       "    <tr>\n",
       "      <th>24</th>\n",
       "      <td>송파구</td>\n",
       "      <td>671173</td>\n",
       "      <td>664496</td>\n",
       "      <td>6677</td>\n",
       "      <td>76582</td>\n",
       "      <td>0.994825</td>\n",
       "      <td>11.410173</td>\n",
       "    </tr>\n",
       "    <tr>\n",
       "      <th>16</th>\n",
       "      <td>강서구</td>\n",
       "      <td>608255</td>\n",
       "      <td>601691</td>\n",
       "      <td>6564</td>\n",
       "      <td>76032</td>\n",
       "      <td>1.079153</td>\n",
       "      <td>12.500021</td>\n",
       "    </tr>\n",
       "    <tr>\n",
       "      <th>12</th>\n",
       "      <td>은평구</td>\n",
       "      <td>491202</td>\n",
       "      <td>486794</td>\n",
       "      <td>4408</td>\n",
       "      <td>74559</td>\n",
       "      <td>0.897390</td>\n",
       "      <td>15.178888</td>\n",
       "    </tr>\n",
       "    <tr>\n",
       "      <th>11</th>\n",
       "      <td>노원구</td>\n",
       "      <td>558075</td>\n",
       "      <td>554403</td>\n",
       "      <td>3672</td>\n",
       "      <td>74243</td>\n",
       "      <td>0.657976</td>\n",
       "      <td>13.303409</td>\n",
       "    </tr>\n",
       "    <tr>\n",
       "      <th>21</th>\n",
       "      <td>관악구</td>\n",
       "      <td>520929</td>\n",
       "      <td>503297</td>\n",
       "      <td>17632</td>\n",
       "      <td>70046</td>\n",
       "      <td>3.384722</td>\n",
       "      <td>13.446362</td>\n",
       "    </tr>\n",
       "  </tbody>\n",
       "</table>\n",
       "</div>"
      ],
      "text/plain": [
       "     구별     인구수     한국인    외국인    고령자     외국인비율      고령자비율\n",
       "24  송파구  671173  664496   6677  76582  0.994825  11.410173\n",
       "16  강서구  608255  601691   6564  76032  1.079153  12.500021\n",
       "12  은평구  491202  486794   4408  74559  0.897390  15.178888\n",
       "11  노원구  558075  554403   3672  74243  0.657976  13.303409\n",
       "21  관악구  520929  503297  17632  70046  3.384722  13.446362"
      ]
     },
     "execution_count": 108,
     "metadata": {},
     "output_type": "execute_result"
    }
   ],
   "source": [
    "pop_Seoul.sort_values(by=\"고령자\", ascending=False).head(5)"
   ]
  },
  {
   "cell_type": "code",
   "execution_count": 109,
   "metadata": {},
   "outputs": [
    {
     "data": {
      "text/html": [
       "<div>\n",
       "<style scoped>\n",
       "    .dataframe tbody tr th:only-of-type {\n",
       "        vertical-align: middle;\n",
       "    }\n",
       "\n",
       "    .dataframe tbody tr th {\n",
       "        vertical-align: top;\n",
       "    }\n",
       "\n",
       "    .dataframe thead th {\n",
       "        text-align: right;\n",
       "    }\n",
       "</style>\n",
       "<table border=\"1\" class=\"dataframe\">\n",
       "  <thead>\n",
       "    <tr style=\"text-align: right;\">\n",
       "      <th></th>\n",
       "      <th>구별</th>\n",
       "      <th>인구수</th>\n",
       "      <th>한국인</th>\n",
       "      <th>외국인</th>\n",
       "      <th>고령자</th>\n",
       "      <th>외국인비율</th>\n",
       "      <th>고령자비율</th>\n",
       "    </tr>\n",
       "  </thead>\n",
       "  <tbody>\n",
       "    <tr>\n",
       "      <th>9</th>\n",
       "      <td>강북구</td>\n",
       "      <td>328002</td>\n",
       "      <td>324479</td>\n",
       "      <td>3523</td>\n",
       "      <td>56530</td>\n",
       "      <td>1.074079</td>\n",
       "      <td>17.234651</td>\n",
       "    </tr>\n",
       "    <tr>\n",
       "      <th>1</th>\n",
       "      <td>종로구</td>\n",
       "      <td>164257</td>\n",
       "      <td>154770</td>\n",
       "      <td>9487</td>\n",
       "      <td>26182</td>\n",
       "      <td>5.775705</td>\n",
       "      <td>15.939656</td>\n",
       "    </tr>\n",
       "    <tr>\n",
       "      <th>2</th>\n",
       "      <td>중구</td>\n",
       "      <td>134593</td>\n",
       "      <td>125709</td>\n",
       "      <td>8884</td>\n",
       "      <td>21384</td>\n",
       "      <td>6.600640</td>\n",
       "      <td>15.887899</td>\n",
       "    </tr>\n",
       "    <tr>\n",
       "      <th>10</th>\n",
       "      <td>도봉구</td>\n",
       "      <td>346234</td>\n",
       "      <td>344166</td>\n",
       "      <td>2068</td>\n",
       "      <td>53488</td>\n",
       "      <td>0.597284</td>\n",
       "      <td>15.448512</td>\n",
       "    </tr>\n",
       "    <tr>\n",
       "      <th>6</th>\n",
       "      <td>동대문구</td>\n",
       "      <td>366011</td>\n",
       "      <td>350647</td>\n",
       "      <td>15364</td>\n",
       "      <td>55718</td>\n",
       "      <td>4.197688</td>\n",
       "      <td>15.223040</td>\n",
       "    </tr>\n",
       "  </tbody>\n",
       "</table>\n",
       "</div>"
      ],
      "text/plain": [
       "      구별     인구수     한국인    외국인    고령자     외국인비율      고령자비율\n",
       "9    강북구  328002  324479   3523  56530  1.074079  17.234651\n",
       "1    종로구  164257  154770   9487  26182  5.775705  15.939656\n",
       "2     중구  134593  125709   8884  21384  6.600640  15.887899\n",
       "10   도봉구  346234  344166   2068  53488  0.597284  15.448512\n",
       "6   동대문구  366011  350647  15364  55718  4.197688  15.223040"
      ]
     },
     "execution_count": 109,
     "metadata": {},
     "output_type": "execute_result"
    }
   ],
   "source": [
    "pop_Seoul.sort_values(by=\"고령자비율\", ascending=False).head(5)"
   ]
  },
  {
   "cell_type": "markdown",
   "metadata": {},
   "source": [
    "### pandas에서 데이터 프레임을 병합하는 방법\n",
    "- pd.concat()\n",
    "- pd.merge()\n",
    "- pd.join"
   ]
  },
  {
   "cell_type": "markdown",
   "metadata": {},
   "source": [
    "#### pd.merge(left,right)"
   ]
  },
  {
   "cell_type": "code",
   "execution_count": 112,
   "metadata": {},
   "outputs": [
    {
     "data": {
      "text/html": [
       "<div>\n",
       "<style scoped>\n",
       "    .dataframe tbody tr th:only-of-type {\n",
       "        vertical-align: middle;\n",
       "    }\n",
       "\n",
       "    .dataframe tbody tr th {\n",
       "        vertical-align: top;\n",
       "    }\n",
       "\n",
       "    .dataframe thead th {\n",
       "        text-align: right;\n",
       "    }\n",
       "</style>\n",
       "<table border=\"1\" class=\"dataframe\">\n",
       "  <thead>\n",
       "    <tr style=\"text-align: right;\">\n",
       "      <th></th>\n",
       "      <th>key</th>\n",
       "      <th>A</th>\n",
       "      <th>B</th>\n",
       "    </tr>\n",
       "  </thead>\n",
       "  <tbody>\n",
       "    <tr>\n",
       "      <th>0</th>\n",
       "      <td>K0</td>\n",
       "      <td>A0</td>\n",
       "      <td>B0</td>\n",
       "    </tr>\n",
       "    <tr>\n",
       "      <th>1</th>\n",
       "      <td>K4</td>\n",
       "      <td>A1</td>\n",
       "      <td>B1</td>\n",
       "    </tr>\n",
       "    <tr>\n",
       "      <th>2</th>\n",
       "      <td>K2</td>\n",
       "      <td>A2</td>\n",
       "      <td>B2</td>\n",
       "    </tr>\n",
       "    <tr>\n",
       "      <th>3</th>\n",
       "      <td>K3</td>\n",
       "      <td>A3</td>\n",
       "      <td>B3</td>\n",
       "    </tr>\n",
       "  </tbody>\n",
       "</table>\n",
       "</div>"
      ],
      "text/plain": [
       "  key   A   B\n",
       "0  K0  A0  B0\n",
       "1  K4  A1  B1\n",
       "2  K2  A2  B2\n",
       "3  K3  A3  B3"
      ]
     },
     "execution_count": 112,
     "metadata": {},
     "output_type": "execute_result"
    }
   ],
   "source": [
    "# 딕셔너리 안의 리스트 형태\n",
    "\n",
    "left = pd.DataFrame({\n",
    "    \"key\":[\"K0\",\"K4\",\"K2\",\"K3\"],\n",
    "    \"A\": [\"A0\",\"A1\",\"A2\",\"A3\"],\n",
    "    \"B\":[\"B0\",\"B1\",\"B2\",\"B3\"]\n",
    "    \n",
    "})\n",
    "left"
   ]
  },
  {
   "cell_type": "code",
   "execution_count": 114,
   "metadata": {},
   "outputs": [
    {
     "data": {
      "text/html": [
       "<div>\n",
       "<style scoped>\n",
       "    .dataframe tbody tr th:only-of-type {\n",
       "        vertical-align: middle;\n",
       "    }\n",
       "\n",
       "    .dataframe tbody tr th {\n",
       "        vertical-align: top;\n",
       "    }\n",
       "\n",
       "    .dataframe thead th {\n",
       "        text-align: right;\n",
       "    }\n",
       "</style>\n",
       "<table border=\"1\" class=\"dataframe\">\n",
       "  <thead>\n",
       "    <tr style=\"text-align: right;\">\n",
       "      <th></th>\n",
       "      <th>key</th>\n",
       "      <th>C</th>\n",
       "      <th>D</th>\n",
       "    </tr>\n",
       "  </thead>\n",
       "  <tbody>\n",
       "    <tr>\n",
       "      <th>0</th>\n",
       "      <td>K0</td>\n",
       "      <td>C0</td>\n",
       "      <td>D0</td>\n",
       "    </tr>\n",
       "    <tr>\n",
       "      <th>1</th>\n",
       "      <td>K1</td>\n",
       "      <td>C1</td>\n",
       "      <td>D1</td>\n",
       "    </tr>\n",
       "    <tr>\n",
       "      <th>2</th>\n",
       "      <td>K2</td>\n",
       "      <td>C2</td>\n",
       "      <td>D2</td>\n",
       "    </tr>\n",
       "    <tr>\n",
       "      <th>3</th>\n",
       "      <td>K3</td>\n",
       "      <td>C3</td>\n",
       "      <td>D3</td>\n",
       "    </tr>\n",
       "  </tbody>\n",
       "</table>\n",
       "</div>"
      ],
      "text/plain": [
       "  key   C   D\n",
       "0  K0  C0  D0\n",
       "1  K1  C1  D1\n",
       "2  K2  C2  D2\n",
       "3  K3  C3  D3"
      ]
     },
     "execution_count": 114,
     "metadata": {},
     "output_type": "execute_result"
    }
   ],
   "source": [
    "# 리스트 안의 딕셔너리 형태\n",
    "right = pd.DataFrame([\n",
    "    {\"key\":\"K0\", \"C\":\"C0\",\"D\":\"D0\"},\n",
    "    {\"key\":\"K1\", \"C\":\"C1\",\"D\":\"D1\"},\n",
    "    {\"key\":\"K2\", \"C\":\"C2\",\"D\":\"D2\"},\n",
    "    {\"key\":\"K3\", \"C\":\"C3\",\"D\":\"D3\"}\n",
    "])\n",
    "right"
   ]
  },
  {
   "attachments": {},
   "cell_type": "markdown",
   "metadata": {},
   "source": [
    "#### pd.merge()\n",
    "- 두 데이터 프레임에서 컬럼이나 인덱스를 기준으로 잡고 병합하는 방법\n",
    "- 기준이 되는 컬럼이나 인덱스를 키값이라고 합니다\n",
    "- 기준이 되는 키값은 두 데이터 프레임에 모두 포함되어 있어야 합니다"
   ]
  },
  {
   "cell_type": "code",
   "execution_count": 115,
   "metadata": {},
   "outputs": [
    {
     "data": {
      "text/html": [
       "<div>\n",
       "<style scoped>\n",
       "    .dataframe tbody tr th:only-of-type {\n",
       "        vertical-align: middle;\n",
       "    }\n",
       "\n",
       "    .dataframe tbody tr th {\n",
       "        vertical-align: top;\n",
       "    }\n",
       "\n",
       "    .dataframe thead th {\n",
       "        text-align: right;\n",
       "    }\n",
       "</style>\n",
       "<table border=\"1\" class=\"dataframe\">\n",
       "  <thead>\n",
       "    <tr style=\"text-align: right;\">\n",
       "      <th></th>\n",
       "      <th>key</th>\n",
       "      <th>A</th>\n",
       "      <th>B</th>\n",
       "      <th>C</th>\n",
       "      <th>D</th>\n",
       "    </tr>\n",
       "  </thead>\n",
       "  <tbody>\n",
       "    <tr>\n",
       "      <th>0</th>\n",
       "      <td>K0</td>\n",
       "      <td>A0</td>\n",
       "      <td>B0</td>\n",
       "      <td>C0</td>\n",
       "      <td>D0</td>\n",
       "    </tr>\n",
       "    <tr>\n",
       "      <th>1</th>\n",
       "      <td>K2</td>\n",
       "      <td>A2</td>\n",
       "      <td>B2</td>\n",
       "      <td>C2</td>\n",
       "      <td>D2</td>\n",
       "    </tr>\n",
       "    <tr>\n",
       "      <th>2</th>\n",
       "      <td>K3</td>\n",
       "      <td>A3</td>\n",
       "      <td>B3</td>\n",
       "      <td>C3</td>\n",
       "      <td>D3</td>\n",
       "    </tr>\n",
       "  </tbody>\n",
       "</table>\n",
       "</div>"
      ],
      "text/plain": [
       "  key   A   B   C   D\n",
       "0  K0  A0  B0  C0  D0\n",
       "1  K2  A2  B2  C2  D2\n",
       "2  K3  A3  B3  C3  D3"
      ]
     },
     "execution_count": 115,
     "metadata": {},
     "output_type": "execute_result"
    }
   ],
   "source": [
    "pd.merge(left, right, how=\"inner\", on=\"key\")"
   ]
  },
  {
   "cell_type": "code",
   "execution_count": 116,
   "metadata": {},
   "outputs": [
    {
     "data": {
      "text/html": [
       "<div>\n",
       "<style scoped>\n",
       "    .dataframe tbody tr th:only-of-type {\n",
       "        vertical-align: middle;\n",
       "    }\n",
       "\n",
       "    .dataframe tbody tr th {\n",
       "        vertical-align: top;\n",
       "    }\n",
       "\n",
       "    .dataframe thead th {\n",
       "        text-align: right;\n",
       "    }\n",
       "</style>\n",
       "<table border=\"1\" class=\"dataframe\">\n",
       "  <thead>\n",
       "    <tr style=\"text-align: right;\">\n",
       "      <th></th>\n",
       "      <th>key</th>\n",
       "      <th>A</th>\n",
       "      <th>B</th>\n",
       "      <th>C</th>\n",
       "      <th>D</th>\n",
       "    </tr>\n",
       "  </thead>\n",
       "  <tbody>\n",
       "    <tr>\n",
       "      <th>0</th>\n",
       "      <td>K0</td>\n",
       "      <td>A0</td>\n",
       "      <td>B0</td>\n",
       "      <td>C0</td>\n",
       "      <td>D0</td>\n",
       "    </tr>\n",
       "    <tr>\n",
       "      <th>1</th>\n",
       "      <td>K4</td>\n",
       "      <td>A1</td>\n",
       "      <td>B1</td>\n",
       "      <td>NaN</td>\n",
       "      <td>NaN</td>\n",
       "    </tr>\n",
       "    <tr>\n",
       "      <th>2</th>\n",
       "      <td>K2</td>\n",
       "      <td>A2</td>\n",
       "      <td>B2</td>\n",
       "      <td>C2</td>\n",
       "      <td>D2</td>\n",
       "    </tr>\n",
       "    <tr>\n",
       "      <th>3</th>\n",
       "      <td>K3</td>\n",
       "      <td>A3</td>\n",
       "      <td>B3</td>\n",
       "      <td>C3</td>\n",
       "      <td>D3</td>\n",
       "    </tr>\n",
       "  </tbody>\n",
       "</table>\n",
       "</div>"
      ],
      "text/plain": [
       "  key   A   B    C    D\n",
       "0  K0  A0  B0   C0   D0\n",
       "1  K4  A1  B1  NaN  NaN\n",
       "2  K2  A2  B2   C2   D2\n",
       "3  K3  A3  B3   C3   D3"
      ]
     },
     "execution_count": 116,
     "metadata": {},
     "output_type": "execute_result"
    }
   ],
   "source": [
    "pd.merge(left, right, how=\"left\", on=\"key\")"
   ]
  },
  {
   "cell_type": "code",
   "execution_count": 117,
   "metadata": {},
   "outputs": [
    {
     "data": {
      "text/html": [
       "<div>\n",
       "<style scoped>\n",
       "    .dataframe tbody tr th:only-of-type {\n",
       "        vertical-align: middle;\n",
       "    }\n",
       "\n",
       "    .dataframe tbody tr th {\n",
       "        vertical-align: top;\n",
       "    }\n",
       "\n",
       "    .dataframe thead th {\n",
       "        text-align: right;\n",
       "    }\n",
       "</style>\n",
       "<table border=\"1\" class=\"dataframe\">\n",
       "  <thead>\n",
       "    <tr style=\"text-align: right;\">\n",
       "      <th></th>\n",
       "      <th>key</th>\n",
       "      <th>A</th>\n",
       "      <th>B</th>\n",
       "    </tr>\n",
       "  </thead>\n",
       "  <tbody>\n",
       "    <tr>\n",
       "      <th>0</th>\n",
       "      <td>K0</td>\n",
       "      <td>A0</td>\n",
       "      <td>B0</td>\n",
       "    </tr>\n",
       "    <tr>\n",
       "      <th>1</th>\n",
       "      <td>K4</td>\n",
       "      <td>A1</td>\n",
       "      <td>B1</td>\n",
       "    </tr>\n",
       "    <tr>\n",
       "      <th>2</th>\n",
       "      <td>K2</td>\n",
       "      <td>A2</td>\n",
       "      <td>B2</td>\n",
       "    </tr>\n",
       "    <tr>\n",
       "      <th>3</th>\n",
       "      <td>K3</td>\n",
       "      <td>A3</td>\n",
       "      <td>B3</td>\n",
       "    </tr>\n",
       "  </tbody>\n",
       "</table>\n",
       "</div>"
      ],
      "text/plain": [
       "  key   A   B\n",
       "0  K0  A0  B0\n",
       "1  K4  A1  B1\n",
       "2  K2  A2  B2\n",
       "3  K3  A3  B3"
      ]
     },
     "execution_count": 117,
     "metadata": {},
     "output_type": "execute_result"
    }
   ],
   "source": [
    "left"
   ]
  },
  {
   "cell_type": "code",
   "execution_count": 118,
   "metadata": {},
   "outputs": [
    {
     "data": {
      "text/html": [
       "<div>\n",
       "<style scoped>\n",
       "    .dataframe tbody tr th:only-of-type {\n",
       "        vertical-align: middle;\n",
       "    }\n",
       "\n",
       "    .dataframe tbody tr th {\n",
       "        vertical-align: top;\n",
       "    }\n",
       "\n",
       "    .dataframe thead th {\n",
       "        text-align: right;\n",
       "    }\n",
       "</style>\n",
       "<table border=\"1\" class=\"dataframe\">\n",
       "  <thead>\n",
       "    <tr style=\"text-align: right;\">\n",
       "      <th></th>\n",
       "      <th>key</th>\n",
       "      <th>C</th>\n",
       "      <th>D</th>\n",
       "    </tr>\n",
       "  </thead>\n",
       "  <tbody>\n",
       "    <tr>\n",
       "      <th>0</th>\n",
       "      <td>K0</td>\n",
       "      <td>C0</td>\n",
       "      <td>D0</td>\n",
       "    </tr>\n",
       "    <tr>\n",
       "      <th>1</th>\n",
       "      <td>K1</td>\n",
       "      <td>C1</td>\n",
       "      <td>D1</td>\n",
       "    </tr>\n",
       "    <tr>\n",
       "      <th>2</th>\n",
       "      <td>K2</td>\n",
       "      <td>C2</td>\n",
       "      <td>D2</td>\n",
       "    </tr>\n",
       "    <tr>\n",
       "      <th>3</th>\n",
       "      <td>K3</td>\n",
       "      <td>C3</td>\n",
       "      <td>D3</td>\n",
       "    </tr>\n",
       "  </tbody>\n",
       "</table>\n",
       "</div>"
      ],
      "text/plain": [
       "  key   C   D\n",
       "0  K0  C0  D0\n",
       "1  K1  C1  D1\n",
       "2  K2  C2  D2\n",
       "3  K3  C3  D3"
      ]
     },
     "execution_count": 118,
     "metadata": {},
     "output_type": "execute_result"
    }
   ],
   "source": [
    "right"
   ]
  },
  {
   "cell_type": "code",
   "execution_count": 119,
   "metadata": {},
   "outputs": [
    {
     "data": {
      "text/html": [
       "<div>\n",
       "<style scoped>\n",
       "    .dataframe tbody tr th:only-of-type {\n",
       "        vertical-align: middle;\n",
       "    }\n",
       "\n",
       "    .dataframe tbody tr th {\n",
       "        vertical-align: top;\n",
       "    }\n",
       "\n",
       "    .dataframe thead th {\n",
       "        text-align: right;\n",
       "    }\n",
       "</style>\n",
       "<table border=\"1\" class=\"dataframe\">\n",
       "  <thead>\n",
       "    <tr style=\"text-align: right;\">\n",
       "      <th></th>\n",
       "      <th>key</th>\n",
       "      <th>A</th>\n",
       "      <th>B</th>\n",
       "      <th>C</th>\n",
       "      <th>D</th>\n",
       "    </tr>\n",
       "  </thead>\n",
       "  <tbody>\n",
       "    <tr>\n",
       "      <th>0</th>\n",
       "      <td>K0</td>\n",
       "      <td>A0</td>\n",
       "      <td>B0</td>\n",
       "      <td>C0</td>\n",
       "      <td>D0</td>\n",
       "    </tr>\n",
       "    <tr>\n",
       "      <th>1</th>\n",
       "      <td>K1</td>\n",
       "      <td>NaN</td>\n",
       "      <td>NaN</td>\n",
       "      <td>C1</td>\n",
       "      <td>D1</td>\n",
       "    </tr>\n",
       "    <tr>\n",
       "      <th>2</th>\n",
       "      <td>K2</td>\n",
       "      <td>A2</td>\n",
       "      <td>B2</td>\n",
       "      <td>C2</td>\n",
       "      <td>D2</td>\n",
       "    </tr>\n",
       "    <tr>\n",
       "      <th>3</th>\n",
       "      <td>K3</td>\n",
       "      <td>A3</td>\n",
       "      <td>B3</td>\n",
       "      <td>C3</td>\n",
       "      <td>D3</td>\n",
       "    </tr>\n",
       "  </tbody>\n",
       "</table>\n",
       "</div>"
      ],
      "text/plain": [
       "  key    A    B   C   D\n",
       "0  K0   A0   B0  C0  D0\n",
       "1  K1  NaN  NaN  C1  D1\n",
       "2  K2   A2   B2  C2  D2\n",
       "3  K3   A3   B3  C3  D3"
      ]
     },
     "execution_count": 119,
     "metadata": {},
     "output_type": "execute_result"
    }
   ],
   "source": [
    "pd.merge(left, right, how=\"right\", on=\"key\")"
   ]
  },
  {
   "cell_type": "code",
   "execution_count": 120,
   "metadata": {},
   "outputs": [
    {
     "data": {
      "text/html": [
       "<div>\n",
       "<style scoped>\n",
       "    .dataframe tbody tr th:only-of-type {\n",
       "        vertical-align: middle;\n",
       "    }\n",
       "\n",
       "    .dataframe tbody tr th {\n",
       "        vertical-align: top;\n",
       "    }\n",
       "\n",
       "    .dataframe thead th {\n",
       "        text-align: right;\n",
       "    }\n",
       "</style>\n",
       "<table border=\"1\" class=\"dataframe\">\n",
       "  <thead>\n",
       "    <tr style=\"text-align: right;\">\n",
       "      <th></th>\n",
       "      <th>key</th>\n",
       "      <th>A</th>\n",
       "      <th>B</th>\n",
       "      <th>C</th>\n",
       "      <th>D</th>\n",
       "    </tr>\n",
       "  </thead>\n",
       "  <tbody>\n",
       "    <tr>\n",
       "      <th>0</th>\n",
       "      <td>K0</td>\n",
       "      <td>A0</td>\n",
       "      <td>B0</td>\n",
       "      <td>C0</td>\n",
       "      <td>D0</td>\n",
       "    </tr>\n",
       "    <tr>\n",
       "      <th>1</th>\n",
       "      <td>K4</td>\n",
       "      <td>A1</td>\n",
       "      <td>B1</td>\n",
       "      <td>NaN</td>\n",
       "      <td>NaN</td>\n",
       "    </tr>\n",
       "    <tr>\n",
       "      <th>2</th>\n",
       "      <td>K2</td>\n",
       "      <td>A2</td>\n",
       "      <td>B2</td>\n",
       "      <td>C2</td>\n",
       "      <td>D2</td>\n",
       "    </tr>\n",
       "    <tr>\n",
       "      <th>3</th>\n",
       "      <td>K3</td>\n",
       "      <td>A3</td>\n",
       "      <td>B3</td>\n",
       "      <td>C3</td>\n",
       "      <td>D3</td>\n",
       "    </tr>\n",
       "    <tr>\n",
       "      <th>4</th>\n",
       "      <td>K1</td>\n",
       "      <td>NaN</td>\n",
       "      <td>NaN</td>\n",
       "      <td>C1</td>\n",
       "      <td>D1</td>\n",
       "    </tr>\n",
       "  </tbody>\n",
       "</table>\n",
       "</div>"
      ],
      "text/plain": [
       "  key    A    B    C    D\n",
       "0  K0   A0   B0   C0   D0\n",
       "1  K4   A1   B1  NaN  NaN\n",
       "2  K2   A2   B2   C2   D2\n",
       "3  K3   A3   B3   C3   D3\n",
       "4  K1  NaN  NaN   C1   D1"
      ]
     },
     "execution_count": 120,
     "metadata": {},
     "output_type": "execute_result"
    }
   ],
   "source": [
    "pd.merge(left, right, how=\"outer\", on=\"key\")"
   ]
  },
  {
   "attachments": {},
   "cell_type": "markdown",
   "metadata": {},
   "source": [
    "---"
   ]
  },
  {
   "attachments": {},
   "cell_type": "markdown",
   "metadata": {},
   "source": [
    "## 4. 두 데이터 합치기"
   ]
  },
  {
   "cell_type": "code",
   "execution_count": 121,
   "metadata": {},
   "outputs": [
    {
     "data": {
      "text/html": [
       "<div>\n",
       "<style scoped>\n",
       "    .dataframe tbody tr th:only-of-type {\n",
       "        vertical-align: middle;\n",
       "    }\n",
       "\n",
       "    .dataframe tbody tr th {\n",
       "        vertical-align: top;\n",
       "    }\n",
       "\n",
       "    .dataframe thead th {\n",
       "        text-align: right;\n",
       "    }\n",
       "</style>\n",
       "<table border=\"1\" class=\"dataframe\">\n",
       "  <thead>\n",
       "    <tr style=\"text-align: right;\">\n",
       "      <th></th>\n",
       "      <th>구별</th>\n",
       "      <th>소계</th>\n",
       "      <th>2013년도 이전</th>\n",
       "      <th>2014년</th>\n",
       "      <th>2015년</th>\n",
       "      <th>2016년</th>\n",
       "      <th>최근증가율</th>\n",
       "    </tr>\n",
       "  </thead>\n",
       "  <tbody>\n",
       "    <tr>\n",
       "      <th>0</th>\n",
       "      <td>강남구</td>\n",
       "      <td>3238</td>\n",
       "      <td>1292</td>\n",
       "      <td>430</td>\n",
       "      <td>584</td>\n",
       "      <td>932</td>\n",
       "      <td>150.619195</td>\n",
       "    </tr>\n",
       "  </tbody>\n",
       "</table>\n",
       "</div>"
      ],
      "text/plain": [
       "    구별    소계  2013년도 이전  2014년  2015년  2016년       최근증가율\n",
       "0  강남구  3238       1292    430    584    932  150.619195"
      ]
     },
     "execution_count": 121,
     "metadata": {},
     "output_type": "execute_result"
    }
   ],
   "source": [
    "CCTV_Seoul.head(1)"
   ]
  },
  {
   "cell_type": "code",
   "execution_count": 122,
   "metadata": {},
   "outputs": [
    {
     "data": {
      "text/html": [
       "<div>\n",
       "<style scoped>\n",
       "    .dataframe tbody tr th:only-of-type {\n",
       "        vertical-align: middle;\n",
       "    }\n",
       "\n",
       "    .dataframe tbody tr th {\n",
       "        vertical-align: top;\n",
       "    }\n",
       "\n",
       "    .dataframe thead th {\n",
       "        text-align: right;\n",
       "    }\n",
       "</style>\n",
       "<table border=\"1\" class=\"dataframe\">\n",
       "  <thead>\n",
       "    <tr style=\"text-align: right;\">\n",
       "      <th></th>\n",
       "      <th>구별</th>\n",
       "      <th>인구수</th>\n",
       "      <th>한국인</th>\n",
       "      <th>외국인</th>\n",
       "      <th>고령자</th>\n",
       "      <th>외국인비율</th>\n",
       "      <th>고령자비율</th>\n",
       "    </tr>\n",
       "  </thead>\n",
       "  <tbody>\n",
       "    <tr>\n",
       "      <th>1</th>\n",
       "      <td>종로구</td>\n",
       "      <td>164257</td>\n",
       "      <td>154770</td>\n",
       "      <td>9487</td>\n",
       "      <td>26182</td>\n",
       "      <td>5.775705</td>\n",
       "      <td>15.939656</td>\n",
       "    </tr>\n",
       "  </tbody>\n",
       "</table>\n",
       "</div>"
      ],
      "text/plain": [
       "    구별     인구수     한국인   외국인    고령자     외국인비율      고령자비율\n",
       "1  종로구  164257  154770  9487  26182  5.775705  15.939656"
      ]
     },
     "execution_count": 122,
     "metadata": {},
     "output_type": "execute_result"
    }
   ],
   "source": [
    "pop_Seoul.head(1)"
   ]
  },
  {
   "cell_type": "code",
   "execution_count": 123,
   "metadata": {},
   "outputs": [
    {
     "data": {
      "text/html": [
       "<div>\n",
       "<style scoped>\n",
       "    .dataframe tbody tr th:only-of-type {\n",
       "        vertical-align: middle;\n",
       "    }\n",
       "\n",
       "    .dataframe tbody tr th {\n",
       "        vertical-align: top;\n",
       "    }\n",
       "\n",
       "    .dataframe thead th {\n",
       "        text-align: right;\n",
       "    }\n",
       "</style>\n",
       "<table border=\"1\" class=\"dataframe\">\n",
       "  <thead>\n",
       "    <tr style=\"text-align: right;\">\n",
       "      <th></th>\n",
       "      <th>구별</th>\n",
       "      <th>소계</th>\n",
       "      <th>2013년도 이전</th>\n",
       "      <th>2014년</th>\n",
       "      <th>2015년</th>\n",
       "      <th>2016년</th>\n",
       "      <th>최근증가율</th>\n",
       "      <th>인구수</th>\n",
       "      <th>한국인</th>\n",
       "      <th>외국인</th>\n",
       "      <th>고령자</th>\n",
       "      <th>외국인비율</th>\n",
       "      <th>고령자비율</th>\n",
       "    </tr>\n",
       "  </thead>\n",
       "  <tbody>\n",
       "    <tr>\n",
       "      <th>0</th>\n",
       "      <td>강남구</td>\n",
       "      <td>3238</td>\n",
       "      <td>1292</td>\n",
       "      <td>430</td>\n",
       "      <td>584</td>\n",
       "      <td>932</td>\n",
       "      <td>150.619195</td>\n",
       "      <td>561052</td>\n",
       "      <td>556164</td>\n",
       "      <td>4888</td>\n",
       "      <td>65060</td>\n",
       "      <td>0.871220</td>\n",
       "      <td>11.596073</td>\n",
       "    </tr>\n",
       "    <tr>\n",
       "      <th>1</th>\n",
       "      <td>강동구</td>\n",
       "      <td>1010</td>\n",
       "      <td>379</td>\n",
       "      <td>99</td>\n",
       "      <td>155</td>\n",
       "      <td>377</td>\n",
       "      <td>166.490765</td>\n",
       "      <td>440359</td>\n",
       "      <td>436223</td>\n",
       "      <td>4136</td>\n",
       "      <td>56161</td>\n",
       "      <td>0.939234</td>\n",
       "      <td>12.753458</td>\n",
       "    </tr>\n",
       "    <tr>\n",
       "      <th>2</th>\n",
       "      <td>강북구</td>\n",
       "      <td>831</td>\n",
       "      <td>369</td>\n",
       "      <td>120</td>\n",
       "      <td>138</td>\n",
       "      <td>204</td>\n",
       "      <td>125.203252</td>\n",
       "      <td>328002</td>\n",
       "      <td>324479</td>\n",
       "      <td>3523</td>\n",
       "      <td>56530</td>\n",
       "      <td>1.074079</td>\n",
       "      <td>17.234651</td>\n",
       "    </tr>\n",
       "    <tr>\n",
       "      <th>3</th>\n",
       "      <td>강서구</td>\n",
       "      <td>911</td>\n",
       "      <td>388</td>\n",
       "      <td>258</td>\n",
       "      <td>184</td>\n",
       "      <td>81</td>\n",
       "      <td>134.793814</td>\n",
       "      <td>608255</td>\n",
       "      <td>601691</td>\n",
       "      <td>6564</td>\n",
       "      <td>76032</td>\n",
       "      <td>1.079153</td>\n",
       "      <td>12.500021</td>\n",
       "    </tr>\n",
       "    <tr>\n",
       "      <th>4</th>\n",
       "      <td>관악구</td>\n",
       "      <td>2109</td>\n",
       "      <td>846</td>\n",
       "      <td>260</td>\n",
       "      <td>390</td>\n",
       "      <td>613</td>\n",
       "      <td>149.290780</td>\n",
       "      <td>520929</td>\n",
       "      <td>503297</td>\n",
       "      <td>17632</td>\n",
       "      <td>70046</td>\n",
       "      <td>3.384722</td>\n",
       "      <td>13.446362</td>\n",
       "    </tr>\n",
       "  </tbody>\n",
       "</table>\n",
       "</div>"
      ],
      "text/plain": [
       "    구별    소계  2013년도 이전  2014년  2015년  2016년       최근증가율     인구수     한국인  \\\n",
       "0  강남구  3238       1292    430    584    932  150.619195  561052  556164   \n",
       "1  강동구  1010        379     99    155    377  166.490765  440359  436223   \n",
       "2  강북구   831        369    120    138    204  125.203252  328002  324479   \n",
       "3  강서구   911        388    258    184     81  134.793814  608255  601691   \n",
       "4  관악구  2109        846    260    390    613  149.290780  520929  503297   \n",
       "\n",
       "     외국인    고령자     외국인비율      고령자비율  \n",
       "0   4888  65060  0.871220  11.596073  \n",
       "1   4136  56161  0.939234  12.753458  \n",
       "2   3523  56530  1.074079  17.234651  \n",
       "3   6564  76032  1.079153  12.500021  \n",
       "4  17632  70046  3.384722  13.446362  "
      ]
     },
     "execution_count": 123,
     "metadata": {},
     "output_type": "execute_result"
    }
   ],
   "source": [
    "data_result = pd.merge(CCTV_Seoul, pop_Seoul, on=\"구별\")\n",
    "data_result.head()"
   ]
  },
  {
   "attachments": {},
   "cell_type": "markdown",
   "metadata": {},
   "source": [
    "### 년도별 데이터 컬럼 삭제\n",
    "- del\n",
    "- drop()"
   ]
  },
  {
   "cell_type": "code",
   "execution_count": 124,
   "metadata": {},
   "outputs": [],
   "source": [
    "del data_result[\"2013년도 이전\"]"
   ]
  },
  {
   "cell_type": "code",
   "execution_count": 125,
   "metadata": {},
   "outputs": [],
   "source": [
    "del data_result[\"2014년\"]"
   ]
  },
  {
   "cell_type": "code",
   "execution_count": 126,
   "metadata": {},
   "outputs": [
    {
     "data": {
      "text/html": [
       "<div>\n",
       "<style scoped>\n",
       "    .dataframe tbody tr th:only-of-type {\n",
       "        vertical-align: middle;\n",
       "    }\n",
       "\n",
       "    .dataframe tbody tr th {\n",
       "        vertical-align: top;\n",
       "    }\n",
       "\n",
       "    .dataframe thead th {\n",
       "        text-align: right;\n",
       "    }\n",
       "</style>\n",
       "<table border=\"1\" class=\"dataframe\">\n",
       "  <thead>\n",
       "    <tr style=\"text-align: right;\">\n",
       "      <th></th>\n",
       "      <th>구별</th>\n",
       "      <th>소계</th>\n",
       "      <th>2015년</th>\n",
       "      <th>2016년</th>\n",
       "      <th>최근증가율</th>\n",
       "      <th>인구수</th>\n",
       "      <th>한국인</th>\n",
       "      <th>외국인</th>\n",
       "      <th>고령자</th>\n",
       "      <th>외국인비율</th>\n",
       "      <th>고령자비율</th>\n",
       "    </tr>\n",
       "  </thead>\n",
       "  <tbody>\n",
       "    <tr>\n",
       "      <th>0</th>\n",
       "      <td>강남구</td>\n",
       "      <td>3238</td>\n",
       "      <td>584</td>\n",
       "      <td>932</td>\n",
       "      <td>150.619195</td>\n",
       "      <td>561052</td>\n",
       "      <td>556164</td>\n",
       "      <td>4888</td>\n",
       "      <td>65060</td>\n",
       "      <td>0.871220</td>\n",
       "      <td>11.596073</td>\n",
       "    </tr>\n",
       "    <tr>\n",
       "      <th>1</th>\n",
       "      <td>강동구</td>\n",
       "      <td>1010</td>\n",
       "      <td>155</td>\n",
       "      <td>377</td>\n",
       "      <td>166.490765</td>\n",
       "      <td>440359</td>\n",
       "      <td>436223</td>\n",
       "      <td>4136</td>\n",
       "      <td>56161</td>\n",
       "      <td>0.939234</td>\n",
       "      <td>12.753458</td>\n",
       "    </tr>\n",
       "    <tr>\n",
       "      <th>2</th>\n",
       "      <td>강북구</td>\n",
       "      <td>831</td>\n",
       "      <td>138</td>\n",
       "      <td>204</td>\n",
       "      <td>125.203252</td>\n",
       "      <td>328002</td>\n",
       "      <td>324479</td>\n",
       "      <td>3523</td>\n",
       "      <td>56530</td>\n",
       "      <td>1.074079</td>\n",
       "      <td>17.234651</td>\n",
       "    </tr>\n",
       "  </tbody>\n",
       "</table>\n",
       "</div>"
      ],
      "text/plain": [
       "    구별    소계  2015년  2016년       최근증가율     인구수     한국인   외국인    고령자     외국인비율  \\\n",
       "0  강남구  3238    584    932  150.619195  561052  556164  4888  65060  0.871220   \n",
       "1  강동구  1010    155    377  166.490765  440359  436223  4136  56161  0.939234   \n",
       "2  강북구   831    138    204  125.203252  328002  324479  3523  56530  1.074079   \n",
       "\n",
       "       고령자비율  \n",
       "0  11.596073  \n",
       "1  12.753458  \n",
       "2  17.234651  "
      ]
     },
     "execution_count": 126,
     "metadata": {},
     "output_type": "execute_result"
    }
   ],
   "source": [
    "data_result.head(3)"
   ]
  },
  {
   "cell_type": "code",
   "execution_count": 127,
   "metadata": {},
   "outputs": [],
   "source": [
    "data_result.drop([\"2015년\",\"2016년\"], axis=1, inplace=True)"
   ]
  },
  {
   "cell_type": "code",
   "execution_count": 128,
   "metadata": {},
   "outputs": [
    {
     "data": {
      "text/html": [
       "<div>\n",
       "<style scoped>\n",
       "    .dataframe tbody tr th:only-of-type {\n",
       "        vertical-align: middle;\n",
       "    }\n",
       "\n",
       "    .dataframe tbody tr th {\n",
       "        vertical-align: top;\n",
       "    }\n",
       "\n",
       "    .dataframe thead th {\n",
       "        text-align: right;\n",
       "    }\n",
       "</style>\n",
       "<table border=\"1\" class=\"dataframe\">\n",
       "  <thead>\n",
       "    <tr style=\"text-align: right;\">\n",
       "      <th></th>\n",
       "      <th>구별</th>\n",
       "      <th>소계</th>\n",
       "      <th>최근증가율</th>\n",
       "      <th>인구수</th>\n",
       "      <th>한국인</th>\n",
       "      <th>외국인</th>\n",
       "      <th>고령자</th>\n",
       "      <th>외국인비율</th>\n",
       "      <th>고령자비율</th>\n",
       "    </tr>\n",
       "  </thead>\n",
       "  <tbody>\n",
       "    <tr>\n",
       "      <th>0</th>\n",
       "      <td>강남구</td>\n",
       "      <td>3238</td>\n",
       "      <td>150.619195</td>\n",
       "      <td>561052</td>\n",
       "      <td>556164</td>\n",
       "      <td>4888</td>\n",
       "      <td>65060</td>\n",
       "      <td>0.871220</td>\n",
       "      <td>11.596073</td>\n",
       "    </tr>\n",
       "    <tr>\n",
       "      <th>1</th>\n",
       "      <td>강동구</td>\n",
       "      <td>1010</td>\n",
       "      <td>166.490765</td>\n",
       "      <td>440359</td>\n",
       "      <td>436223</td>\n",
       "      <td>4136</td>\n",
       "      <td>56161</td>\n",
       "      <td>0.939234</td>\n",
       "      <td>12.753458</td>\n",
       "    </tr>\n",
       "    <tr>\n",
       "      <th>2</th>\n",
       "      <td>강북구</td>\n",
       "      <td>831</td>\n",
       "      <td>125.203252</td>\n",
       "      <td>328002</td>\n",
       "      <td>324479</td>\n",
       "      <td>3523</td>\n",
       "      <td>56530</td>\n",
       "      <td>1.074079</td>\n",
       "      <td>17.234651</td>\n",
       "    </tr>\n",
       "    <tr>\n",
       "      <th>3</th>\n",
       "      <td>강서구</td>\n",
       "      <td>911</td>\n",
       "      <td>134.793814</td>\n",
       "      <td>608255</td>\n",
       "      <td>601691</td>\n",
       "      <td>6564</td>\n",
       "      <td>76032</td>\n",
       "      <td>1.079153</td>\n",
       "      <td>12.500021</td>\n",
       "    </tr>\n",
       "    <tr>\n",
       "      <th>4</th>\n",
       "      <td>관악구</td>\n",
       "      <td>2109</td>\n",
       "      <td>149.290780</td>\n",
       "      <td>520929</td>\n",
       "      <td>503297</td>\n",
       "      <td>17632</td>\n",
       "      <td>70046</td>\n",
       "      <td>3.384722</td>\n",
       "      <td>13.446362</td>\n",
       "    </tr>\n",
       "  </tbody>\n",
       "</table>\n",
       "</div>"
      ],
      "text/plain": [
       "    구별    소계       최근증가율     인구수     한국인    외국인    고령자     외국인비율      고령자비율\n",
       "0  강남구  3238  150.619195  561052  556164   4888  65060  0.871220  11.596073\n",
       "1  강동구  1010  166.490765  440359  436223   4136  56161  0.939234  12.753458\n",
       "2  강북구   831  125.203252  328002  324479   3523  56530  1.074079  17.234651\n",
       "3  강서구   911  134.793814  608255  601691   6564  76032  1.079153  12.500021\n",
       "4  관악구  2109  149.290780  520929  503297  17632  70046  3.384722  13.446362"
      ]
     },
     "execution_count": 128,
     "metadata": {},
     "output_type": "execute_result"
    }
   ],
   "source": [
    "data_result.head()"
   ]
  },
  {
   "attachments": {},
   "cell_type": "markdown",
   "metadata": {},
   "source": [
    "### 인덱스 변경\n",
    "- set_index()\n",
    "- 선택한 컬럼을 데이터 프레임의 인덱스로 지정"
   ]
  },
  {
   "cell_type": "code",
   "execution_count": 129,
   "metadata": {},
   "outputs": [
    {
     "data": {
      "text/html": [
       "<div>\n",
       "<style scoped>\n",
       "    .dataframe tbody tr th:only-of-type {\n",
       "        vertical-align: middle;\n",
       "    }\n",
       "\n",
       "    .dataframe tbody tr th {\n",
       "        vertical-align: top;\n",
       "    }\n",
       "\n",
       "    .dataframe thead th {\n",
       "        text-align: right;\n",
       "    }\n",
       "</style>\n",
       "<table border=\"1\" class=\"dataframe\">\n",
       "  <thead>\n",
       "    <tr style=\"text-align: right;\">\n",
       "      <th></th>\n",
       "      <th>소계</th>\n",
       "      <th>최근증가율</th>\n",
       "      <th>인구수</th>\n",
       "      <th>한국인</th>\n",
       "      <th>외국인</th>\n",
       "      <th>고령자</th>\n",
       "      <th>외국인비율</th>\n",
       "      <th>고령자비율</th>\n",
       "    </tr>\n",
       "    <tr>\n",
       "      <th>구별</th>\n",
       "      <th></th>\n",
       "      <th></th>\n",
       "      <th></th>\n",
       "      <th></th>\n",
       "      <th></th>\n",
       "      <th></th>\n",
       "      <th></th>\n",
       "      <th></th>\n",
       "    </tr>\n",
       "  </thead>\n",
       "  <tbody>\n",
       "    <tr>\n",
       "      <th>강남구</th>\n",
       "      <td>3238</td>\n",
       "      <td>150.619195</td>\n",
       "      <td>561052</td>\n",
       "      <td>556164</td>\n",
       "      <td>4888</td>\n",
       "      <td>65060</td>\n",
       "      <td>0.871220</td>\n",
       "      <td>11.596073</td>\n",
       "    </tr>\n",
       "    <tr>\n",
       "      <th>강동구</th>\n",
       "      <td>1010</td>\n",
       "      <td>166.490765</td>\n",
       "      <td>440359</td>\n",
       "      <td>436223</td>\n",
       "      <td>4136</td>\n",
       "      <td>56161</td>\n",
       "      <td>0.939234</td>\n",
       "      <td>12.753458</td>\n",
       "    </tr>\n",
       "    <tr>\n",
       "      <th>강북구</th>\n",
       "      <td>831</td>\n",
       "      <td>125.203252</td>\n",
       "      <td>328002</td>\n",
       "      <td>324479</td>\n",
       "      <td>3523</td>\n",
       "      <td>56530</td>\n",
       "      <td>1.074079</td>\n",
       "      <td>17.234651</td>\n",
       "    </tr>\n",
       "    <tr>\n",
       "      <th>강서구</th>\n",
       "      <td>911</td>\n",
       "      <td>134.793814</td>\n",
       "      <td>608255</td>\n",
       "      <td>601691</td>\n",
       "      <td>6564</td>\n",
       "      <td>76032</td>\n",
       "      <td>1.079153</td>\n",
       "      <td>12.500021</td>\n",
       "    </tr>\n",
       "    <tr>\n",
       "      <th>관악구</th>\n",
       "      <td>2109</td>\n",
       "      <td>149.290780</td>\n",
       "      <td>520929</td>\n",
       "      <td>503297</td>\n",
       "      <td>17632</td>\n",
       "      <td>70046</td>\n",
       "      <td>3.384722</td>\n",
       "      <td>13.446362</td>\n",
       "    </tr>\n",
       "  </tbody>\n",
       "</table>\n",
       "</div>"
      ],
      "text/plain": [
       "       소계       최근증가율     인구수     한국인    외국인    고령자     외국인비율      고령자비율\n",
       "구별                                                                      \n",
       "강남구  3238  150.619195  561052  556164   4888  65060  0.871220  11.596073\n",
       "강동구  1010  166.490765  440359  436223   4136  56161  0.939234  12.753458\n",
       "강북구   831  125.203252  328002  324479   3523  56530  1.074079  17.234651\n",
       "강서구   911  134.793814  608255  601691   6564  76032  1.079153  12.500021\n",
       "관악구  2109  149.290780  520929  503297  17632  70046  3.384722  13.446362"
      ]
     },
     "execution_count": 129,
     "metadata": {},
     "output_type": "execute_result"
    }
   ],
   "source": [
    "data_result.set_index(\"구별\", inplace=True)\n",
    "data_result.head()"
   ]
  },
  {
   "attachments": {},
   "cell_type": "markdown",
   "metadata": {},
   "source": [
    "### 상관계수\n",
    "- corr()\n",
    "- correlation의 약자입니다\n",
    "- 상관계수가 0.2 이상이니 데이터를 비교"
   ]
  },
  {
   "cell_type": "code",
   "execution_count": 130,
   "metadata": {},
   "outputs": [
    {
     "data": {
      "text/html": [
       "<div>\n",
       "<style scoped>\n",
       "    .dataframe tbody tr th:only-of-type {\n",
       "        vertical-align: middle;\n",
       "    }\n",
       "\n",
       "    .dataframe tbody tr th {\n",
       "        vertical-align: top;\n",
       "    }\n",
       "\n",
       "    .dataframe thead th {\n",
       "        text-align: right;\n",
       "    }\n",
       "</style>\n",
       "<table border=\"1\" class=\"dataframe\">\n",
       "  <thead>\n",
       "    <tr style=\"text-align: right;\">\n",
       "      <th></th>\n",
       "      <th>소계</th>\n",
       "      <th>최근증가율</th>\n",
       "      <th>인구수</th>\n",
       "      <th>한국인</th>\n",
       "      <th>외국인</th>\n",
       "      <th>고령자</th>\n",
       "      <th>외국인비율</th>\n",
       "      <th>고령자비율</th>\n",
       "    </tr>\n",
       "  </thead>\n",
       "  <tbody>\n",
       "    <tr>\n",
       "      <th>소계</th>\n",
       "      <td>1.000000</td>\n",
       "      <td>-0.264378</td>\n",
       "      <td>0.232555</td>\n",
       "      <td>0.227852</td>\n",
       "      <td>0.030421</td>\n",
       "      <td>0.163905</td>\n",
       "      <td>-0.045956</td>\n",
       "      <td>-0.267841</td>\n",
       "    </tr>\n",
       "    <tr>\n",
       "      <th>최근증가율</th>\n",
       "      <td>-0.264378</td>\n",
       "      <td>1.000000</td>\n",
       "      <td>-0.097165</td>\n",
       "      <td>-0.086341</td>\n",
       "      <td>-0.156421</td>\n",
       "      <td>-0.072251</td>\n",
       "      <td>-0.047102</td>\n",
       "      <td>0.190396</td>\n",
       "    </tr>\n",
       "    <tr>\n",
       "      <th>인구수</th>\n",
       "      <td>0.232555</td>\n",
       "      <td>-0.097165</td>\n",
       "      <td>1.000000</td>\n",
       "      <td>0.998151</td>\n",
       "      <td>-0.167243</td>\n",
       "      <td>0.936737</td>\n",
       "      <td>-0.601076</td>\n",
       "      <td>-0.637414</td>\n",
       "    </tr>\n",
       "    <tr>\n",
       "      <th>한국인</th>\n",
       "      <td>0.227852</td>\n",
       "      <td>-0.086341</td>\n",
       "      <td>0.998151</td>\n",
       "      <td>1.000000</td>\n",
       "      <td>-0.226853</td>\n",
       "      <td>0.936155</td>\n",
       "      <td>-0.645463</td>\n",
       "      <td>-0.628360</td>\n",
       "    </tr>\n",
       "    <tr>\n",
       "      <th>외국인</th>\n",
       "      <td>0.030421</td>\n",
       "      <td>-0.156421</td>\n",
       "      <td>-0.167243</td>\n",
       "      <td>-0.226853</td>\n",
       "      <td>1.000000</td>\n",
       "      <td>-0.175318</td>\n",
       "      <td>0.838612</td>\n",
       "      <td>-0.021147</td>\n",
       "    </tr>\n",
       "    <tr>\n",
       "      <th>고령자</th>\n",
       "      <td>0.163905</td>\n",
       "      <td>-0.072251</td>\n",
       "      <td>0.936737</td>\n",
       "      <td>0.936155</td>\n",
       "      <td>-0.175318</td>\n",
       "      <td>1.000000</td>\n",
       "      <td>-0.620300</td>\n",
       "      <td>-0.348840</td>\n",
       "    </tr>\n",
       "    <tr>\n",
       "      <th>외국인비율</th>\n",
       "      <td>-0.045956</td>\n",
       "      <td>-0.047102</td>\n",
       "      <td>-0.601076</td>\n",
       "      <td>-0.645463</td>\n",
       "      <td>0.838612</td>\n",
       "      <td>-0.620300</td>\n",
       "      <td>1.000000</td>\n",
       "      <td>0.242816</td>\n",
       "    </tr>\n",
       "    <tr>\n",
       "      <th>고령자비율</th>\n",
       "      <td>-0.267841</td>\n",
       "      <td>0.190396</td>\n",
       "      <td>-0.637414</td>\n",
       "      <td>-0.628360</td>\n",
       "      <td>-0.021147</td>\n",
       "      <td>-0.348840</td>\n",
       "      <td>0.242816</td>\n",
       "      <td>1.000000</td>\n",
       "    </tr>\n",
       "  </tbody>\n",
       "</table>\n",
       "</div>"
      ],
      "text/plain": [
       "             소계     최근증가율       인구수       한국인       외국인       고령자     외국인비율  \\\n",
       "소계     1.000000 -0.264378  0.232555  0.227852  0.030421  0.163905 -0.045956   \n",
       "최근증가율 -0.264378  1.000000 -0.097165 -0.086341 -0.156421 -0.072251 -0.047102   \n",
       "인구수    0.232555 -0.097165  1.000000  0.998151 -0.167243  0.936737 -0.601076   \n",
       "한국인    0.227852 -0.086341  0.998151  1.000000 -0.226853  0.936155 -0.645463   \n",
       "외국인    0.030421 -0.156421 -0.167243 -0.226853  1.000000 -0.175318  0.838612   \n",
       "고령자    0.163905 -0.072251  0.936737  0.936155 -0.175318  1.000000 -0.620300   \n",
       "외국인비율 -0.045956 -0.047102 -0.601076 -0.645463  0.838612 -0.620300  1.000000   \n",
       "고령자비율 -0.267841  0.190396 -0.637414 -0.628360 -0.021147 -0.348840  0.242816   \n",
       "\n",
       "          고령자비율  \n",
       "소계    -0.267841  \n",
       "최근증가율  0.190396  \n",
       "인구수   -0.637414  \n",
       "한국인   -0.628360  \n",
       "외국인   -0.021147  \n",
       "고령자   -0.348840  \n",
       "외국인비율  0.242816  \n",
       "고령자비율  1.000000  "
      ]
     },
     "execution_count": 130,
     "metadata": {},
     "output_type": "execute_result"
    }
   ],
   "source": [
    "data_result.corr()"
   ]
  },
  {
   "cell_type": "code",
   "execution_count": 131,
   "metadata": {},
   "outputs": [
    {
     "name": "stdout",
     "output_type": "stream",
     "text": [
      "<class 'pandas.core.frame.DataFrame'>\n",
      "Index: 25 entries, 강남구 to 중랑구\n",
      "Data columns (total 8 columns):\n",
      " #   Column  Non-Null Count  Dtype  \n",
      "---  ------  --------------  -----  \n",
      " 0   소계      25 non-null     int64  \n",
      " 1   최근증가율   25 non-null     float64\n",
      " 2   인구수     25 non-null     int64  \n",
      " 3   한국인     25 non-null     int64  \n",
      " 4   외국인     25 non-null     int64  \n",
      " 5   고령자     25 non-null     int64  \n",
      " 6   외국인비율   25 non-null     float64\n",
      " 7   고령자비율   25 non-null     float64\n",
      "dtypes: float64(3), int64(5)\n",
      "memory usage: 1.8+ KB\n"
     ]
    }
   ],
   "source": [
    "data_result.info()"
   ]
  },
  {
   "cell_type": "code",
   "execution_count": 132,
   "metadata": {},
   "outputs": [],
   "source": [
    "data_result[\"CCTV비율\"] = data_result[\"소계\"] / data_result[\"인구수\"]\n",
    "data_result[\"CCTV비율\"] = data_result[\"CCTV비율\"] * 100"
   ]
  },
  {
   "cell_type": "code",
   "execution_count": 133,
   "metadata": {},
   "outputs": [
    {
     "data": {
      "text/html": [
       "<div>\n",
       "<style scoped>\n",
       "    .dataframe tbody tr th:only-of-type {\n",
       "        vertical-align: middle;\n",
       "    }\n",
       "\n",
       "    .dataframe tbody tr th {\n",
       "        vertical-align: top;\n",
       "    }\n",
       "\n",
       "    .dataframe thead th {\n",
       "        text-align: right;\n",
       "    }\n",
       "</style>\n",
       "<table border=\"1\" class=\"dataframe\">\n",
       "  <thead>\n",
       "    <tr style=\"text-align: right;\">\n",
       "      <th></th>\n",
       "      <th>소계</th>\n",
       "      <th>최근증가율</th>\n",
       "      <th>인구수</th>\n",
       "      <th>한국인</th>\n",
       "      <th>외국인</th>\n",
       "      <th>고령자</th>\n",
       "      <th>외국인비율</th>\n",
       "      <th>고령자비율</th>\n",
       "      <th>CCTV비율</th>\n",
       "    </tr>\n",
       "    <tr>\n",
       "      <th>구별</th>\n",
       "      <th></th>\n",
       "      <th></th>\n",
       "      <th></th>\n",
       "      <th></th>\n",
       "      <th></th>\n",
       "      <th></th>\n",
       "      <th></th>\n",
       "      <th></th>\n",
       "      <th></th>\n",
       "    </tr>\n",
       "  </thead>\n",
       "  <tbody>\n",
       "    <tr>\n",
       "      <th>강남구</th>\n",
       "      <td>3238</td>\n",
       "      <td>150.619195</td>\n",
       "      <td>561052</td>\n",
       "      <td>556164</td>\n",
       "      <td>4888</td>\n",
       "      <td>65060</td>\n",
       "      <td>0.871220</td>\n",
       "      <td>11.596073</td>\n",
       "      <td>0.577130</td>\n",
       "    </tr>\n",
       "    <tr>\n",
       "      <th>강동구</th>\n",
       "      <td>1010</td>\n",
       "      <td>166.490765</td>\n",
       "      <td>440359</td>\n",
       "      <td>436223</td>\n",
       "      <td>4136</td>\n",
       "      <td>56161</td>\n",
       "      <td>0.939234</td>\n",
       "      <td>12.753458</td>\n",
       "      <td>0.229358</td>\n",
       "    </tr>\n",
       "    <tr>\n",
       "      <th>강북구</th>\n",
       "      <td>831</td>\n",
       "      <td>125.203252</td>\n",
       "      <td>328002</td>\n",
       "      <td>324479</td>\n",
       "      <td>3523</td>\n",
       "      <td>56530</td>\n",
       "      <td>1.074079</td>\n",
       "      <td>17.234651</td>\n",
       "      <td>0.253352</td>\n",
       "    </tr>\n",
       "    <tr>\n",
       "      <th>강서구</th>\n",
       "      <td>911</td>\n",
       "      <td>134.793814</td>\n",
       "      <td>608255</td>\n",
       "      <td>601691</td>\n",
       "      <td>6564</td>\n",
       "      <td>76032</td>\n",
       "      <td>1.079153</td>\n",
       "      <td>12.500021</td>\n",
       "      <td>0.149773</td>\n",
       "    </tr>\n",
       "    <tr>\n",
       "      <th>관악구</th>\n",
       "      <td>2109</td>\n",
       "      <td>149.290780</td>\n",
       "      <td>520929</td>\n",
       "      <td>503297</td>\n",
       "      <td>17632</td>\n",
       "      <td>70046</td>\n",
       "      <td>3.384722</td>\n",
       "      <td>13.446362</td>\n",
       "      <td>0.404854</td>\n",
       "    </tr>\n",
       "  </tbody>\n",
       "</table>\n",
       "</div>"
      ],
      "text/plain": [
       "       소계       최근증가율     인구수     한국인    외국인    고령자     외국인비율      고령자비율  \\\n",
       "구별                                                                         \n",
       "강남구  3238  150.619195  561052  556164   4888  65060  0.871220  11.596073   \n",
       "강동구  1010  166.490765  440359  436223   4136  56161  0.939234  12.753458   \n",
       "강북구   831  125.203252  328002  324479   3523  56530  1.074079  17.234651   \n",
       "강서구   911  134.793814  608255  601691   6564  76032  1.079153  12.500021   \n",
       "관악구  2109  149.290780  520929  503297  17632  70046  3.384722  13.446362   \n",
       "\n",
       "       CCTV비율  \n",
       "구별             \n",
       "강남구  0.577130  \n",
       "강동구  0.229358  \n",
       "강북구  0.253352  \n",
       "강서구  0.149773  \n",
       "관악구  0.404854  "
      ]
     },
     "execution_count": 133,
     "metadata": {},
     "output_type": "execute_result"
    }
   ],
   "source": [
    "data_result.head()"
   ]
  },
  {
   "cell_type": "code",
   "execution_count": 134,
   "metadata": {},
   "outputs": [
    {
     "data": {
      "text/html": [
       "<div>\n",
       "<style scoped>\n",
       "    .dataframe tbody tr th:only-of-type {\n",
       "        vertical-align: middle;\n",
       "    }\n",
       "\n",
       "    .dataframe tbody tr th {\n",
       "        vertical-align: top;\n",
       "    }\n",
       "\n",
       "    .dataframe thead th {\n",
       "        text-align: right;\n",
       "    }\n",
       "</style>\n",
       "<table border=\"1\" class=\"dataframe\">\n",
       "  <thead>\n",
       "    <tr style=\"text-align: right;\">\n",
       "      <th></th>\n",
       "      <th>소계</th>\n",
       "      <th>최근증가율</th>\n",
       "      <th>인구수</th>\n",
       "      <th>한국인</th>\n",
       "      <th>외국인</th>\n",
       "      <th>고령자</th>\n",
       "      <th>외국인비율</th>\n",
       "      <th>고령자비율</th>\n",
       "      <th>CCTV비율</th>\n",
       "    </tr>\n",
       "    <tr>\n",
       "      <th>구별</th>\n",
       "      <th></th>\n",
       "      <th></th>\n",
       "      <th></th>\n",
       "      <th></th>\n",
       "      <th></th>\n",
       "      <th></th>\n",
       "      <th></th>\n",
       "      <th></th>\n",
       "      <th></th>\n",
       "    </tr>\n",
       "  </thead>\n",
       "  <tbody>\n",
       "    <tr>\n",
       "      <th>강서구</th>\n",
       "      <td>911</td>\n",
       "      <td>134.793814</td>\n",
       "      <td>608255</td>\n",
       "      <td>601691</td>\n",
       "      <td>6564</td>\n",
       "      <td>76032</td>\n",
       "      <td>1.079153</td>\n",
       "      <td>12.500021</td>\n",
       "      <td>0.149773</td>\n",
       "    </tr>\n",
       "    <tr>\n",
       "      <th>송파구</th>\n",
       "      <td>1081</td>\n",
       "      <td>104.347826</td>\n",
       "      <td>671173</td>\n",
       "      <td>664496</td>\n",
       "      <td>6677</td>\n",
       "      <td>76582</td>\n",
       "      <td>0.994825</td>\n",
       "      <td>11.410173</td>\n",
       "      <td>0.161061</td>\n",
       "    </tr>\n",
       "    <tr>\n",
       "      <th>중랑구</th>\n",
       "      <td>916</td>\n",
       "      <td>79.960707</td>\n",
       "      <td>412780</td>\n",
       "      <td>408226</td>\n",
       "      <td>4554</td>\n",
       "      <td>59262</td>\n",
       "      <td>1.103251</td>\n",
       "      <td>14.356800</td>\n",
       "      <td>0.221910</td>\n",
       "    </tr>\n",
       "    <tr>\n",
       "      <th>강동구</th>\n",
       "      <td>1010</td>\n",
       "      <td>166.490765</td>\n",
       "      <td>440359</td>\n",
       "      <td>436223</td>\n",
       "      <td>4136</td>\n",
       "      <td>56161</td>\n",
       "      <td>0.939234</td>\n",
       "      <td>12.753458</td>\n",
       "      <td>0.229358</td>\n",
       "    </tr>\n",
       "    <tr>\n",
       "      <th>광진구</th>\n",
       "      <td>878</td>\n",
       "      <td>53.228621</td>\n",
       "      <td>372298</td>\n",
       "      <td>357703</td>\n",
       "      <td>14595</td>\n",
       "      <td>43953</td>\n",
       "      <td>3.920247</td>\n",
       "      <td>11.805865</td>\n",
       "      <td>0.235833</td>\n",
       "    </tr>\n",
       "  </tbody>\n",
       "</table>\n",
       "</div>"
      ],
      "text/plain": [
       "       소계       최근증가율     인구수     한국인    외국인    고령자     외국인비율      고령자비율  \\\n",
       "구별                                                                         \n",
       "강서구   911  134.793814  608255  601691   6564  76032  1.079153  12.500021   \n",
       "송파구  1081  104.347826  671173  664496   6677  76582  0.994825  11.410173   \n",
       "중랑구   916   79.960707  412780  408226   4554  59262  1.103251  14.356800   \n",
       "강동구  1010  166.490765  440359  436223   4136  56161  0.939234  12.753458   \n",
       "광진구   878   53.228621  372298  357703  14595  43953  3.920247  11.805865   \n",
       "\n",
       "       CCTV비율  \n",
       "구별             \n",
       "강서구  0.149773  \n",
       "송파구  0.161061  \n",
       "중랑구  0.221910  \n",
       "강동구  0.229358  \n",
       "광진구  0.235833  "
      ]
     },
     "execution_count": 134,
     "metadata": {},
     "output_type": "execute_result"
    }
   ],
   "source": [
    "data_result.sort_values(by=\"CCTV비율\", ascending=True).head()"
   ]
  },
  {
   "attachments": {},
   "cell_type": "markdown",
   "metadata": {},
   "source": [
    "## matplotlib 기초"
   ]
  },
  {
   "cell_type": "code",
   "execution_count": 135,
   "metadata": {},
   "outputs": [],
   "source": [
    "import matplotlib.pyplot as plt\n",
    "from matplotlib import rc\n",
    "\n",
    "rc(\"font\", family=\"Arial Unicode MS\")\n",
    "# %matplotlib inline\n",
    "get_ipython().run_line_magic(\"matplotlib\",\"inline\")"
   ]
  },
  {
   "attachments": {},
   "cell_type": "markdown",
   "metadata": {},
   "source": [
    "### matplotlib 그래프 기본 형태"
   ]
  },
  {
   "attachments": {},
   "cell_type": "markdown",
   "metadata": {},
   "source": [
    "- plt.figure(figsize=(10,6)) \n",
    "- plt.plot(x,y)\n",
    "- plt.show"
   ]
  },
  {
   "cell_type": "code",
   "execution_count": 137,
   "metadata": {},
   "outputs": [
    {
     "data": {
      "image/png": "[encoded data removed]",
      "text/plain": [
       "<Figure size 1000x600 with 1 Axes>"
      ]
     },
     "metadata": {},
     "output_type": "display_data"
    }
   ],
   "source": [
    "plt.figure(figsize=(10,6))\n",
    "plt.plot([0, 1, 2, 3, 4, 5, 6, 7, 8, 9],[1,1,2,3,4,2,3,5,-1,3])\n",
    "plt.show()"
   ]
  },
  {
   "attachments": {},
   "cell_type": "markdown",
   "metadata": {},
   "source": [
    "### 예제1: 그래프 기초"
   ]
  },
  {
   "attachments": {},
   "cell_type": "markdown",
   "metadata": {},
   "source": [
    "#### 삼각함수 그리기\n",
    "- np.arange(a,b,s):a부터 b까지 s의 간격\n",
    "- np.sin(value)"
   ]
  },
  {
   "cell_type": "code",
   "execution_count": 139,
   "metadata": {},
   "outputs": [],
   "source": [
    "import numpy as np\n",
    "\n",
    "t = np.arange(0,12, 0.01)\n",
    "y = np.sin(t)"
   ]
  },
  {
   "cell_type": "code",
   "execution_count": 141,
   "metadata": {},
   "outputs": [
    {
     "data": {
      "image/png": "[encoded data removed]",
      "text/plain": [
       "<Figure size 1000x600 with 1 Axes>"
      ]
     },
     "metadata": {},
     "output_type": "display_data"
    }
   ],
   "source": [
    "plt.figure(figsize=(10,6))\n",
    "plt.plot(t, np.sin(t))\n",
    "plt.plot(t, np.cos(t))\n",
    "plt.show()"
   ]
  },
  {
   "attachments": {},
   "cell_type": "markdown",
   "metadata": {},
   "source": [
    "- 1. 격자무늬 추가\n",
    "- 2. 그래프 제목 추가\n",
    "- 3. x축, y축 제목 추가\n",
    "- 4. 주황색, 파란색 선 데이터 의미 구분"
   ]
  },
  {
   "cell_type": "code",
   "execution_count": 142,
   "metadata": {},
   "outputs": [],
   "source": [
    "def drawGraph():\n",
    "    \n",
    "    plt.figure(figsize=(10,6))\n",
    "    plt.plot(t, np.sin(t), label=\"sin\")\n",
    "    plt.plot(t, np.cos(t), label=\"cos\")\n",
    "    plt.grid(True)\n",
    "    plt.legend(loc=2) #범례\n",
    "    plt.title(\"Example of sinewave\")\n",
    "    plt.xlabel(\"time\")\n",
    "    plt.ylabel(\"Amplitude\") #진폭\n",
    "    plt.show()"
   ]
  },
  {
   "cell_type": "code",
   "execution_count": 143,
   "metadata": {},
   "outputs": [
    {
     "data": {
      "image/png": "[encoded data removed]",
      "text/plain": [
       "<Figure size 1000x600 with 1 Axes>"
      ]
     },
     "metadata": {},
     "output_type": "display_data"
    }
   ],
   "source": [
    "drawGraph()"
   ]
  },
  {
   "attachments": {},
   "cell_type": "markdown",
   "metadata": {},
   "source": [
    "### 예제2: 그래프 커스텀"
   ]
  },
  {
   "cell_type": "code",
   "execution_count": 144,
   "metadata": {},
   "outputs": [
    {
     "data": {
      "text/plain": [
       "array([0. , 0.5, 1. , 1.5, 2. , 2.5, 3. , 3.5, 4. , 4.5])"
      ]
     },
     "execution_count": 144,
     "metadata": {},
     "output_type": "execute_result"
    }
   ],
   "source": [
    "t = np.arange(0, 5, 0.5)\n",
    "t"
   ]
  },
  {
   "cell_type": "code",
   "execution_count": 145,
   "metadata": {},
   "outputs": [
    {
     "data": {
      "image/png": "[encoded data removed]",
      "text/plain": [
       "<Figure size 1000x600 with 1 Axes>"
      ]
     },
     "metadata": {},
     "output_type": "display_data"
    }
   ],
   "source": [
    "plt.figure(figsize=(10,6))\n",
    "plt.plot(t, t, \"r--\") # red --\n",
    "plt.plot(t, t **2, \"bs\")\n",
    "plt.plot(t, t ** 3, \"g>\")\n",
    "plt.show()"
   ]
  },
  {
   "cell_type": "code",
   "execution_count": 146,
   "metadata": {},
   "outputs": [],
   "source": [
    "# t = [0, 1, 2, 3, 4, 5, 6]\n",
    "t = list(range(0,7))\n",
    "y = [1, 4, 5, 8, 9, 5 ,3]"
   ]
  },
  {
   "cell_type": "code",
   "execution_count": 148,
   "metadata": {},
   "outputs": [
    {
     "data": {
      "image/png": "[encoded data removed]",
      "text/plain": [
       "<Figure size 1000x600 with 1 Axes>"
      ]
     },
     "metadata": {},
     "output_type": "display_data"
    }
   ],
   "source": [
    "def drawGraph():\n",
    "    \n",
    "    plt.figure(figsize=(10,6))\n",
    "    plt.plot(\n",
    "        t,\n",
    "        y,\n",
    "        color = \"red\",\n",
    "        linestyle=\"--\",\n",
    "        marker=\"o\",\n",
    "        markerfacecolor=\"blue\",\n",
    "        markersize = 10,\n",
    "    )\n",
    "    \n",
    "    plt.xlim([-0.5, 6.5])\n",
    "    plt.ylim([0.5, 9.5])\n",
    "    plt.show()\n",
    "\n",
    "drawGraph()"
   ]
  },
  {
   "attachments": {},
   "cell_type": "markdown",
   "metadata": {},
   "source": [
    "### 예제3:scatter plot"
   ]
  },
  {
   "cell_type": "code",
   "execution_count": 149,
   "metadata": {},
   "outputs": [],
   "source": [
    "t = np.array(range(0,10))\n",
    "y = np.array([9,8,7,9,8,3,2,4,3,4])"
   ]
  },
  {
   "cell_type": "code",
   "execution_count": 150,
   "metadata": {},
   "outputs": [
    {
     "data": {
      "image/png": "[encoded data removed]",
      "text/plain": [
       "<Figure size 1000x600 with 1 Axes>"
      ]
     },
     "metadata": {},
     "output_type": "display_data"
    }
   ],
   "source": [
    "def drawGraph():\n",
    "    \n",
    "    plt.figure(figsize=(10,6))\n",
    "    plt.scatter(t,y)\n",
    "    plt.show()\n",
    "drawGraph()"
   ]
  },
  {
   "cell_type": "code",
   "execution_count": 151,
   "metadata": {},
   "outputs": [
    {
     "data": {
      "image/png": "[encoded data removed]",
      "text/plain": [
       "<Figure size 1000x600 with 2 Axes>"
      ]
     },
     "metadata": {},
     "output_type": "display_data"
    }
   ],
   "source": [
    "colormap = t\n",
    "\n",
    "def drawGraph():\n",
    "    \n",
    "    plt.figure(figsize=(10,6))\n",
    "    plt.scatter(t,y, s=150, c=colormap, marker=\"<\")\n",
    "    plt.colorbar()\n",
    "    plt.show()\n",
    "\n",
    "drawGraph()"
   ]
  },
  {
   "attachments": {},
   "cell_type": "markdown",
   "metadata": {},
   "source": [
    "### 예제4: Pandas에서 plot그리기\n",
    "- matplotlib을 가져와서 사용합니다"
   ]
  },
  {
   "cell_type": "code",
   "execution_count": 152,
   "metadata": {},
   "outputs": [
    {
     "data": {
      "text/html": [
       "<div>\n",
       "<style scoped>\n",
       "    .dataframe tbody tr th:only-of-type {\n",
       "        vertical-align: middle;\n",
       "    }\n",
       "\n",
       "    .dataframe tbody tr th {\n",
       "        vertical-align: top;\n",
       "    }\n",
       "\n",
       "    .dataframe thead th {\n",
       "        text-align: right;\n",
       "    }\n",
       "</style>\n",
       "<table border=\"1\" class=\"dataframe\">\n",
       "  <thead>\n",
       "    <tr style=\"text-align: right;\">\n",
       "      <th></th>\n",
       "      <th>소계</th>\n",
       "      <th>최근증가율</th>\n",
       "      <th>인구수</th>\n",
       "      <th>한국인</th>\n",
       "      <th>외국인</th>\n",
       "      <th>고령자</th>\n",
       "      <th>외국인비율</th>\n",
       "      <th>고령자비율</th>\n",
       "      <th>CCTV비율</th>\n",
       "    </tr>\n",
       "    <tr>\n",
       "      <th>구별</th>\n",
       "      <th></th>\n",
       "      <th></th>\n",
       "      <th></th>\n",
       "      <th></th>\n",
       "      <th></th>\n",
       "      <th></th>\n",
       "      <th></th>\n",
       "      <th></th>\n",
       "      <th></th>\n",
       "    </tr>\n",
       "  </thead>\n",
       "  <tbody>\n",
       "    <tr>\n",
       "      <th>강남구</th>\n",
       "      <td>3238</td>\n",
       "      <td>150.619195</td>\n",
       "      <td>561052</td>\n",
       "      <td>556164</td>\n",
       "      <td>4888</td>\n",
       "      <td>65060</td>\n",
       "      <td>0.871220</td>\n",
       "      <td>11.596073</td>\n",
       "      <td>0.577130</td>\n",
       "    </tr>\n",
       "    <tr>\n",
       "      <th>강동구</th>\n",
       "      <td>1010</td>\n",
       "      <td>166.490765</td>\n",
       "      <td>440359</td>\n",
       "      <td>436223</td>\n",
       "      <td>4136</td>\n",
       "      <td>56161</td>\n",
       "      <td>0.939234</td>\n",
       "      <td>12.753458</td>\n",
       "      <td>0.229358</td>\n",
       "    </tr>\n",
       "    <tr>\n",
       "      <th>강북구</th>\n",
       "      <td>831</td>\n",
       "      <td>125.203252</td>\n",
       "      <td>328002</td>\n",
       "      <td>324479</td>\n",
       "      <td>3523</td>\n",
       "      <td>56530</td>\n",
       "      <td>1.074079</td>\n",
       "      <td>17.234651</td>\n",
       "      <td>0.253352</td>\n",
       "    </tr>\n",
       "    <tr>\n",
       "      <th>강서구</th>\n",
       "      <td>911</td>\n",
       "      <td>134.793814</td>\n",
       "      <td>608255</td>\n",
       "      <td>601691</td>\n",
       "      <td>6564</td>\n",
       "      <td>76032</td>\n",
       "      <td>1.079153</td>\n",
       "      <td>12.500021</td>\n",
       "      <td>0.149773</td>\n",
       "    </tr>\n",
       "    <tr>\n",
       "      <th>관악구</th>\n",
       "      <td>2109</td>\n",
       "      <td>149.290780</td>\n",
       "      <td>520929</td>\n",
       "      <td>503297</td>\n",
       "      <td>17632</td>\n",
       "      <td>70046</td>\n",
       "      <td>3.384722</td>\n",
       "      <td>13.446362</td>\n",
       "      <td>0.404854</td>\n",
       "    </tr>\n",
       "  </tbody>\n",
       "</table>\n",
       "</div>"
      ],
      "text/plain": [
       "       소계       최근증가율     인구수     한국인    외국인    고령자     외국인비율      고령자비율  \\\n",
       "구별                                                                         \n",
       "강남구  3238  150.619195  561052  556164   4888  65060  0.871220  11.596073   \n",
       "강동구  1010  166.490765  440359  436223   4136  56161  0.939234  12.753458   \n",
       "강북구   831  125.203252  328002  324479   3523  56530  1.074079  17.234651   \n",
       "강서구   911  134.793814  608255  601691   6564  76032  1.079153  12.500021   \n",
       "관악구  2109  149.290780  520929  503297  17632  70046  3.384722  13.446362   \n",
       "\n",
       "       CCTV비율  \n",
       "구별             \n",
       "강남구  0.577130  \n",
       "강동구  0.229358  \n",
       "강북구  0.253352  \n",
       "강서구  0.149773  \n",
       "관악구  0.404854  "
      ]
     },
     "execution_count": 152,
     "metadata": {},
     "output_type": "execute_result"
    }
   ],
   "source": [
    "data_result.head()"
   ]
  },
  {
   "cell_type": "code",
   "execution_count": 153,
   "metadata": {},
   "outputs": [
    {
     "data": {
      "text/plain": [
       "<AxesSubplot: xlabel='구별'>"
      ]
     },
     "execution_count": 153,
     "metadata": {},
     "output_type": "execute_result"
    },
    {
     "data": {
      "image/png": "[encoded data removed]",
      "text/plain": [
       "<Figure size 1000x1000 with 1 Axes>"
      ]
     },
     "metadata": {},
     "output_type": "display_data"
    }
   ],
   "source": [
    "data_result[\"인구수\"].plot(kind=\"bar\", figsize=(10,10))"
   ]
  },
  {
   "cell_type": "code",
   "execution_count": 154,
   "metadata": {},
   "outputs": [
    {
     "data": {
      "text/plain": [
       "<AxesSubplot: ylabel='구별'>"
      ]
     },
     "execution_count": 154,
     "metadata": {},
     "output_type": "execute_result"
    },
    {
     "data": {
      "image/png": "[encoded data removed]",
      "text/plain": [
       "<Figure size 1000x1000 with 1 Axes>"
      ]
     },
     "metadata": {},
     "output_type": "display_data"
    }
   ],
   "source": [
    "data_result[\"인구수\"].plot(kind=\"barh\", figsize=(10,10))"
   ]
  },
  {
   "attachments": {},
   "cell_type": "markdown",
   "metadata": {},
   "source": [
    "---"
   ]
  },
  {
   "attachments": {},
   "cell_type": "markdown",
   "metadata": {},
   "source": [
    "## 5. 데이터 시각화"
   ]
  },
  {
   "cell_type": "code",
   "execution_count": 155,
   "metadata": {},
   "outputs": [],
   "source": [
    "import matplotlib.pyplot as plt\n",
    "# import matplotlin as mpl\n",
    "from matplotlib import rc\n",
    "\n",
    "plt.rcParams[\"axes.unicode_minus\"] = False\n",
    "rc(\"font\", family=\"Arial Unicode MS\")\n",
    "# %matplotlib inline\n",
    "get_ipython().run_line_magic(\"matplotlib\",\"inline\")"
   ]
  },
  {
   "cell_type": "code",
   "execution_count": 156,
   "metadata": {},
   "outputs": [
    {
     "data": {
      "text/html": [
       "<div>\n",
       "<style scoped>\n",
       "    .dataframe tbody tr th:only-of-type {\n",
       "        vertical-align: middle;\n",
       "    }\n",
       "\n",
       "    .dataframe tbody tr th {\n",
       "        vertical-align: top;\n",
       "    }\n",
       "\n",
       "    .dataframe thead th {\n",
       "        text-align: right;\n",
       "    }\n",
       "</style>\n",
       "<table border=\"1\" class=\"dataframe\">\n",
       "  <thead>\n",
       "    <tr style=\"text-align: right;\">\n",
       "      <th></th>\n",
       "      <th>소계</th>\n",
       "      <th>최근증가율</th>\n",
       "      <th>인구수</th>\n",
       "      <th>한국인</th>\n",
       "      <th>외국인</th>\n",
       "      <th>고령자</th>\n",
       "      <th>외국인비율</th>\n",
       "      <th>고령자비율</th>\n",
       "      <th>CCTV비율</th>\n",
       "    </tr>\n",
       "    <tr>\n",
       "      <th>구별</th>\n",
       "      <th></th>\n",
       "      <th></th>\n",
       "      <th></th>\n",
       "      <th></th>\n",
       "      <th></th>\n",
       "      <th></th>\n",
       "      <th></th>\n",
       "      <th></th>\n",
       "      <th></th>\n",
       "    </tr>\n",
       "  </thead>\n",
       "  <tbody>\n",
       "    <tr>\n",
       "      <th>강남구</th>\n",
       "      <td>3238</td>\n",
       "      <td>150.619195</td>\n",
       "      <td>561052</td>\n",
       "      <td>556164</td>\n",
       "      <td>4888</td>\n",
       "      <td>65060</td>\n",
       "      <td>0.871220</td>\n",
       "      <td>11.596073</td>\n",
       "      <td>0.577130</td>\n",
       "    </tr>\n",
       "    <tr>\n",
       "      <th>강동구</th>\n",
       "      <td>1010</td>\n",
       "      <td>166.490765</td>\n",
       "      <td>440359</td>\n",
       "      <td>436223</td>\n",
       "      <td>4136</td>\n",
       "      <td>56161</td>\n",
       "      <td>0.939234</td>\n",
       "      <td>12.753458</td>\n",
       "      <td>0.229358</td>\n",
       "    </tr>\n",
       "    <tr>\n",
       "      <th>강북구</th>\n",
       "      <td>831</td>\n",
       "      <td>125.203252</td>\n",
       "      <td>328002</td>\n",
       "      <td>324479</td>\n",
       "      <td>3523</td>\n",
       "      <td>56530</td>\n",
       "      <td>1.074079</td>\n",
       "      <td>17.234651</td>\n",
       "      <td>0.253352</td>\n",
       "    </tr>\n",
       "    <tr>\n",
       "      <th>강서구</th>\n",
       "      <td>911</td>\n",
       "      <td>134.793814</td>\n",
       "      <td>608255</td>\n",
       "      <td>601691</td>\n",
       "      <td>6564</td>\n",
       "      <td>76032</td>\n",
       "      <td>1.079153</td>\n",
       "      <td>12.500021</td>\n",
       "      <td>0.149773</td>\n",
       "    </tr>\n",
       "    <tr>\n",
       "      <th>관악구</th>\n",
       "      <td>2109</td>\n",
       "      <td>149.290780</td>\n",
       "      <td>520929</td>\n",
       "      <td>503297</td>\n",
       "      <td>17632</td>\n",
       "      <td>70046</td>\n",
       "      <td>3.384722</td>\n",
       "      <td>13.446362</td>\n",
       "      <td>0.404854</td>\n",
       "    </tr>\n",
       "  </tbody>\n",
       "</table>\n",
       "</div>"
      ],
      "text/plain": [
       "       소계       최근증가율     인구수     한국인    외국인    고령자     외국인비율      고령자비율  \\\n",
       "구별                                                                         \n",
       "강남구  3238  150.619195  561052  556164   4888  65060  0.871220  11.596073   \n",
       "강동구  1010  166.490765  440359  436223   4136  56161  0.939234  12.753458   \n",
       "강북구   831  125.203252  328002  324479   3523  56530  1.074079  17.234651   \n",
       "강서구   911  134.793814  608255  601691   6564  76032  1.079153  12.500021   \n",
       "관악구  2109  149.290780  520929  503297  17632  70046  3.384722  13.446362   \n",
       "\n",
       "       CCTV비율  \n",
       "구별             \n",
       "강남구  0.577130  \n",
       "강동구  0.229358  \n",
       "강북구  0.253352  \n",
       "강서구  0.149773  \n",
       "관악구  0.404854  "
      ]
     },
     "execution_count": 156,
     "metadata": {},
     "output_type": "execute_result"
    }
   ],
   "source": [
    "data_result.head()"
   ]
  },
  {
   "attachments": {},
   "cell_type": "markdown",
   "metadata": {},
   "source": [
    "### 소계 컬럼 시각화"
   ]
  },
  {
   "cell_type": "code",
   "execution_count": 157,
   "metadata": {},
   "outputs": [
    {
     "data": {
      "text/plain": [
       "<AxesSubplot: ylabel='구별'>"
      ]
     },
     "execution_count": 157,
     "metadata": {},
     "output_type": "execute_result"
    },
    {
     "data": {
      "image/png": "[encoded data removed]",
      "text/plain": [
       "<Figure size 1000x1000 with 1 Axes>"
      ]
     },
     "metadata": {},
     "output_type": "display_data"
    }
   ],
   "source": [
    "data_result[\"소계\"].plot(kind=\"barh\", grid=True, figsize=(10,10))"
   ]
  },
  {
   "cell_type": "code",
   "execution_count": 158,
   "metadata": {},
   "outputs": [
    {
     "data": {
      "image/png": "[encoded data removed]",
      "text/plain": [
       "<Figure size 1000x1000 with 1 Axes>"
      ]
     },
     "metadata": {},
     "output_type": "display_data"
    }
   ],
   "source": [
    "def drawGraph():\n",
    "    data_result[\"소계\"].sort_values().plot(\n",
    "        kind=\"barh\", grid=True, title=\"가장 CCTV가 많은 구\", figsize=(10,10))\n",
    "drawGraph()"
   ]
  },
  {
   "cell_type": "code",
   "execution_count": 159,
   "metadata": {},
   "outputs": [
    {
     "data": {
      "text/html": [
       "<div>\n",
       "<style scoped>\n",
       "    .dataframe tbody tr th:only-of-type {\n",
       "        vertical-align: middle;\n",
       "    }\n",
       "\n",
       "    .dataframe tbody tr th {\n",
       "        vertical-align: top;\n",
       "    }\n",
       "\n",
       "    .dataframe thead th {\n",
       "        text-align: right;\n",
       "    }\n",
       "</style>\n",
       "<table border=\"1\" class=\"dataframe\">\n",
       "  <thead>\n",
       "    <tr style=\"text-align: right;\">\n",
       "      <th></th>\n",
       "      <th>소계</th>\n",
       "      <th>최근증가율</th>\n",
       "      <th>인구수</th>\n",
       "      <th>한국인</th>\n",
       "      <th>외국인</th>\n",
       "      <th>고령자</th>\n",
       "      <th>외국인비율</th>\n",
       "      <th>고령자비율</th>\n",
       "      <th>CCTV비율</th>\n",
       "    </tr>\n",
       "    <tr>\n",
       "      <th>구별</th>\n",
       "      <th></th>\n",
       "      <th></th>\n",
       "      <th></th>\n",
       "      <th></th>\n",
       "      <th></th>\n",
       "      <th></th>\n",
       "      <th></th>\n",
       "      <th></th>\n",
       "      <th></th>\n",
       "    </tr>\n",
       "  </thead>\n",
       "  <tbody>\n",
       "    <tr>\n",
       "      <th>강남구</th>\n",
       "      <td>3238</td>\n",
       "      <td>150.619195</td>\n",
       "      <td>561052</td>\n",
       "      <td>556164</td>\n",
       "      <td>4888</td>\n",
       "      <td>65060</td>\n",
       "      <td>0.871220</td>\n",
       "      <td>11.596073</td>\n",
       "      <td>0.577130</td>\n",
       "    </tr>\n",
       "    <tr>\n",
       "      <th>강동구</th>\n",
       "      <td>1010</td>\n",
       "      <td>166.490765</td>\n",
       "      <td>440359</td>\n",
       "      <td>436223</td>\n",
       "      <td>4136</td>\n",
       "      <td>56161</td>\n",
       "      <td>0.939234</td>\n",
       "      <td>12.753458</td>\n",
       "      <td>0.229358</td>\n",
       "    </tr>\n",
       "    <tr>\n",
       "      <th>강북구</th>\n",
       "      <td>831</td>\n",
       "      <td>125.203252</td>\n",
       "      <td>328002</td>\n",
       "      <td>324479</td>\n",
       "      <td>3523</td>\n",
       "      <td>56530</td>\n",
       "      <td>1.074079</td>\n",
       "      <td>17.234651</td>\n",
       "      <td>0.253352</td>\n",
       "    </tr>\n",
       "    <tr>\n",
       "      <th>강서구</th>\n",
       "      <td>911</td>\n",
       "      <td>134.793814</td>\n",
       "      <td>608255</td>\n",
       "      <td>601691</td>\n",
       "      <td>6564</td>\n",
       "      <td>76032</td>\n",
       "      <td>1.079153</td>\n",
       "      <td>12.500021</td>\n",
       "      <td>0.149773</td>\n",
       "    </tr>\n",
       "    <tr>\n",
       "      <th>관악구</th>\n",
       "      <td>2109</td>\n",
       "      <td>149.290780</td>\n",
       "      <td>520929</td>\n",
       "      <td>503297</td>\n",
       "      <td>17632</td>\n",
       "      <td>70046</td>\n",
       "      <td>3.384722</td>\n",
       "      <td>13.446362</td>\n",
       "      <td>0.404854</td>\n",
       "    </tr>\n",
       "  </tbody>\n",
       "</table>\n",
       "</div>"
      ],
      "text/plain": [
       "       소계       최근증가율     인구수     한국인    외국인    고령자     외국인비율      고령자비율  \\\n",
       "구별                                                                         \n",
       "강남구  3238  150.619195  561052  556164   4888  65060  0.871220  11.596073   \n",
       "강동구  1010  166.490765  440359  436223   4136  56161  0.939234  12.753458   \n",
       "강북구   831  125.203252  328002  324479   3523  56530  1.074079  17.234651   \n",
       "강서구   911  134.793814  608255  601691   6564  76032  1.079153  12.500021   \n",
       "관악구  2109  149.290780  520929  503297  17632  70046  3.384722  13.446362   \n",
       "\n",
       "       CCTV비율  \n",
       "구별             \n",
       "강남구  0.577130  \n",
       "강동구  0.229358  \n",
       "강북구  0.253352  \n",
       "강서구  0.149773  \n",
       "관악구  0.404854  "
      ]
     },
     "execution_count": 159,
     "metadata": {},
     "output_type": "execute_result"
    }
   ],
   "source": [
    "data_result.head()"
   ]
  },
  {
   "attachments": {},
   "cell_type": "markdown",
   "metadata": {},
   "source": [
    "### CCTV비율 컬럼 시각화"
   ]
  },
  {
   "cell_type": "code",
   "execution_count": 160,
   "metadata": {},
   "outputs": [
    {
     "data": {
      "image/png": "[encoded data removed]",
      "text/plain": [
       "<Figure size 1000x1000 with 1 Axes>"
      ]
     },
     "metadata": {},
     "output_type": "display_data"
    }
   ],
   "source": [
    "def drawGraph():\n",
    "    data_result[\"CCTV비율\"].sort_values().plot(\n",
    "        kind=\"barh\", grid=True, title=\"가장 CCTV가 많은 구\", figsize=(10,10))\n",
    "drawGraph()"
   ]
  },
  {
   "attachments": {},
   "cell_type": "markdown",
   "metadata": {},
   "source": [
    "## 6. 데이터의 경향 표시"
   ]
  },
  {
   "cell_type": "code",
   "execution_count": 161,
   "metadata": {},
   "outputs": [
    {
     "data": {
      "text/html": [
       "<div>\n",
       "<style scoped>\n",
       "    .dataframe tbody tr th:only-of-type {\n",
       "        vertical-align: middle;\n",
       "    }\n",
       "\n",
       "    .dataframe tbody tr th {\n",
       "        vertical-align: top;\n",
       "    }\n",
       "\n",
       "    .dataframe thead th {\n",
       "        text-align: right;\n",
       "    }\n",
       "</style>\n",
       "<table border=\"1\" class=\"dataframe\">\n",
       "  <thead>\n",
       "    <tr style=\"text-align: right;\">\n",
       "      <th></th>\n",
       "      <th>소계</th>\n",
       "      <th>최근증가율</th>\n",
       "      <th>인구수</th>\n",
       "      <th>한국인</th>\n",
       "      <th>외국인</th>\n",
       "      <th>고령자</th>\n",
       "      <th>외국인비율</th>\n",
       "      <th>고령자비율</th>\n",
       "      <th>CCTV비율</th>\n",
       "    </tr>\n",
       "    <tr>\n",
       "      <th>구별</th>\n",
       "      <th></th>\n",
       "      <th></th>\n",
       "      <th></th>\n",
       "      <th></th>\n",
       "      <th></th>\n",
       "      <th></th>\n",
       "      <th></th>\n",
       "      <th></th>\n",
       "      <th></th>\n",
       "    </tr>\n",
       "  </thead>\n",
       "  <tbody>\n",
       "    <tr>\n",
       "      <th>강남구</th>\n",
       "      <td>3238</td>\n",
       "      <td>150.619195</td>\n",
       "      <td>561052</td>\n",
       "      <td>556164</td>\n",
       "      <td>4888</td>\n",
       "      <td>65060</td>\n",
       "      <td>0.871220</td>\n",
       "      <td>11.596073</td>\n",
       "      <td>0.577130</td>\n",
       "    </tr>\n",
       "    <tr>\n",
       "      <th>강동구</th>\n",
       "      <td>1010</td>\n",
       "      <td>166.490765</td>\n",
       "      <td>440359</td>\n",
       "      <td>436223</td>\n",
       "      <td>4136</td>\n",
       "      <td>56161</td>\n",
       "      <td>0.939234</td>\n",
       "      <td>12.753458</td>\n",
       "      <td>0.229358</td>\n",
       "    </tr>\n",
       "    <tr>\n",
       "      <th>강북구</th>\n",
       "      <td>831</td>\n",
       "      <td>125.203252</td>\n",
       "      <td>328002</td>\n",
       "      <td>324479</td>\n",
       "      <td>3523</td>\n",
       "      <td>56530</td>\n",
       "      <td>1.074079</td>\n",
       "      <td>17.234651</td>\n",
       "      <td>0.253352</td>\n",
       "    </tr>\n",
       "    <tr>\n",
       "      <th>강서구</th>\n",
       "      <td>911</td>\n",
       "      <td>134.793814</td>\n",
       "      <td>608255</td>\n",
       "      <td>601691</td>\n",
       "      <td>6564</td>\n",
       "      <td>76032</td>\n",
       "      <td>1.079153</td>\n",
       "      <td>12.500021</td>\n",
       "      <td>0.149773</td>\n",
       "    </tr>\n",
       "    <tr>\n",
       "      <th>관악구</th>\n",
       "      <td>2109</td>\n",
       "      <td>149.290780</td>\n",
       "      <td>520929</td>\n",
       "      <td>503297</td>\n",
       "      <td>17632</td>\n",
       "      <td>70046</td>\n",
       "      <td>3.384722</td>\n",
       "      <td>13.446362</td>\n",
       "      <td>0.404854</td>\n",
       "    </tr>\n",
       "  </tbody>\n",
       "</table>\n",
       "</div>"
      ],
      "text/plain": [
       "       소계       최근증가율     인구수     한국인    외국인    고령자     외국인비율      고령자비율  \\\n",
       "구별                                                                         \n",
       "강남구  3238  150.619195  561052  556164   4888  65060  0.871220  11.596073   \n",
       "강동구  1010  166.490765  440359  436223   4136  56161  0.939234  12.753458   \n",
       "강북구   831  125.203252  328002  324479   3523  56530  1.074079  17.234651   \n",
       "강서구   911  134.793814  608255  601691   6564  76032  1.079153  12.500021   \n",
       "관악구  2109  149.290780  520929  503297  17632  70046  3.384722  13.446362   \n",
       "\n",
       "       CCTV비율  \n",
       "구별             \n",
       "강남구  0.577130  \n",
       "강동구  0.229358  \n",
       "강북구  0.253352  \n",
       "강서구  0.149773  \n",
       "관악구  0.404854  "
      ]
     },
     "execution_count": 161,
     "metadata": {},
     "output_type": "execute_result"
    }
   ],
   "source": [
    "data_result.head()"
   ]
  },
  {
   "attachments": {},
   "cell_type": "markdown",
   "metadata": {},
   "source": [
    "### 인구수와 소계 컬럼으로 scatter plot 그리기"
   ]
  },
  {
   "cell_type": "code",
   "execution_count": 163,
   "metadata": {},
   "outputs": [
    {
     "data": {
      "image/png": "[encoded data removed]",
      "text/plain": [
       "<Figure size 1400x1000 with 1 Axes>"
      ]
     },
     "metadata": {},
     "output_type": "display_data"
    }
   ],
   "source": [
    "def drawGraph():\n",
    "    \n",
    "    plt.figure(figsize=(14,10))\n",
    "    plt.scatter(data_result[\"인구수\"], data_result[\"소계\"], s = 50)\n",
    "    plt.xlabel(\"인구수\")\n",
    "    plt.ylabel(\"CCTV\")\n",
    "    plt.grid(True)\n",
    "    plt.show()\n",
    "drawGraph()"
   ]
  },
  {
   "attachments": {},
   "cell_type": "markdown",
   "metadata": {},
   "source": [
    "### Numpy를 이용한 1차 직선 만들기\n",
    "- np.polyfit() : 직선을 구성하기 위한 계수를 계산\n",
    "- np.poly1d(): polyfit으로 찾은 계수로 파이썬에서 사용할 수 있는 함수로 만들어주는 기능"
   ]
  },
  {
   "cell_type": "code",
   "execution_count": 164,
   "metadata": {},
   "outputs": [
    {
     "data": {
      "text/plain": [
       "array([1.11155868e-03, 1.06515745e+03])"
      ]
     },
     "execution_count": 164,
     "metadata": {},
     "output_type": "execute_result"
    }
   ],
   "source": [
    "import numpy as np\n",
    "\n",
    "fp1 = np.polyfit(data_result[\"인구수\"], data_result[\"소계\"], 1)\n",
    "fp1"
   ]
  },
  {
   "cell_type": "code",
   "execution_count": 165,
   "metadata": {},
   "outputs": [
    {
     "data": {
      "text/plain": [
       "poly1d([1.11155868e-03, 1.06515745e+03])"
      ]
     },
     "execution_count": 165,
     "metadata": {},
     "output_type": "execute_result"
    }
   ],
   "source": [
    "f1 = np.poly1d(fp1)\n",
    "f1"
   ]
  },
  {
   "cell_type": "code",
   "execution_count": 166,
   "metadata": {},
   "outputs": [
    {
     "data": {
      "text/plain": [
       "1509.7809252413335"
      ]
     },
     "execution_count": 166,
     "metadata": {},
     "output_type": "execute_result"
    }
   ],
   "source": [
    "f1(400000)"
   ]
  },
  {
   "attachments": {},
   "cell_type": "markdown",
   "metadata": {},
   "source": [
    "- 인구가 40만인 구에서 서울시의 전체 경향에 맞는 적당한 CCTV수는?"
   ]
  },
  {
   "cell_type": "code",
   "execution_count": 167,
   "metadata": {},
   "outputs": [],
   "source": [
    "fx = np.linspace(100000, 700000, 100)"
   ]
  },
  {
   "attachments": {},
   "cell_type": "markdown",
   "metadata": {},
   "source": [
    "- 경향선을 그리기 위한 X 데이터 생성\n",
    "- np.linspace(a,b,n):a부터 b까지 n개의 등간격 데이터 생성"
   ]
  },
  {
   "cell_type": "code",
   "execution_count": 168,
   "metadata": {},
   "outputs": [
    {
     "data": {
      "image/png": "[encoded data removed]",
      "text/plain": [
       "<Figure size 1400x1000 with 1 Axes>"
      ]
     },
     "metadata": {},
     "output_type": "display_data"
    }
   ],
   "source": [
    "def drawGraph():\n",
    "    \n",
    "    plt.figure(figsize=(14,10))\n",
    "    plt.scatter(data_result[\"인구수\"], data_result[\"소계\"], s=50)\n",
    "    plt.plot(fx, f1(fx), ls=\"dashed\", lw=3, color=\"g\")\n",
    "    plt.xlabel(\"인구수\")\n",
    "    plt.ylabel(\"CCTV\")\n",
    "    plt.grid(True)\n",
    "    plt.show()\n",
    "drawGraph()"
   ]
  },
  {
   "attachments": {},
   "cell_type": "markdown",
   "metadata": {},
   "source": [
    "## 7. 강조하고 싶은 데이터를 시각화해보자"
   ]
  },
  {
   "attachments": {},
   "cell_type": "markdown",
   "metadata": {},
   "source": [
    "### 그래프 다듬기\n"
   ]
  },
  {
   "attachments": {},
   "cell_type": "markdown",
   "metadata": {},
   "source": [
    "#### 경향과의 오차 만들기\n",
    "- 경향(trend)과의 오차를 만들자\n",
    "- 경향은 f1 함수에 해당 인구를 입력\n",
    "- f1(data_result[\"인구수\"])"
   ]
  },
  {
   "cell_type": "code",
   "execution_count": 169,
   "metadata": {},
   "outputs": [],
   "source": [
    "fp1 = np.polyfit(data_result[\"인구수\"], data_result[\"소계\"], 1)\n",
    "f1 = np.poly1d(fp1)\n",
    "fx = np.linspace(100000, 700000, 100)"
   ]
  },
  {
   "cell_type": "code",
   "execution_count": 170,
   "metadata": {},
   "outputs": [
    {
     "data": {
      "text/html": [
       "<div>\n",
       "<style scoped>\n",
       "    .dataframe tbody tr th:only-of-type {\n",
       "        vertical-align: middle;\n",
       "    }\n",
       "\n",
       "    .dataframe tbody tr th {\n",
       "        vertical-align: top;\n",
       "    }\n",
       "\n",
       "    .dataframe thead th {\n",
       "        text-align: right;\n",
       "    }\n",
       "</style>\n",
       "<table border=\"1\" class=\"dataframe\">\n",
       "  <thead>\n",
       "    <tr style=\"text-align: right;\">\n",
       "      <th></th>\n",
       "      <th>소계</th>\n",
       "      <th>최근증가율</th>\n",
       "      <th>인구수</th>\n",
       "      <th>한국인</th>\n",
       "      <th>외국인</th>\n",
       "      <th>고령자</th>\n",
       "      <th>외국인비율</th>\n",
       "      <th>고령자비율</th>\n",
       "      <th>CCTV비율</th>\n",
       "    </tr>\n",
       "    <tr>\n",
       "      <th>구별</th>\n",
       "      <th></th>\n",
       "      <th></th>\n",
       "      <th></th>\n",
       "      <th></th>\n",
       "      <th></th>\n",
       "      <th></th>\n",
       "      <th></th>\n",
       "      <th></th>\n",
       "      <th></th>\n",
       "    </tr>\n",
       "  </thead>\n",
       "  <tbody>\n",
       "    <tr>\n",
       "      <th>강남구</th>\n",
       "      <td>3238</td>\n",
       "      <td>150.619195</td>\n",
       "      <td>561052</td>\n",
       "      <td>556164</td>\n",
       "      <td>4888</td>\n",
       "      <td>65060</td>\n",
       "      <td>0.871220</td>\n",
       "      <td>11.596073</td>\n",
       "      <td>0.577130</td>\n",
       "    </tr>\n",
       "    <tr>\n",
       "      <th>강동구</th>\n",
       "      <td>1010</td>\n",
       "      <td>166.490765</td>\n",
       "      <td>440359</td>\n",
       "      <td>436223</td>\n",
       "      <td>4136</td>\n",
       "      <td>56161</td>\n",
       "      <td>0.939234</td>\n",
       "      <td>12.753458</td>\n",
       "      <td>0.229358</td>\n",
       "    </tr>\n",
       "    <tr>\n",
       "      <th>강북구</th>\n",
       "      <td>831</td>\n",
       "      <td>125.203252</td>\n",
       "      <td>328002</td>\n",
       "      <td>324479</td>\n",
       "      <td>3523</td>\n",
       "      <td>56530</td>\n",
       "      <td>1.074079</td>\n",
       "      <td>17.234651</td>\n",
       "      <td>0.253352</td>\n",
       "    </tr>\n",
       "  </tbody>\n",
       "</table>\n",
       "</div>"
      ],
      "text/plain": [
       "       소계       최근증가율     인구수     한국인   외국인    고령자     외국인비율      고령자비율  \\\n",
       "구별                                                                        \n",
       "강남구  3238  150.619195  561052  556164  4888  65060  0.871220  11.596073   \n",
       "강동구  1010  166.490765  440359  436223  4136  56161  0.939234  12.753458   \n",
       "강북구   831  125.203252  328002  324479  3523  56530  1.074079  17.234651   \n",
       "\n",
       "       CCTV비율  \n",
       "구별             \n",
       "강남구  0.577130  \n",
       "강동구  0.229358  \n",
       "강북구  0.253352  "
      ]
     },
     "execution_count": 170,
     "metadata": {},
     "output_type": "execute_result"
    }
   ],
   "source": [
    "data_result.head(3)"
   ]
  },
  {
   "cell_type": "code",
   "execution_count": 171,
   "metadata": {},
   "outputs": [
    {
     "data": {
      "text/html": [
       "<div>\n",
       "<style scoped>\n",
       "    .dataframe tbody tr th:only-of-type {\n",
       "        vertical-align: middle;\n",
       "    }\n",
       "\n",
       "    .dataframe tbody tr th {\n",
       "        vertical-align: top;\n",
       "    }\n",
       "\n",
       "    .dataframe thead th {\n",
       "        text-align: right;\n",
       "    }\n",
       "</style>\n",
       "<table border=\"1\" class=\"dataframe\">\n",
       "  <thead>\n",
       "    <tr style=\"text-align: right;\">\n",
       "      <th></th>\n",
       "      <th>소계</th>\n",
       "      <th>최근증가율</th>\n",
       "      <th>인구수</th>\n",
       "      <th>한국인</th>\n",
       "      <th>외국인</th>\n",
       "      <th>고령자</th>\n",
       "      <th>외국인비율</th>\n",
       "      <th>고령자비율</th>\n",
       "      <th>CCTV비율</th>\n",
       "      <th>오차</th>\n",
       "    </tr>\n",
       "    <tr>\n",
       "      <th>구별</th>\n",
       "      <th></th>\n",
       "      <th></th>\n",
       "      <th></th>\n",
       "      <th></th>\n",
       "      <th></th>\n",
       "      <th></th>\n",
       "      <th></th>\n",
       "      <th></th>\n",
       "      <th></th>\n",
       "      <th></th>\n",
       "    </tr>\n",
       "  </thead>\n",
       "  <tbody>\n",
       "    <tr>\n",
       "      <th>강남구</th>\n",
       "      <td>3238</td>\n",
       "      <td>150.619195</td>\n",
       "      <td>561052</td>\n",
       "      <td>556164</td>\n",
       "      <td>4888</td>\n",
       "      <td>65060</td>\n",
       "      <td>0.87122</td>\n",
       "      <td>11.596073</td>\n",
       "      <td>0.57713</td>\n",
       "      <td>1549.200326</td>\n",
       "    </tr>\n",
       "  </tbody>\n",
       "</table>\n",
       "</div>"
      ],
      "text/plain": [
       "       소계       최근증가율     인구수     한국인   외국인    고령자    외국인비율      고령자비율  \\\n",
       "구별                                                                       \n",
       "강남구  3238  150.619195  561052  556164  4888  65060  0.87122  11.596073   \n",
       "\n",
       "      CCTV비율           오차  \n",
       "구별                         \n",
       "강남구  0.57713  1549.200326  "
      ]
     },
     "execution_count": 171,
     "metadata": {},
     "output_type": "execute_result"
    }
   ],
   "source": [
    "data_result[\"오차\"] = data_result[\"소계\"] - f1(data_result[\"인구수\"])\n",
    "data_result.head(1)"
   ]
  },
  {
   "cell_type": "code",
   "execution_count": 174,
   "metadata": {},
   "outputs": [],
   "source": [
    "# 경향과 비교해서 데이터의 오차가 너무 나는 데이터를 계산\n",
    "\n",
    "df_sort_f = data_result.sort_values(by=\"오차\", ascending=False) # 내림차순\n",
    "df_sort_t = data_result.sort_values(by=\"오차\", ascending=True) # 오름차순"
   ]
  },
  {
   "cell_type": "code",
   "execution_count": 175,
   "metadata": {},
   "outputs": [
    {
     "data": {
      "text/html": [
       "<div>\n",
       "<style scoped>\n",
       "    .dataframe tbody tr th:only-of-type {\n",
       "        vertical-align: middle;\n",
       "    }\n",
       "\n",
       "    .dataframe tbody tr th {\n",
       "        vertical-align: top;\n",
       "    }\n",
       "\n",
       "    .dataframe thead th {\n",
       "        text-align: right;\n",
       "    }\n",
       "</style>\n",
       "<table border=\"1\" class=\"dataframe\">\n",
       "  <thead>\n",
       "    <tr style=\"text-align: right;\">\n",
       "      <th></th>\n",
       "      <th>소계</th>\n",
       "      <th>최근증가율</th>\n",
       "      <th>인구수</th>\n",
       "      <th>한국인</th>\n",
       "      <th>외국인</th>\n",
       "      <th>고령자</th>\n",
       "      <th>외국인비율</th>\n",
       "      <th>고령자비율</th>\n",
       "      <th>CCTV비율</th>\n",
       "      <th>오차</th>\n",
       "    </tr>\n",
       "    <tr>\n",
       "      <th>구별</th>\n",
       "      <th></th>\n",
       "      <th></th>\n",
       "      <th></th>\n",
       "      <th></th>\n",
       "      <th></th>\n",
       "      <th></th>\n",
       "      <th></th>\n",
       "      <th></th>\n",
       "      <th></th>\n",
       "      <th></th>\n",
       "    </tr>\n",
       "  </thead>\n",
       "  <tbody>\n",
       "    <tr>\n",
       "      <th>강남구</th>\n",
       "      <td>3238</td>\n",
       "      <td>150.619195</td>\n",
       "      <td>561052</td>\n",
       "      <td>556164</td>\n",
       "      <td>4888</td>\n",
       "      <td>65060</td>\n",
       "      <td>0.871220</td>\n",
       "      <td>11.596073</td>\n",
       "      <td>0.577130</td>\n",
       "      <td>1549.200326</td>\n",
       "    </tr>\n",
       "    <tr>\n",
       "      <th>양천구</th>\n",
       "      <td>2482</td>\n",
       "      <td>34.671731</td>\n",
       "      <td>475018</td>\n",
       "      <td>471154</td>\n",
       "      <td>3864</td>\n",
       "      <td>55234</td>\n",
       "      <td>0.813443</td>\n",
       "      <td>11.627770</td>\n",
       "      <td>0.522507</td>\n",
       "      <td>888.832166</td>\n",
       "    </tr>\n",
       "    <tr>\n",
       "      <th>용산구</th>\n",
       "      <td>2096</td>\n",
       "      <td>53.216374</td>\n",
       "      <td>244444</td>\n",
       "      <td>229161</td>\n",
       "      <td>15283</td>\n",
       "      <td>36882</td>\n",
       "      <td>6.252148</td>\n",
       "      <td>15.088118</td>\n",
       "      <td>0.857456</td>\n",
       "      <td>759.128697</td>\n",
       "    </tr>\n",
       "    <tr>\n",
       "      <th>서초구</th>\n",
       "      <td>2297</td>\n",
       "      <td>63.371266</td>\n",
       "      <td>445401</td>\n",
       "      <td>441102</td>\n",
       "      <td>4299</td>\n",
       "      <td>53205</td>\n",
       "      <td>0.965198</td>\n",
       "      <td>11.945415</td>\n",
       "      <td>0.515715</td>\n",
       "      <td>736.753199</td>\n",
       "    </tr>\n",
       "    <tr>\n",
       "      <th>은평구</th>\n",
       "      <td>2108</td>\n",
       "      <td>85.237258</td>\n",
       "      <td>491202</td>\n",
       "      <td>486794</td>\n",
       "      <td>4408</td>\n",
       "      <td>74559</td>\n",
       "      <td>0.897390</td>\n",
       "      <td>15.178888</td>\n",
       "      <td>0.429151</td>\n",
       "      <td>496.842700</td>\n",
       "    </tr>\n",
       "  </tbody>\n",
       "</table>\n",
       "</div>"
      ],
      "text/plain": [
       "       소계       최근증가율     인구수     한국인    외국인    고령자     외국인비율      고령자비율  \\\n",
       "구별                                                                         \n",
       "강남구  3238  150.619195  561052  556164   4888  65060  0.871220  11.596073   \n",
       "양천구  2482   34.671731  475018  471154   3864  55234  0.813443  11.627770   \n",
       "용산구  2096   53.216374  244444  229161  15283  36882  6.252148  15.088118   \n",
       "서초구  2297   63.371266  445401  441102   4299  53205  0.965198  11.945415   \n",
       "은평구  2108   85.237258  491202  486794   4408  74559  0.897390  15.178888   \n",
       "\n",
       "       CCTV비율           오차  \n",
       "구별                          \n",
       "강남구  0.577130  1549.200326  \n",
       "양천구  0.522507   888.832166  \n",
       "용산구  0.857456   759.128697  \n",
       "서초구  0.515715   736.753199  \n",
       "은평구  0.429151   496.842700  "
      ]
     },
     "execution_count": 175,
     "metadata": {},
     "output_type": "execute_result"
    }
   ],
   "source": [
    "# 경향 대비 CCTV를 많이 가진 구\n",
    "df_sort_f.head()"
   ]
  },
  {
   "cell_type": "code",
   "execution_count": 176,
   "metadata": {},
   "outputs": [
    {
     "data": {
      "text/html": [
       "<div>\n",
       "<style scoped>\n",
       "    .dataframe tbody tr th:only-of-type {\n",
       "        vertical-align: middle;\n",
       "    }\n",
       "\n",
       "    .dataframe tbody tr th {\n",
       "        vertical-align: top;\n",
       "    }\n",
       "\n",
       "    .dataframe thead th {\n",
       "        text-align: right;\n",
       "    }\n",
       "</style>\n",
       "<table border=\"1\" class=\"dataframe\">\n",
       "  <thead>\n",
       "    <tr style=\"text-align: right;\">\n",
       "      <th></th>\n",
       "      <th>소계</th>\n",
       "      <th>최근증가율</th>\n",
       "      <th>인구수</th>\n",
       "      <th>한국인</th>\n",
       "      <th>외국인</th>\n",
       "      <th>고령자</th>\n",
       "      <th>외국인비율</th>\n",
       "      <th>고령자비율</th>\n",
       "      <th>CCTV비율</th>\n",
       "      <th>오차</th>\n",
       "    </tr>\n",
       "    <tr>\n",
       "      <th>구별</th>\n",
       "      <th></th>\n",
       "      <th></th>\n",
       "      <th></th>\n",
       "      <th></th>\n",
       "      <th></th>\n",
       "      <th></th>\n",
       "      <th></th>\n",
       "      <th></th>\n",
       "      <th></th>\n",
       "      <th></th>\n",
       "    </tr>\n",
       "  </thead>\n",
       "  <tbody>\n",
       "    <tr>\n",
       "      <th>강서구</th>\n",
       "      <td>911</td>\n",
       "      <td>134.793814</td>\n",
       "      <td>608255</td>\n",
       "      <td>601691</td>\n",
       "      <td>6564</td>\n",
       "      <td>76032</td>\n",
       "      <td>1.079153</td>\n",
       "      <td>12.500021</td>\n",
       "      <td>0.149773</td>\n",
       "      <td>-830.268578</td>\n",
       "    </tr>\n",
       "    <tr>\n",
       "      <th>송파구</th>\n",
       "      <td>1081</td>\n",
       "      <td>104.347826</td>\n",
       "      <td>671173</td>\n",
       "      <td>664496</td>\n",
       "      <td>6677</td>\n",
       "      <td>76582</td>\n",
       "      <td>0.994825</td>\n",
       "      <td>11.410173</td>\n",
       "      <td>0.161061</td>\n",
       "      <td>-730.205628</td>\n",
       "    </tr>\n",
       "    <tr>\n",
       "      <th>도봉구</th>\n",
       "      <td>825</td>\n",
       "      <td>246.638655</td>\n",
       "      <td>346234</td>\n",
       "      <td>344166</td>\n",
       "      <td>2068</td>\n",
       "      <td>53488</td>\n",
       "      <td>0.597284</td>\n",
       "      <td>15.448512</td>\n",
       "      <td>0.238278</td>\n",
       "      <td>-625.016861</td>\n",
       "    </tr>\n",
       "    <tr>\n",
       "      <th>중랑구</th>\n",
       "      <td>916</td>\n",
       "      <td>79.960707</td>\n",
       "      <td>412780</td>\n",
       "      <td>408226</td>\n",
       "      <td>4554</td>\n",
       "      <td>59262</td>\n",
       "      <td>1.103251</td>\n",
       "      <td>14.356800</td>\n",
       "      <td>0.221910</td>\n",
       "      <td>-607.986645</td>\n",
       "    </tr>\n",
       "    <tr>\n",
       "      <th>광진구</th>\n",
       "      <td>878</td>\n",
       "      <td>53.228621</td>\n",
       "      <td>372298</td>\n",
       "      <td>357703</td>\n",
       "      <td>14595</td>\n",
       "      <td>43953</td>\n",
       "      <td>3.920247</td>\n",
       "      <td>11.805865</td>\n",
       "      <td>0.235833</td>\n",
       "      <td>-600.988527</td>\n",
       "    </tr>\n",
       "  </tbody>\n",
       "</table>\n",
       "</div>"
      ],
      "text/plain": [
       "       소계       최근증가율     인구수     한국인    외국인    고령자     외국인비율      고령자비율  \\\n",
       "구별                                                                         \n",
       "강서구   911  134.793814  608255  601691   6564  76032  1.079153  12.500021   \n",
       "송파구  1081  104.347826  671173  664496   6677  76582  0.994825  11.410173   \n",
       "도봉구   825  246.638655  346234  344166   2068  53488  0.597284  15.448512   \n",
       "중랑구   916   79.960707  412780  408226   4554  59262  1.103251  14.356800   \n",
       "광진구   878   53.228621  372298  357703  14595  43953  3.920247  11.805865   \n",
       "\n",
       "       CCTV비율          오차  \n",
       "구별                         \n",
       "강서구  0.149773 -830.268578  \n",
       "송파구  0.161061 -730.205628  \n",
       "도봉구  0.238278 -625.016861  \n",
       "중랑구  0.221910 -607.986645  \n",
       "광진구  0.235833 -600.988527  "
      ]
     },
     "execution_count": 176,
     "metadata": {},
     "output_type": "execute_result"
    }
   ],
   "source": [
    "# 경향 대비 CCTV를 적게 가진 구\n",
    "df_sort_t.head()"
   ]
  },
  {
   "cell_type": "code",
   "execution_count": 177,
   "metadata": {},
   "outputs": [],
   "source": [
    "from matplotlib.colors import ListedColormap\n",
    "\n",
    "# colormap 을 사용자 정의(user define)로 세팅\n",
    "color_step = [\"#e74c3c\",\"#2ecc71\",\"#95a9a6\",\"#2ecc71\",\"#3498db\",\"#3498db\"]\n",
    "my_cmap = ListedColormap(color_step)"
   ]
  },
  {
   "cell_type": "code",
   "execution_count": 178,
   "metadata": {},
   "outputs": [
    {
     "data": {
      "image/png": "[encoded data removed]",
      "text/plain": [
       "<Figure size 1400x1000 with 2 Axes>"
      ]
     },
     "metadata": {},
     "output_type": "display_data"
    }
   ],
   "source": [
    "def drawGraph():\n",
    "    \n",
    "    plt.figure(figsize=(14,10))\n",
    "    plt.scatter(data_result[\"인구수\"],data_result[\"소계\"],s=50,c=data_result[\"오차\"],cmap=my_cmap)\n",
    "    plt.plot(fx,f1(fx), ls=\"dashed\",lw=3, color=\"g\")\n",
    "    \n",
    "    for n in range(5):\n",
    "        # 상위 5개\n",
    "        plt.text(\n",
    "            df_sort_f[\"인구수\"][n] * 1.02, # x 좌표\n",
    "            df_sort_f[\"소계\"][n] * 0.98, # y 좌표\n",
    "            df_sort_f.index[n], # title\n",
    "            fontsize=15,\n",
    "        )\n",
    "    \n",
    "        # 하위 5개\n",
    "        plt.text(\n",
    "            df_sort_t[\"인구수\"][n] * 1.02, # x 좌표\n",
    "            df_sort_t[\"소계\"][n] * 0.98, # y 좌표\n",
    "            df_sort_t.index[n], # title\n",
    "            fontsize=15,\n",
    "        )\n",
    "        \n",
    "    plt.text(df_sort_f[\"인구수\"][0] * 1.02, df_sort_f[\"소계\"][0]*0.98,df_sort_f.index[0], fontsize=15)\n",
    "    plt.xlabel(\"인구수\")\n",
    "    plt.ylabel(\"CCTV\")\n",
    "    plt.colorbar()\n",
    "    plt.grid(True)\n",
    "    plt.show()\n",
    "drawGraph()"
   ]
  },
  {
   "cell_type": "code",
   "execution_count": null,
   "metadata": {},
   "outputs": [],
   "source": [
    "# 데이터 저장\n",
    "data_result.to_csv(\"../data/01\", sep=\",\", encoding='utf-8')"
   ]
  }
 ],
 "metadata": {
  "kernelspec": {
   "display_name": "ds_study",
   "language": "python",
   "name": "python3"
  },
  "language_info": {
   "codemirror_mode": {
    "name": "ipython",
    "version": 3
   },
   "file_extension": ".py",
   "mimetype": "text/x-python",
   "name": "python",
   "nbconvert_exporter": "python",
   "pygments_lexer": "ipython3",
   "version": "3.8.16 (default, Jan 17 2023, 16:39:35) \n[Clang 14.0.6 ]"
  },
  "orig_nbformat": 4,
  "vscode": {
   "interpreter": {
    "hash": "86c036d9bab101f1437a871d339eac587fb8ec14172fb49533f4be7a2124a86a"
   }
  }
 },
 "nbformat": 4,
 "nbformat_minor": 2
}
